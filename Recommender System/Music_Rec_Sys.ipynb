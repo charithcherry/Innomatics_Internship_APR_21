{
  "nbformat": 4,
  "nbformat_minor": 0,
  "metadata": {
    "colab": {
      "name": "Music_Rec_Sys.ipynb",
      "provenance": [],
      "collapsed_sections": [],
      "include_colab_link": true
    },
    "kernelspec": {
      "name": "python3",
      "display_name": "Python 3"
    },
    "language_info": {
      "name": "python"
    },
    "accelerator": "GPU"
  },
  "cells": [
    {
      "cell_type": "markdown",
      "metadata": {
        "id": "view-in-github",
        "colab_type": "text"
      },
      "source": [
        "<a href=\"https://colab.research.google.com/github/charithcherry/Innomatics_Internship_APR_21/blob/main/Recommender%20System/Music_Rec_Sys.ipynb\" target=\"_parent\"><img src=\"https://colab.research.google.com/assets/colab-badge.svg\" alt=\"Open In Colab\"/></a>"
      ]
    },
    {
      "cell_type": "code",
      "metadata": {
        "id": "47Z3zp0tK-fe"
      },
      "source": [
        "import warnings\n",
        "warnings.filterwarnings('ignore')"
      ],
      "execution_count": 1,
      "outputs": []
    },
    {
      "cell_type": "code",
      "metadata": {
        "id": "PzvkgnCI8MbZ",
        "colab": {
          "base_uri": "https://localhost:8080/"
        },
        "outputId": "6e64d32d-024d-4018-de43-b75fb231a60d"
      },
      "source": [
        "from google.colab import drive\n",
        "drive.mount('/content/drive')"
      ],
      "execution_count": 2,
      "outputs": [
        {
          "output_type": "stream",
          "text": [
            "Mounted at /content/drive\n"
          ],
          "name": "stdout"
        }
      ]
    },
    {
      "cell_type": "code",
      "metadata": {
        "id": "Cd3JsOX48MX5",
        "colab": {
          "base_uri": "https://localhost:8080/"
        },
        "outputId": "f7ee73f8-d17b-4abf-be2f-7a26db894fd6"
      },
      "source": [
        "cd '/content/drive/MyDrive/musicdata/kaggle'\n"
      ],
      "execution_count": 3,
      "outputs": [
        {
          "output_type": "stream",
          "text": [
            "/content/drive/MyDrive/musicdata/kaggle\n"
          ],
          "name": "stdout"
        }
      ]
    },
    {
      "cell_type": "code",
      "metadata": {
        "id": "7nDBBNn88MVu",
        "colab": {
          "base_uri": "https://localhost:8080/"
        },
        "outputId": "f000bf04-9d62-43d2-aabd-8c390f62aadd"
      },
      "source": [
        "ls"
      ],
      "execution_count": 4,
      "outputs": [
        {
          "output_type": "stream",
          "text": [
            "kaggle_songs.txt                        MSDChallengeGettingstarted.pdf\n",
            "kaggle_users.txt                        taste_profile_song_to_tracks.txt\n",
            "kaggle_visible_evaluation_triplets.txt  unique_tracks.txt\n"
          ],
          "name": "stdout"
        }
      ]
    },
    {
      "cell_type": "code",
      "metadata": {
        "id": "0xj-NLfcOJmD"
      },
      "source": [
        "import numpy as np\n",
        "import pandas as pd\n",
        "import matplotlib.pyplot as plt\n",
        "import seaborn as sns"
      ],
      "execution_count": 5,
      "outputs": []
    },
    {
      "cell_type": "markdown",
      "metadata": {
        "id": "p78-ftXT_2e6"
      },
      "source": [
        "**VISIBLE EVALUTION TRIPLETS DATA**"
      ]
    },
    {
      "cell_type": "code",
      "metadata": {
        "colab": {
          "base_uri": "https://localhost:8080/",
          "height": 203
        },
        "id": "qd73mWnIOVS1",
        "outputId": "a4517170-37e3-4126-9c22-6e2333fd5b1c"
      },
      "source": [
        "triplets=pd.read_csv('kaggle_visible_evaluation_triplets.txt',sep='\\t',names=['user_id','song_id','freq'])\n",
        "triplets.head()"
      ],
      "execution_count": 7,
      "outputs": [
        {
          "output_type": "execute_result",
          "data": {
            "text/html": [
              "<div>\n",
              "<style scoped>\n",
              "    .dataframe tbody tr th:only-of-type {\n",
              "        vertical-align: middle;\n",
              "    }\n",
              "\n",
              "    .dataframe tbody tr th {\n",
              "        vertical-align: top;\n",
              "    }\n",
              "\n",
              "    .dataframe thead th {\n",
              "        text-align: right;\n",
              "    }\n",
              "</style>\n",
              "<table border=\"1\" class=\"dataframe\">\n",
              "  <thead>\n",
              "    <tr style=\"text-align: right;\">\n",
              "      <th></th>\n",
              "      <th>user_id</th>\n",
              "      <th>song_id</th>\n",
              "      <th>freq</th>\n",
              "    </tr>\n",
              "  </thead>\n",
              "  <tbody>\n",
              "    <tr>\n",
              "      <th>0</th>\n",
              "      <td>fd50c4007b68a3737fe052d5a4f78ce8aa117f3d</td>\n",
              "      <td>SOBONKR12A58A7A7E0</td>\n",
              "      <td>1</td>\n",
              "    </tr>\n",
              "    <tr>\n",
              "      <th>1</th>\n",
              "      <td>fd50c4007b68a3737fe052d5a4f78ce8aa117f3d</td>\n",
              "      <td>SOEGIYH12A6D4FC0E3</td>\n",
              "      <td>1</td>\n",
              "    </tr>\n",
              "    <tr>\n",
              "      <th>2</th>\n",
              "      <td>fd50c4007b68a3737fe052d5a4f78ce8aa117f3d</td>\n",
              "      <td>SOFLJQZ12A6D4FADA6</td>\n",
              "      <td>1</td>\n",
              "    </tr>\n",
              "    <tr>\n",
              "      <th>3</th>\n",
              "      <td>fd50c4007b68a3737fe052d5a4f78ce8aa117f3d</td>\n",
              "      <td>SOHTKMO12AB01843B0</td>\n",
              "      <td>1</td>\n",
              "    </tr>\n",
              "    <tr>\n",
              "      <th>4</th>\n",
              "      <td>fd50c4007b68a3737fe052d5a4f78ce8aa117f3d</td>\n",
              "      <td>SODQZCY12A6D4F9D11</td>\n",
              "      <td>1</td>\n",
              "    </tr>\n",
              "  </tbody>\n",
              "</table>\n",
              "</div>"
            ],
            "text/plain": [
              "                                    user_id             song_id  freq\n",
              "0  fd50c4007b68a3737fe052d5a4f78ce8aa117f3d  SOBONKR12A58A7A7E0     1\n",
              "1  fd50c4007b68a3737fe052d5a4f78ce8aa117f3d  SOEGIYH12A6D4FC0E3     1\n",
              "2  fd50c4007b68a3737fe052d5a4f78ce8aa117f3d  SOFLJQZ12A6D4FADA6     1\n",
              "3  fd50c4007b68a3737fe052d5a4f78ce8aa117f3d  SOHTKMO12AB01843B0     1\n",
              "4  fd50c4007b68a3737fe052d5a4f78ce8aa117f3d  SODQZCY12A6D4F9D11     1"
            ]
          },
          "metadata": {
            "tags": []
          },
          "execution_count": 7
        }
      ]
    },
    {
      "cell_type": "markdown",
      "metadata": {
        "id": "18LLL7fa871c"
      },
      "source": [
        "**DATA DESCRIPTION**"
      ]
    },
    {
      "cell_type": "code",
      "metadata": {
        "colab": {
          "base_uri": "https://localhost:8080/",
          "height": 295
        },
        "id": "2bMggQUfOtuU",
        "outputId": "455a2671-4798-444e-9736-0cbfae032bd6"
      },
      "source": [
        "triplets.describe()"
      ],
      "execution_count": 8,
      "outputs": [
        {
          "output_type": "execute_result",
          "data": {
            "text/html": [
              "<div>\n",
              "<style scoped>\n",
              "    .dataframe tbody tr th:only-of-type {\n",
              "        vertical-align: middle;\n",
              "    }\n",
              "\n",
              "    .dataframe tbody tr th {\n",
              "        vertical-align: top;\n",
              "    }\n",
              "\n",
              "    .dataframe thead th {\n",
              "        text-align: right;\n",
              "    }\n",
              "</style>\n",
              "<table border=\"1\" class=\"dataframe\">\n",
              "  <thead>\n",
              "    <tr style=\"text-align: right;\">\n",
              "      <th></th>\n",
              "      <th>freq</th>\n",
              "    </tr>\n",
              "  </thead>\n",
              "  <tbody>\n",
              "    <tr>\n",
              "      <th>count</th>\n",
              "      <td>1.450933e+06</td>\n",
              "    </tr>\n",
              "    <tr>\n",
              "      <th>mean</th>\n",
              "      <td>3.187149e+00</td>\n",
              "    </tr>\n",
              "    <tr>\n",
              "      <th>std</th>\n",
              "      <td>7.051664e+00</td>\n",
              "    </tr>\n",
              "    <tr>\n",
              "      <th>min</th>\n",
              "      <td>1.000000e+00</td>\n",
              "    </tr>\n",
              "    <tr>\n",
              "      <th>25%</th>\n",
              "      <td>1.000000e+00</td>\n",
              "    </tr>\n",
              "    <tr>\n",
              "      <th>50%</th>\n",
              "      <td>1.000000e+00</td>\n",
              "    </tr>\n",
              "    <tr>\n",
              "      <th>75%</th>\n",
              "      <td>3.000000e+00</td>\n",
              "    </tr>\n",
              "    <tr>\n",
              "      <th>max</th>\n",
              "      <td>9.230000e+02</td>\n",
              "    </tr>\n",
              "  </tbody>\n",
              "</table>\n",
              "</div>"
            ],
            "text/plain": [
              "               freq\n",
              "count  1.450933e+06\n",
              "mean   3.187149e+00\n",
              "std    7.051664e+00\n",
              "min    1.000000e+00\n",
              "25%    1.000000e+00\n",
              "50%    1.000000e+00\n",
              "75%    3.000000e+00\n",
              "max    9.230000e+02"
            ]
          },
          "metadata": {
            "tags": []
          },
          "execution_count": 8
        }
      ]
    },
    {
      "cell_type": "code",
      "metadata": {
        "id": "Cd0RQeN4AG2P",
        "colab": {
          "base_uri": "https://localhost:8080/"
        },
        "outputId": "755c969d-910d-4d93-9c07-e065c08a3237"
      },
      "source": [
        "triplets.shape"
      ],
      "execution_count": 9,
      "outputs": [
        {
          "output_type": "execute_result",
          "data": {
            "text/plain": [
              "(1450933, 3)"
            ]
          },
          "metadata": {
            "tags": []
          },
          "execution_count": 9
        }
      ]
    },
    {
      "cell_type": "code",
      "metadata": {
        "colab": {
          "base_uri": "https://localhost:8080/"
        },
        "id": "HPnWg0hiOwoM",
        "outputId": "6af048ed-d4fc-46f6-f1f2-f4eba452c080"
      },
      "source": [
        "triplets.info()"
      ],
      "execution_count": 10,
      "outputs": [
        {
          "output_type": "stream",
          "text": [
            "<class 'pandas.core.frame.DataFrame'>\n",
            "RangeIndex: 1450933 entries, 0 to 1450932\n",
            "Data columns (total 3 columns):\n",
            " #   Column   Non-Null Count    Dtype \n",
            "---  ------   --------------    ----- \n",
            " 0   user_id  1450933 non-null  object\n",
            " 1   song_id  1450933 non-null  object\n",
            " 2   freq     1450933 non-null  int64 \n",
            "dtypes: int64(1), object(2)\n",
            "memory usage: 33.2+ MB\n"
          ],
          "name": "stdout"
        }
      ]
    },
    {
      "cell_type": "markdown",
      "metadata": {
        "id": "Fb5lohcC_j_-"
      },
      "source": [
        "**NULL and DUPLICATE VALUES**"
      ]
    },
    {
      "cell_type": "code",
      "metadata": {
        "id": "5qcbrNgc-4HB",
        "colab": {
          "base_uri": "https://localhost:8080/"
        },
        "outputId": "7f3e5a34-9a3b-48f4-8f96-0f05f5dc2336"
      },
      "source": [
        "triplets.isnull().sum()"
      ],
      "execution_count": 11,
      "outputs": [
        {
          "output_type": "execute_result",
          "data": {
            "text/plain": [
              "user_id    0\n",
              "song_id    0\n",
              "freq       0\n",
              "dtype: int64"
            ]
          },
          "metadata": {
            "tags": []
          },
          "execution_count": 11
        }
      ]
    },
    {
      "cell_type": "code",
      "metadata": {
        "id": "mutb8xIECwr9",
        "colab": {
          "base_uri": "https://localhost:8080/"
        },
        "outputId": "4ddc58a0-320d-4e0f-d79e-466804272c86"
      },
      "source": [
        "sum(triplets.duplicated())"
      ],
      "execution_count": 12,
      "outputs": [
        {
          "output_type": "execute_result",
          "data": {
            "text/plain": [
              "0"
            ]
          },
          "metadata": {
            "tags": []
          },
          "execution_count": 12
        }
      ]
    },
    {
      "cell_type": "markdown",
      "metadata": {
        "id": "UHJuudlG_xGC"
      },
      "source": [
        "**UNIQUE TRACK DATA**"
      ]
    },
    {
      "cell_type": "code",
      "metadata": {
        "colab": {
          "base_uri": "https://localhost:8080/",
          "height": 203
        },
        "id": "YWfKgH6TOygr",
        "outputId": "4b5084f6-b77d-4185-fdf5-af8e99893224"
      },
      "source": [
        "tracks_df=pd.read_csv('unique_tracks.txt',sep='<SEP>',names=['track_id','song_id','artist_name','release'])\n",
        "tracks_df.head()"
      ],
      "execution_count": 13,
      "outputs": [
        {
          "output_type": "execute_result",
          "data": {
            "text/html": [
              "<div>\n",
              "<style scoped>\n",
              "    .dataframe tbody tr th:only-of-type {\n",
              "        vertical-align: middle;\n",
              "    }\n",
              "\n",
              "    .dataframe tbody tr th {\n",
              "        vertical-align: top;\n",
              "    }\n",
              "\n",
              "    .dataframe thead th {\n",
              "        text-align: right;\n",
              "    }\n",
              "</style>\n",
              "<table border=\"1\" class=\"dataframe\">\n",
              "  <thead>\n",
              "    <tr style=\"text-align: right;\">\n",
              "      <th></th>\n",
              "      <th>track_id</th>\n",
              "      <th>song_id</th>\n",
              "      <th>artist_name</th>\n",
              "      <th>release</th>\n",
              "    </tr>\n",
              "  </thead>\n",
              "  <tbody>\n",
              "    <tr>\n",
              "      <th>0</th>\n",
              "      <td>TRMMMYQ128F932D901</td>\n",
              "      <td>SOQMMHC12AB0180CB8</td>\n",
              "      <td>Faster Pussy cat</td>\n",
              "      <td>Silent Night</td>\n",
              "    </tr>\n",
              "    <tr>\n",
              "      <th>1</th>\n",
              "      <td>TRMMMKD128F425225D</td>\n",
              "      <td>SOVFVAK12A8C1350D9</td>\n",
              "      <td>Karkkiautomaatti</td>\n",
              "      <td>Tanssi vaan</td>\n",
              "    </tr>\n",
              "    <tr>\n",
              "      <th>2</th>\n",
              "      <td>TRMMMRX128F93187D9</td>\n",
              "      <td>SOGTUKN12AB017F4F1</td>\n",
              "      <td>Hudson Mohawke</td>\n",
              "      <td>No One Could Ever</td>\n",
              "    </tr>\n",
              "    <tr>\n",
              "      <th>3</th>\n",
              "      <td>TRMMMCH128F425532C</td>\n",
              "      <td>SOBNYVR12A8C13558C</td>\n",
              "      <td>Yerba Brava</td>\n",
              "      <td>Si Vos Querés</td>\n",
              "    </tr>\n",
              "    <tr>\n",
              "      <th>4</th>\n",
              "      <td>TRMMMWA128F426B589</td>\n",
              "      <td>SOHSBXH12A8C13B0DF</td>\n",
              "      <td>Der Mystic</td>\n",
              "      <td>Tangle Of Aspens</td>\n",
              "    </tr>\n",
              "  </tbody>\n",
              "</table>\n",
              "</div>"
            ],
            "text/plain": [
              "             track_id             song_id       artist_name            release\n",
              "0  TRMMMYQ128F932D901  SOQMMHC12AB0180CB8  Faster Pussy cat       Silent Night\n",
              "1  TRMMMKD128F425225D  SOVFVAK12A8C1350D9  Karkkiautomaatti        Tanssi vaan\n",
              "2  TRMMMRX128F93187D9  SOGTUKN12AB017F4F1    Hudson Mohawke  No One Could Ever\n",
              "3  TRMMMCH128F425532C  SOBNYVR12A8C13558C       Yerba Brava      Si Vos Querés\n",
              "4  TRMMMWA128F426B589  SOHSBXH12A8C13B0DF        Der Mystic   Tangle Of Aspens"
            ]
          },
          "metadata": {
            "tags": []
          },
          "execution_count": 13
        }
      ]
    },
    {
      "cell_type": "code",
      "metadata": {
        "colab": {
          "base_uri": "https://localhost:8080/"
        },
        "id": "02rlt2SZTdNI",
        "outputId": "1c1223d1-a1e5-494c-b44a-30295e46ba91"
      },
      "source": [
        "tracks_df.shape"
      ],
      "execution_count": 14,
      "outputs": [
        {
          "output_type": "execute_result",
          "data": {
            "text/plain": [
              "(1000000, 4)"
            ]
          },
          "metadata": {
            "tags": []
          },
          "execution_count": 14
        }
      ]
    },
    {
      "cell_type": "code",
      "metadata": {
        "colab": {
          "base_uri": "https://localhost:8080/",
          "height": 203
        },
        "id": "6NN_l3RYPhFZ",
        "outputId": "58f8744b-718b-49e9-c17f-9a751f79dd83"
      },
      "source": [
        "tracks_df.tail()"
      ],
      "execution_count": 15,
      "outputs": [
        {
          "output_type": "execute_result",
          "data": {
            "text/html": [
              "<div>\n",
              "<style scoped>\n",
              "    .dataframe tbody tr th:only-of-type {\n",
              "        vertical-align: middle;\n",
              "    }\n",
              "\n",
              "    .dataframe tbody tr th {\n",
              "        vertical-align: top;\n",
              "    }\n",
              "\n",
              "    .dataframe thead th {\n",
              "        text-align: right;\n",
              "    }\n",
              "</style>\n",
              "<table border=\"1\" class=\"dataframe\">\n",
              "  <thead>\n",
              "    <tr style=\"text-align: right;\">\n",
              "      <th></th>\n",
              "      <th>track_id</th>\n",
              "      <th>song_id</th>\n",
              "      <th>artist_name</th>\n",
              "      <th>release</th>\n",
              "    </tr>\n",
              "  </thead>\n",
              "  <tbody>\n",
              "    <tr>\n",
              "      <th>999995</th>\n",
              "      <td>TRYYYUS12903CD2DF0</td>\n",
              "      <td>SOTXAME12AB018F136</td>\n",
              "      <td>Kiko Navarro</td>\n",
              "      <td>O Samba Da Vida</td>\n",
              "    </tr>\n",
              "    <tr>\n",
              "      <th>999996</th>\n",
              "      <td>TRYYYJO128F426DA37</td>\n",
              "      <td>SOXQYIQ12A8C137FBB</td>\n",
              "      <td>Kuldeep Manak</td>\n",
              "      <td>Jago Chhadeo</td>\n",
              "    </tr>\n",
              "    <tr>\n",
              "      <th>999997</th>\n",
              "      <td>TRYYYMG128F4260ECA</td>\n",
              "      <td>SOHODZI12A8C137BB3</td>\n",
              "      <td>Gabriel Le Mar</td>\n",
              "      <td>Novemba</td>\n",
              "    </tr>\n",
              "    <tr>\n",
              "      <th>999998</th>\n",
              "      <td>TRYYYDJ128F9310A21</td>\n",
              "      <td>SOLXGOR12A81C21EB7</td>\n",
              "      <td>Elude</td>\n",
              "      <td>Faraday</td>\n",
              "    </tr>\n",
              "    <tr>\n",
              "      <th>999999</th>\n",
              "      <td>TRYYYVU12903CD01E3</td>\n",
              "      <td>SOWXJXQ12AB0189F43</td>\n",
              "      <td>Texta</td>\n",
              "      <td>Fernweh feat. Sektion Kuchikäschtli</td>\n",
              "    </tr>\n",
              "  </tbody>\n",
              "</table>\n",
              "</div>"
            ],
            "text/plain": [
              "                  track_id  ...                              release\n",
              "999995  TRYYYUS12903CD2DF0  ...                      O Samba Da Vida\n",
              "999996  TRYYYJO128F426DA37  ...                         Jago Chhadeo\n",
              "999997  TRYYYMG128F4260ECA  ...                              Novemba\n",
              "999998  TRYYYDJ128F9310A21  ...                              Faraday\n",
              "999999  TRYYYVU12903CD01E3  ...  Fernweh feat. Sektion Kuchikäschtli\n",
              "\n",
              "[5 rows x 4 columns]"
            ]
          },
          "metadata": {
            "tags": []
          },
          "execution_count": 15
        }
      ]
    },
    {
      "cell_type": "markdown",
      "metadata": {
        "id": "QEScPHN4DQy0"
      },
      "source": [
        "**NULL AND DUPLICATE VALUES**"
      ]
    },
    {
      "cell_type": "code",
      "metadata": {
        "colab": {
          "base_uri": "https://localhost:8080/"
        },
        "id": "N7TTnszFPpuQ",
        "outputId": "913f3660-af40-4bf4-d459-049b7b690e10"
      },
      "source": [
        "print(\"Number of null values \\n{}.\".format(tracks_df.isnull().sum()))"
      ],
      "execution_count": 16,
      "outputs": [
        {
          "output_type": "stream",
          "text": [
            "Number of null values \n",
            "track_id        0\n",
            "song_id         0\n",
            "artist_name     0\n",
            "release        15\n",
            "dtype: int64.\n"
          ],
          "name": "stdout"
        }
      ]
    },
    {
      "cell_type": "code",
      "metadata": {
        "id": "piqQgoJwDf_x",
        "colab": {
          "base_uri": "https://localhost:8080/"
        },
        "outputId": "7a686f0a-94e1-407c-ce38-4c3098de9828"
      },
      "source": [
        "print(\"Number of duplicate values {}\".format(sum(tracks_df.duplicated())))"
      ],
      "execution_count": 17,
      "outputs": [
        {
          "output_type": "stream",
          "text": [
            "Number of duplicate values 0\n"
          ],
          "name": "stdout"
        }
      ]
    },
    {
      "cell_type": "code",
      "metadata": {
        "id": "YSggFYWYRjry"
      },
      "source": [
        "detail_df=tracks_df.dropna()"
      ],
      "execution_count": 18,
      "outputs": []
    },
    {
      "cell_type": "code",
      "metadata": {
        "colab": {
          "base_uri": "https://localhost:8080/"
        },
        "id": "inO2z0qcUSjk",
        "outputId": "833b7431-56bb-4918-f9f5-5f8de3db05e3"
      },
      "source": [
        "detail_df.shape"
      ],
      "execution_count": 19,
      "outputs": [
        {
          "output_type": "execute_result",
          "data": {
            "text/plain": [
              "(999985, 4)"
            ]
          },
          "metadata": {
            "tags": []
          },
          "execution_count": 19
        }
      ]
    },
    {
      "cell_type": "code",
      "metadata": {
        "colab": {
          "base_uri": "https://localhost:8080/"
        },
        "id": "pWa1qVogUVZC",
        "outputId": "ed1b61d2-7cc9-43c7-8429-856c1765b67a"
      },
      "source": [
        "print(\"Number of Null values are \\n{}\".format(tracks_df.isnull().sum()))"
      ],
      "execution_count": 20,
      "outputs": [
        {
          "output_type": "stream",
          "text": [
            "Number of Null values are \n",
            "track_id        0\n",
            "song_id         0\n",
            "artist_name     0\n",
            "release        15\n",
            "dtype: int64\n"
          ],
          "name": "stdout"
        }
      ]
    },
    {
      "cell_type": "markdown",
      "metadata": {
        "id": "bbh-exczEJvn"
      },
      "source": [
        "#**MERGING DATAFRAMES**"
      ]
    },
    {
      "cell_type": "code",
      "metadata": {
        "colab": {
          "base_uri": "https://localhost:8080/",
          "height": 254
        },
        "id": "LLfBafeJmV6q",
        "outputId": "f8faa934-afb6-4d16-cd5b-95710cb0bc70"
      },
      "source": [
        "song_df=pd.merge(triplets, tracks_df.drop_duplicates(['song_id']), on='song_id', how='left')\n",
        "song_df.head()\n"
      ],
      "execution_count": 21,
      "outputs": [
        {
          "output_type": "execute_result",
          "data": {
            "text/html": [
              "<div>\n",
              "<style scoped>\n",
              "    .dataframe tbody tr th:only-of-type {\n",
              "        vertical-align: middle;\n",
              "    }\n",
              "\n",
              "    .dataframe tbody tr th {\n",
              "        vertical-align: top;\n",
              "    }\n",
              "\n",
              "    .dataframe thead th {\n",
              "        text-align: right;\n",
              "    }\n",
              "</style>\n",
              "<table border=\"1\" class=\"dataframe\">\n",
              "  <thead>\n",
              "    <tr style=\"text-align: right;\">\n",
              "      <th></th>\n",
              "      <th>user_id</th>\n",
              "      <th>song_id</th>\n",
              "      <th>freq</th>\n",
              "      <th>track_id</th>\n",
              "      <th>artist_name</th>\n",
              "      <th>release</th>\n",
              "    </tr>\n",
              "  </thead>\n",
              "  <tbody>\n",
              "    <tr>\n",
              "      <th>0</th>\n",
              "      <td>fd50c4007b68a3737fe052d5a4f78ce8aa117f3d</td>\n",
              "      <td>SOBONKR12A58A7A7E0</td>\n",
              "      <td>1</td>\n",
              "      <td>TRAEHHJ12903CF492F</td>\n",
              "      <td>Dwight Yoakam</td>\n",
              "      <td>You're The One</td>\n",
              "    </tr>\n",
              "    <tr>\n",
              "      <th>1</th>\n",
              "      <td>fd50c4007b68a3737fe052d5a4f78ce8aa117f3d</td>\n",
              "      <td>SOEGIYH12A6D4FC0E3</td>\n",
              "      <td>1</td>\n",
              "      <td>TRLGMFJ128F4217DBE</td>\n",
              "      <td>Barry Tuckwell/Academy of St Martin-in-the-Fie...</td>\n",
              "      <td>Horn Concerto No. 4 in E flat K495: II. Romanc...</td>\n",
              "    </tr>\n",
              "    <tr>\n",
              "      <th>2</th>\n",
              "      <td>fd50c4007b68a3737fe052d5a4f78ce8aa117f3d</td>\n",
              "      <td>SOFLJQZ12A6D4FADA6</td>\n",
              "      <td>1</td>\n",
              "      <td>TRTNDNE128F1486812</td>\n",
              "      <td>Cartola</td>\n",
              "      <td>Tive Sim</td>\n",
              "    </tr>\n",
              "    <tr>\n",
              "      <th>3</th>\n",
              "      <td>fd50c4007b68a3737fe052d5a4f78ce8aa117f3d</td>\n",
              "      <td>SOHTKMO12AB01843B0</td>\n",
              "      <td>1</td>\n",
              "      <td>TRASTUE128F930D488</td>\n",
              "      <td>Lonnie Gordon</td>\n",
              "      <td>Catch You Baby (Steve Pitron &amp; Max Sanna Radio...</td>\n",
              "    </tr>\n",
              "    <tr>\n",
              "      <th>4</th>\n",
              "      <td>fd50c4007b68a3737fe052d5a4f78ce8aa117f3d</td>\n",
              "      <td>SODQZCY12A6D4F9D11</td>\n",
              "      <td>1</td>\n",
              "      <td>TRFPLWO128F1486B9E</td>\n",
              "      <td>Miguel Calo</td>\n",
              "      <td>El Cuatrero</td>\n",
              "    </tr>\n",
              "  </tbody>\n",
              "</table>\n",
              "</div>"
            ],
            "text/plain": [
              "                                    user_id  ...                                            release\n",
              "0  fd50c4007b68a3737fe052d5a4f78ce8aa117f3d  ...                                     You're The One\n",
              "1  fd50c4007b68a3737fe052d5a4f78ce8aa117f3d  ...  Horn Concerto No. 4 in E flat K495: II. Romanc...\n",
              "2  fd50c4007b68a3737fe052d5a4f78ce8aa117f3d  ...                                           Tive Sim\n",
              "3  fd50c4007b68a3737fe052d5a4f78ce8aa117f3d  ...  Catch You Baby (Steve Pitron & Max Sanna Radio...\n",
              "4  fd50c4007b68a3737fe052d5a4f78ce8aa117f3d  ...                                        El Cuatrero\n",
              "\n",
              "[5 rows x 6 columns]"
            ]
          },
          "metadata": {
            "tags": []
          },
          "execution_count": 21
        }
      ]
    },
    {
      "cell_type": "code",
      "metadata": {
        "id": "n1Y5DeeJm7a_",
        "colab": {
          "base_uri": "https://localhost:8080/"
        },
        "outputId": "7694bde9-253d-4073-bfe4-fc2a06127af3"
      },
      "source": [
        "song_df.shape"
      ],
      "execution_count": 22,
      "outputs": [
        {
          "output_type": "execute_result",
          "data": {
            "text/plain": [
              "(1450933, 6)"
            ]
          },
          "metadata": {
            "tags": []
          },
          "execution_count": 22
        }
      ]
    },
    {
      "cell_type": "markdown",
      "metadata": {
        "id": "rJkb7i5Lq935"
      },
      "source": [
        "#**Basic Statistics**"
      ]
    },
    {
      "cell_type": "code",
      "metadata": {
        "id": "l34_uD-Iq6P2",
        "colab": {
          "base_uri": "https://localhost:8080/"
        },
        "outputId": "689ae345-48e5-48f8-8e50-29c9c9d9c7a6"
      },
      "source": [
        "print('Total Data Points',song_df.shape[0])\n",
        "print('Total NO of users',song_df['user_id'].unique().shape[0])\n",
        "print('Total number of songs',song_df['song_id'].unique().shape[0])\n",
        "print('Total number of Tracks',song_df['track_id'].unique().shape[0])\n"
      ],
      "execution_count": 23,
      "outputs": [
        {
          "output_type": "stream",
          "text": [
            "Total Data Points 1450933\n",
            "Total NO of users 110000\n",
            "Total number of songs 163206\n",
            "Total number of Tracks 163206\n"
          ],
          "name": "stdout"
        }
      ]
    },
    {
      "cell_type": "code",
      "metadata": {
        "id": "q6XGcAcuq6Cn",
        "colab": {
          "base_uri": "https://localhost:8080/"
        },
        "outputId": "fdfe2d86-30b3-4873-c793-d63a081c2722"
      },
      "source": [
        "print('Number of unique release',song_df['release'].unique().shape[0])\n",
        "print('Number of unique artists',song_df['artist_name'].unique().shape[0])"
      ],
      "execution_count": 24,
      "outputs": [
        {
          "output_type": "stream",
          "text": [
            "Number of unique release 137623\n",
            "Number of unique artists 28361\n"
          ],
          "name": "stdout"
        }
      ]
    },
    {
      "cell_type": "code",
      "metadata": {
        "id": "s6pN8sgOu8BM",
        "colab": {
          "base_uri": "https://localhost:8080/",
          "height": 295
        },
        "outputId": "917e526a-0492-42ea-eba9-e7f2f7f8037d"
      },
      "source": [
        "song_df.describe()"
      ],
      "execution_count": 25,
      "outputs": [
        {
          "output_type": "execute_result",
          "data": {
            "text/html": [
              "<div>\n",
              "<style scoped>\n",
              "    .dataframe tbody tr th:only-of-type {\n",
              "        vertical-align: middle;\n",
              "    }\n",
              "\n",
              "    .dataframe tbody tr th {\n",
              "        vertical-align: top;\n",
              "    }\n",
              "\n",
              "    .dataframe thead th {\n",
              "        text-align: right;\n",
              "    }\n",
              "</style>\n",
              "<table border=\"1\" class=\"dataframe\">\n",
              "  <thead>\n",
              "    <tr style=\"text-align: right;\">\n",
              "      <th></th>\n",
              "      <th>freq</th>\n",
              "    </tr>\n",
              "  </thead>\n",
              "  <tbody>\n",
              "    <tr>\n",
              "      <th>count</th>\n",
              "      <td>1.450933e+06</td>\n",
              "    </tr>\n",
              "    <tr>\n",
              "      <th>mean</th>\n",
              "      <td>3.187149e+00</td>\n",
              "    </tr>\n",
              "    <tr>\n",
              "      <th>std</th>\n",
              "      <td>7.051664e+00</td>\n",
              "    </tr>\n",
              "    <tr>\n",
              "      <th>min</th>\n",
              "      <td>1.000000e+00</td>\n",
              "    </tr>\n",
              "    <tr>\n",
              "      <th>25%</th>\n",
              "      <td>1.000000e+00</td>\n",
              "    </tr>\n",
              "    <tr>\n",
              "      <th>50%</th>\n",
              "      <td>1.000000e+00</td>\n",
              "    </tr>\n",
              "    <tr>\n",
              "      <th>75%</th>\n",
              "      <td>3.000000e+00</td>\n",
              "    </tr>\n",
              "    <tr>\n",
              "      <th>max</th>\n",
              "      <td>9.230000e+02</td>\n",
              "    </tr>\n",
              "  </tbody>\n",
              "</table>\n",
              "</div>"
            ],
            "text/plain": [
              "               freq\n",
              "count  1.450933e+06\n",
              "mean   3.187149e+00\n",
              "std    7.051664e+00\n",
              "min    1.000000e+00\n",
              "25%    1.000000e+00\n",
              "50%    1.000000e+00\n",
              "75%    3.000000e+00\n",
              "max    9.230000e+02"
            ]
          },
          "metadata": {
            "tags": []
          },
          "execution_count": 25
        }
      ]
    },
    {
      "cell_type": "markdown",
      "metadata": {
        "id": "I7HLQCKNvMRx"
      },
      "source": [
        "# Distribution of Frequency column"
      ]
    },
    {
      "cell_type": "code",
      "metadata": {
        "id": "kvvZLNZdu78y",
        "colab": {
          "base_uri": "https://localhost:8080/",
          "height": 296
        },
        "outputId": "24cda5e7-e7eb-4687-8689-8dcf6cd784d0"
      },
      "source": [
        "sns.kdeplot(data=song_df, x=\"freq\")"
      ],
      "execution_count": 26,
      "outputs": [
        {
          "output_type": "execute_result",
          "data": {
            "text/plain": [
              "<matplotlib.axes._subplots.AxesSubplot at 0x7f3591633bd0>"
            ]
          },
          "metadata": {
            "tags": []
          },
          "execution_count": 26
        },
        {
          "output_type": "display_data",
          "data": {
            "image/png": "[encoded data removed]",
            "text/plain": [
              "<Figure size 432x288 with 1 Axes>"
            ]
          },
          "metadata": {
            "tags": [],
            "needs_background": "light"
          }
        }
      ]
    },
    {
      "cell_type": "markdown",
      "metadata": {
        "id": "-OSiGZ12vWOE"
      },
      "source": [
        "# Number of songs listened per user"
      ]
    },
    {
      "cell_type": "code",
      "metadata": {
        "id": "_-pvkKELu77C"
      },
      "source": [
        "#groupby code\n",
        "#using user_id,song_id\n",
        "songs_per_user=song_df.groupby(['user_id'])['user_id'].value_counts()\n"
      ],
      "execution_count": 27,
      "outputs": []
    },
    {
      "cell_type": "code",
      "metadata": {
        "id": "KtE6jNMOu71G",
        "colab": {
          "base_uri": "https://localhost:8080/"
        },
        "outputId": "8782a7ba-f61d-4ea1-b746-1455071f8cc9"
      },
      "source": [
        "songs_per_user"
      ],
      "execution_count": 28,
      "outputs": [
        {
          "output_type": "execute_result",
          "data": {
            "text/plain": [
              "user_id                                   user_id                                 \n",
              "00007a02388c208ea7176479f6ae06f8224355b3  00007a02388c208ea7176479f6ae06f8224355b3     9\n",
              "00014a76ed063e1a749171a253bca9d9a0ff1782  00014a76ed063e1a749171a253bca9d9a0ff1782    11\n",
              "00015189668691680bb1a2e58afde1541ec92ced  00015189668691680bb1a2e58afde1541ec92ced    17\n",
              "0001ff7aa2667c8d8b945317b88adaed1c0b9dc2  0001ff7aa2667c8d8b945317b88adaed1c0b9dc2     9\n",
              "00020fcd8b01986a6a85b896ccde6c49f35142ad  00020fcd8b01986a6a85b896ccde6c49f35142ad    32\n",
              "                                                                                      ..\n",
              "fffdef71f13352e9cff769f1d96f5ccf90f8955e  fffdef71f13352e9cff769f1d96f5ccf90f8955e     7\n",
              "fffe29116f96c97b47a5dabdd406784ad0ba6f30  fffe29116f96c97b47a5dabdd406784ad0ba6f30     6\n",
              "fffe5b73c50c72ca9c54947efac1fcacf59c4a17  fffe5b73c50c72ca9c54947efac1fcacf59c4a17    23\n",
              "fffed0bee753cd78494011b8b55dafd4f5c7e5ff  fffed0bee753cd78494011b8b55dafd4f5c7e5ff    13\n",
              "ffff07d7d9bb187aa58c7b81b3d3f35e7cf7c0ee  ffff07d7d9bb187aa58c7b81b3d3f35e7cf7c0ee    13\n",
              "Name: user_id, Length: 110000, dtype: int64"
            ]
          },
          "metadata": {
            "tags": []
          },
          "execution_count": 28
        }
      ]
    },
    {
      "cell_type": "code",
      "metadata": {
        "id": "7wp8-7ndu7zj",
        "colab": {
          "base_uri": "https://localhost:8080/"
        },
        "outputId": "ef5de348-389a-4906-899b-ec218e480c77"
      },
      "source": [
        "songs_per_user.sort_values().head()"
      ],
      "execution_count": 29,
      "outputs": [
        {
          "output_type": "execute_result",
          "data": {
            "text/plain": [
              "user_id                                   user_id                                 \n",
              "336c306c5df497a9cb4067c14d5b840ba1a1e272  336c306c5df497a9cb4067c14d5b840ba1a1e272    5\n",
              "47b83637c7726c40218552445e1dc9b906f0ad6d  47b83637c7726c40218552445e1dc9b906f0ad6d    5\n",
              "5519a61514f2248435a70afad322568c1a1173eb  5519a61514f2248435a70afad322568c1a1173eb    5\n",
              "ae7a9eaf03f35908b8ffc420241f99e9c6057bf2  ae7a9eaf03f35908b8ffc420241f99e9c6057bf2    5\n",
              "18cb5d68334667324a9bac0a66f6579f34f43a31  18cb5d68334667324a9bac0a66f6579f34f43a31    5\n",
              "Name: user_id, dtype: int64"
            ]
          },
          "metadata": {
            "tags": []
          },
          "execution_count": 29
        }
      ]
    },
    {
      "cell_type": "code",
      "metadata": {
        "id": "T6KhKoCLcAr0",
        "colab": {
          "base_uri": "https://localhost:8080/"
        },
        "outputId": "47787e6c-d614-46a6-a856-06baae2ffa9b"
      },
      "source": [
        "songs_per_user.sort_values().tail()"
      ],
      "execution_count": 30,
      "outputs": [
        {
          "output_type": "execute_result",
          "data": {
            "text/plain": [
              "user_id                                   user_id                                 \n",
              "0f8308935bcbb9a1e04ebb7c4d41c037e5f23b90  0f8308935bcbb9a1e04ebb7c4d41c037e5f23b90    52\n",
              "03ad93fdb01506ce205f4708decf8e4b1ae90fff  03ad93fdb01506ce205f4708decf8e4b1ae90fff    52\n",
              "016a24e91a72c159a5048ab1b9b2ba5ce761b526  016a24e91a72c159a5048ab1b9b2ba5ce761b526    52\n",
              "d30e18323f15426c3cdc8585252ed34459916f51  d30e18323f15426c3cdc8585252ed34459916f51    52\n",
              "7d90be8dfdbde170f036ce8a4b915440137cb11c  7d90be8dfdbde170f036ce8a4b915440137cb11c    53\n",
              "Name: user_id, dtype: int64"
            ]
          },
          "metadata": {
            "tags": []
          },
          "execution_count": 30
        }
      ]
    },
    {
      "cell_type": "code",
      "metadata": {
        "id": "N9O-JEklu7ug",
        "colab": {
          "base_uri": "https://localhost:8080/"
        },
        "outputId": "8e00e4e8-8829-4f72-b66a-6acecb161902"
      },
      "source": [
        "songs_per_user.describe()"
      ],
      "execution_count": 31,
      "outputs": [
        {
          "output_type": "execute_result",
          "data": {
            "text/plain": [
              "count    110000.000000\n",
              "mean         13.190300\n",
              "std           8.070827\n",
              "min           5.000000\n",
              "25%           7.000000\n",
              "50%          11.000000\n",
              "75%          17.000000\n",
              "max          53.000000\n",
              "Name: user_id, dtype: float64"
            ]
          },
          "metadata": {
            "tags": []
          },
          "execution_count": 31
        }
      ]
    },
    {
      "cell_type": "code",
      "metadata": {
        "id": "KqSElUxvu7tF",
        "colab": {
          "base_uri": "https://localhost:8080/",
          "height": 279
        },
        "outputId": "c3518c4d-6874-466b-b07d-335b00afb9e5"
      },
      "source": [
        "plt.xlabel('Number of songs per user')\n",
        "sns.kdeplot(songs_per_user)\n",
        "plt.show()"
      ],
      "execution_count": 32,
      "outputs": [
        {
          "output_type": "display_data",
          "data": {
            "image/png": "[encoded data removed]",
            "text/plain": [
              "<Figure size 432x288 with 1 Axes>"
            ]
          },
          "metadata": {
            "tags": [],
            "needs_background": "light"
          }
        }
      ]
    },
    {
      "cell_type": "markdown",
      "metadata": {
        "id": "bOT2nvbWwYNr"
      },
      "source": [
        "# Analysis of popular artist"
      ]
    },
    {
      "cell_type": "code",
      "metadata": {
        "id": "5ORZzCqlu7oN"
      },
      "source": [
        "#group by\n",
        "#artistname and userid\n",
        "artist_popularity=song_df.groupby(['artist_name'])['artist_name'].value_counts()\n"
      ],
      "execution_count": 33,
      "outputs": []
    },
    {
      "cell_type": "code",
      "metadata": {
        "id": "BVUTpTGBu7ma",
        "colab": {
          "base_uri": "https://localhost:8080/"
        },
        "outputId": "99272905-ecd5-4a84-9a2b-08d10a76ce07"
      },
      "source": [
        "artist_popularity.sort_values().head()"
      ],
      "execution_count": 34,
      "outputs": [
        {
          "output_type": "execute_result",
          "data": {
            "text/plain": [
              "artist_name                    artist_name                  \n",
              "Özlem Tekin                    Özlem Tekin                      1\n",
              "Chris Connelly and the Bells   Chris Connelly and the Bells     1\n",
              "Mad Professor / Mafia & Fluxy  Mad Professor / Mafia & Fluxy    1\n",
              "Maddox Brothers & Rose         Maddox Brothers & Rose           1\n",
              "Madreblu                       Madreblu                         1\n",
              "Name: artist_name, dtype: int64"
            ]
          },
          "metadata": {
            "tags": []
          },
          "execution_count": 34
        }
      ]
    },
    {
      "cell_type": "code",
      "metadata": {
        "id": "7Atnb6jbu7gv",
        "colab": {
          "base_uri": "https://localhost:8080/"
        },
        "outputId": "e2926fb5-d92b-4924-9d3a-eed39e0fbf25"
      },
      "source": [
        "artist_popularity.sort_values().tail()"
      ],
      "execution_count": 35,
      "outputs": [
        {
          "output_type": "execute_result",
          "data": {
            "text/plain": [
              "artist_name             artist_name           \n",
              "Jack Johnson            Jack Johnson               6784\n",
              "Justin Bieber           Justin Bieber              7669\n",
              "Florence + The Machine  Florence + The Machine     8213\n",
              "Kings Of Leon           Kings Of Leon              8514\n",
              "Coldplay                Coldplay                  12279\n",
              "Name: artist_name, dtype: int64"
            ]
          },
          "metadata": {
            "tags": []
          },
          "execution_count": 35
        }
      ]
    },
    {
      "cell_type": "code",
      "metadata": {
        "id": "-9RkOvgRu7fP",
        "colab": {
          "base_uri": "https://localhost:8080/"
        },
        "outputId": "5fd0173a-f5b9-411f-dbd1-9b588fb4fde9"
      },
      "source": [
        "# looking at cold play releases\n",
        "song_df[song_df['artist_name']=='Coldplay']['release'].unique()"
      ],
      "execution_count": 36,
      "outputs": [
        {
          "output_type": "execute_result",
          "data": {
            "text/plain": [
              "array(['Yellow', 'The Scientist', 'Fix You', \"Don't Panic\", 'Sparks',\n",
              "       'Clocks', 'Life In Technicolor ii', 'Such A Rush',\n",
              "       'Fix You (Live)', 'Speed Of Sound', 'Lost!',\n",
              "       'God Put A Smile Upon Your Face', 'Brothers & Sisters',\n",
              "       'A Rush Of Blood To The Head', 'Clocks (Live In Sydney)',\n",
              "       'One I Love', 'For You', 'You Only Live Twice (Live From Norway)',\n",
              "       'Shiver', 'Swallowed In The Sea', 'In My Place',\n",
              "       'Postcards From Far Away', 'Glass Of Water',\n",
              "       \"Things I Don't Understand\", 'Strawberry Swing', '42',\n",
              "       'Til Kingdom Come', 'The Goldrush', 'X & Y', 'Life In Technicolor',\n",
              "       'We Never Change', 'Bigger Stronger', 'What If', 'Trouble',\n",
              "       \"Everything's Not Lost (Includes Hidden Track 'Life Is For Living')\",\n",
              "       'Only Superstition', 'Politik', 'Careful Where You Stand',\n",
              "       'Warning Sign', 'See You Soon', 'Spies', 'Cemeteries Of London',\n",
              "       'A Whisper', 'A Message', 'Square One', 'Low', 'I Bloom Blaum',\n",
              "       'I Ran Away', 'The World Turned Upside Down',\n",
              "       'Talk (Junkie XL Remix)', 'Help Is Round The Corner', 'Daylight',\n",
              "       'Yes', 'High Speed', \"Now My Feet Won't Touch The Ground\",\n",
              "       'Twisted Logic', 'Violet Hill', 'White Shadows',\n",
              "       'See You Soon (Live In Sydney)', 'Proof', 'Amsterdam', '1.36',\n",
              "       'Shiver (Live In Sydney)',\n",
              "       \"Everything's Not Lost (Live In Sydney)\",\n",
              "       'A Rush Of Blood To The Head (Live In Sydney)',\n",
              "       'Yellow (Live In Sydney)', 'Talk (Francois K Dub)', 'Sleeping Sun',\n",
              "       'Pour Me (Live At The Hollywood Bowl)', 'Lost?',\n",
              "       'Moses (Live In Sydney)',\n",
              "       'Life In Technicolor ii (Live @ The O2_ London)',\n",
              "       'In My Place (Live In Sydney)', 'Talk (Thin White Duke Mix)',\n",
              "       'Speed Of Sound (Live)', 'Amsterdam (Live In Sydney)'],\n",
              "      dtype=object)"
            ]
          },
          "metadata": {
            "tags": []
          },
          "execution_count": 36
        }
      ]
    },
    {
      "cell_type": "code",
      "metadata": {
        "id": "t5JFWUTUu7aC",
        "colab": {
          "base_uri": "https://localhost:8080/"
        },
        "outputId": "04f82f1d-aed4-406b-87a1-c71282a60b77"
      },
      "source": [
        "# looking at justin beiber releases\n",
        "song_df[song_df['artist_name']=='Justin Bieber']['release'].unique()"
      ],
      "execution_count": 37,
      "outputs": [
        {
          "output_type": "execute_result",
          "data": {
            "text/plain": [
              "array(['Somebody To Love', 'Down To Earth', 'One Time', 'U Smile',\n",
              "       'Favorite Girl', 'Love Me', 'Common Denominator',\n",
              "       'Never Let You Go', 'Stuck In The Moment', 'Up',\n",
              "       'One Less Lonely Girl', 'That Should Be Me', 'Bigger',\n",
              "       'Runaway Love'], dtype=object)"
            ]
          },
          "metadata": {
            "tags": []
          },
          "execution_count": 37
        }
      ]
    },
    {
      "cell_type": "code",
      "metadata": {
        "id": "jX5BPHwnu7Yl"
      },
      "source": [
        "sorted_artist_popularity=artist_popularity.sort_values(ascending=False)"
      ],
      "execution_count": 38,
      "outputs": []
    },
    {
      "cell_type": "code",
      "metadata": {
        "id": "YjKBqwBNu7TQ",
        "colab": {
          "base_uri": "https://localhost:8080/",
          "height": 570
        },
        "outputId": "51e4fec4-6c3c-4994-a477-054579c49528"
      },
      "source": [
        "# plotting of popularity and artist\n",
        "\n",
        "sorted_artist_popularity.plot.line()\n",
        "plt.xticks(rotation=45)\n",
        "plt.title('popularity and artist')"
      ],
      "execution_count": 39,
      "outputs": [
        {
          "output_type": "execute_result",
          "data": {
            "text/plain": [
              "Text(0.5, 1.0, 'popularity and artist')"
            ]
          },
          "metadata": {
            "tags": []
          },
          "execution_count": 39
        },
        {
          "output_type": "display_data",
          "data": {
            "image/png": "[encoded data removed]",
            "text/plain": [
              "<Figure size 432x288 with 1 Axes>"
            ]
          },
          "metadata": {
            "tags": [],
            "needs_background": "light"
          }
        }
      ]
    },
    {
      "cell_type": "markdown",
      "metadata": {
        "id": "mpqzeeDbxgwP"
      },
      "source": [
        "# Analysis of popularity song"
      ]
    },
    {
      "cell_type": "code",
      "metadata": {
        "id": "xfjM41k8u7R1"
      },
      "source": [
        "# using release and userid\n",
        "song_popularity=song_df.groupby(['release'])['release'].value_counts()\n"
      ],
      "execution_count": 40,
      "outputs": []
    },
    {
      "cell_type": "code",
      "metadata": {
        "id": "EWG_Astmu7HG",
        "colab": {
          "base_uri": "https://localhost:8080/"
        },
        "outputId": "9a41b981-5056-44d1-998a-a178672ad5a1"
      },
      "source": [
        "song_popularity.sort_values().head()"
      ],
      "execution_count": 41,
      "outputs": [
        {
          "output_type": "execute_result",
          "data": {
            "text/plain": [
              "release                           release                         \n",
              "\n",
              "Ef Ég Hefði Aldrei...            \n",
              "Ef Ég Hefði Aldrei...              1\n",
              "Making Love                       Making Love                         1\n",
              "Making Friends and Acquaintances  Making Friends and Acquaintances    1\n",
              "Making Flippy Floppy              Making Flippy Floppy                1\n",
              "Making Dens                       Making Dens                         1\n",
              "Name: release, dtype: int64"
            ]
          },
          "metadata": {
            "tags": []
          },
          "execution_count": 41
        }
      ]
    },
    {
      "cell_type": "code",
      "metadata": {
        "id": "lIC5zxFlu62L",
        "colab": {
          "base_uri": "https://localhost:8080/"
        },
        "outputId": "ad510140-ec68-4762-806a-7373126d67b4"
      },
      "source": [
        "song_popularity.sort_values().tail()"
      ],
      "execution_count": 42,
      "outputs": [
        {
          "output_type": "execute_result",
          "data": {
            "text/plain": [
              "release                         release                       \n",
              "Revelry                         Revelry                           3672\n",
              "Dog Days Are Over (Radio Edit)  Dog Days Are Over (Radio Edit)    3780\n",
              "You're The One                  You're The One                    4270\n",
              "Undo                            Undo                              4483\n",
              "Sehr kosmisch                   Sehr kosmisch                     5043\n",
              "Name: release, dtype: int64"
            ]
          },
          "metadata": {
            "tags": []
          },
          "execution_count": 42
        }
      ]
    },
    {
      "cell_type": "code",
      "metadata": {
        "id": "ZUkYzTqru6PO"
      },
      "source": [
        "sorted_song_popularity=song_popularity.sort_values(ascending=False)"
      ],
      "execution_count": 43,
      "outputs": []
    },
    {
      "cell_type": "code",
      "metadata": {
        "id": "OP5XuzCcyQmj"
      },
      "source": [
        "# plot betweeen popularity and song"
      ],
      "execution_count": 44,
      "outputs": []
    },
    {
      "cell_type": "code",
      "metadata": {
        "id": "t_gafLfyyRmH",
        "colab": {
          "base_uri": "https://localhost:8080/",
          "height": 697
        },
        "outputId": "50a51159-a398-4509-fa1b-63c6ee335f15"
      },
      "source": [
        "sorted_song_popularity.plot.line()\n",
        "plt.xticks(rotation=45)\n",
        "plt.title('popularity and song')"
      ],
      "execution_count": 45,
      "outputs": [
        {
          "output_type": "execute_result",
          "data": {
            "text/plain": [
              "Text(0.5, 1.0, 'popularity and song')"
            ]
          },
          "metadata": {
            "tags": []
          },
          "execution_count": 45
        },
        {
          "output_type": "display_data",
          "data": {
            "image/png": "[encoded data removed]",
            "text/plain": [
              "<Figure size 432x288 with 1 Axes>"
            ]
          },
          "metadata": {
            "tags": [],
            "needs_background": "light"
          }
        }
      ]
    },
    {
      "cell_type": "code",
      "metadata": {
        "id": "cEPBO61SyRxX",
        "colab": {
          "base_uri": "https://localhost:8080/"
        },
        "outputId": "c8dfa0d0-c34b-4b74-fe19-b492ca1ddbca"
      },
      "source": [
        "song_df.columns"
      ],
      "execution_count": 46,
      "outputs": [
        {
          "output_type": "execute_result",
          "data": {
            "text/plain": [
              "Index(['user_id', 'song_id', 'freq', 'track_id', 'artist_name', 'release'], dtype='object')"
            ]
          },
          "metadata": {
            "tags": []
          },
          "execution_count": 46
        }
      ]
    },
    {
      "cell_type": "code",
      "metadata": {
        "id": "eNbFkj_4yR_n"
      },
      "source": [
        "repeated=song_df.groupby(['freq'])['song_id'].value_counts()"
      ],
      "execution_count": 47,
      "outputs": []
    },
    {
      "cell_type": "code",
      "metadata": {
        "id": "YSbjT4Syzfv3",
        "colab": {
          "base_uri": "https://localhost:8080/"
        },
        "outputId": "ce71d456-27e6-4a18-e80c-c3f8c807f10a"
      },
      "source": [
        "repeated"
      ],
      "execution_count": 48,
      "outputs": [
        {
          "output_type": "execute_result",
          "data": {
            "text/plain": [
              "freq  song_id           \n",
              "1     SOFRQTD12A81C233C0    2149\n",
              "      SOAXGDH12A8C13F8A1    1693\n",
              "      SOAUWYT12A81C206F1    1597\n",
              "      SONYKOW12AB01849C9    1517\n",
              "      SOSXLTC12AF72A7F54    1516\n",
              "                            ... \n",
              "537   SOFVLYV12A8C145D8F       1\n",
              "582   SONGOJV12AF729AEBD       1\n",
              "597   SOAOXTG12A67021AA7       1\n",
              "646   SOPMHHE12AB01845F6       1\n",
              "923   SOXTUWG12AB018A2E2       1\n",
              "Name: song_id, Length: 406254, dtype: int64"
            ]
          },
          "metadata": {
            "tags": []
          },
          "execution_count": 48
        }
      ]
    },
    {
      "cell_type": "code",
      "metadata": {
        "id": "VpW4mT52zfsh",
        "colab": {
          "base_uri": "https://localhost:8080/",
          "height": 463
        },
        "outputId": "406755bb-3344-48e2-b2f6-8389cc5c2c78"
      },
      "source": [
        "repeated.plot.line()\n",
        "plt.xticks(rotation=90)"
      ],
      "execution_count": 49,
      "outputs": [
        {
          "output_type": "execute_result",
          "data": {
            "text/plain": [
              "(array([-50000.,      0.,  50000., 100000., 150000., 200000., 250000.,\n",
              "        300000., 350000., 400000., 450000.]),\n",
              " <a list of 11 Text major ticklabel objects>)"
            ]
          },
          "metadata": {
            "tags": []
          },
          "execution_count": 49
        },
        {
          "output_type": "display_data",
          "data": {
            "image/png": "[encoded data removed]",
            "text/plain": [
              "<Figure size 432x288 with 1 Axes>"
            ]
          },
          "metadata": {
            "tags": [],
            "needs_background": "light"
          }
        }
      ]
    },
    {
      "cell_type": "code",
      "metadata": {
        "id": "TepXR9Slzfnf",
        "colab": {
          "base_uri": "https://localhost:8080/"
        },
        "outputId": "66ee49b8-4d7d-4b70-cc17-ac52f20d764e"
      },
      "source": [
        "repeated.dtype"
      ],
      "execution_count": 50,
      "outputs": [
        {
          "output_type": "execute_result",
          "data": {
            "text/plain": [
              "dtype('int64')"
            ]
          },
          "metadata": {
            "tags": []
          },
          "execution_count": 50
        }
      ]
    },
    {
      "cell_type": "code",
      "metadata": {
        "id": "EzVkSP1p0Adt",
        "colab": {
          "base_uri": "https://localhost:8080/"
        },
        "outputId": "5b2c043b-e74b-4aab-fc8c-12ac4b035d22"
      },
      "source": [
        "song_df.columns"
      ],
      "execution_count": 51,
      "outputs": [
        {
          "output_type": "execute_result",
          "data": {
            "text/plain": [
              "Index(['user_id', 'song_id', 'freq', 'track_id', 'artist_name', 'release'], dtype='object')"
            ]
          },
          "metadata": {
            "tags": []
          },
          "execution_count": 51
        }
      ]
    },
    {
      "cell_type": "code",
      "metadata": {
        "id": "CeaIkP9a0Aaf"
      },
      "source": [
        "song_grouped=song_df.groupby(['release']).agg({'freq':'count'}).reset_index()"
      ],
      "execution_count": 52,
      "outputs": []
    },
    {
      "cell_type": "code",
      "metadata": {
        "id": "ORWobYrI0AXi",
        "colab": {
          "base_uri": "https://localhost:8080/",
          "height": 203
        },
        "outputId": "46824f1c-0579-4d65-ba9d-bcfb7f663397"
      },
      "source": [
        "song_grouped.head()"
      ],
      "execution_count": 53,
      "outputs": [
        {
          "output_type": "execute_result",
          "data": {
            "text/html": [
              "<div>\n",
              "<style scoped>\n",
              "    .dataframe tbody tr th:only-of-type {\n",
              "        vertical-align: middle;\n",
              "    }\n",
              "\n",
              "    .dataframe tbody tr th {\n",
              "        vertical-align: top;\n",
              "    }\n",
              "\n",
              "    .dataframe thead th {\n",
              "        text-align: right;\n",
              "    }\n",
              "</style>\n",
              "<table border=\"1\" class=\"dataframe\">\n",
              "  <thead>\n",
              "    <tr style=\"text-align: right;\">\n",
              "      <th></th>\n",
              "      <th>release</th>\n",
              "      <th>freq</th>\n",
              "    </tr>\n",
              "  </thead>\n",
              "  <tbody>\n",
              "    <tr>\n",
              "      <th>0</th>\n",
              "      <td>Ef Ég Hefði Aldrei...</td>\n",
              "      <td>1</td>\n",
              "    </tr>\n",
              "    <tr>\n",
              "      <th>1</th>\n",
              "      <td>Light Mass Prayers</td>\n",
              "      <td>4</td>\n",
              "    </tr>\n",
              "    <tr>\n",
              "      <th>2</th>\n",
              "      <td>The Arsonist Story\":  Evil Craves Attention/O...</td>\n",
              "      <td>1</td>\n",
              "    </tr>\n",
              "    <tr>\n",
              "      <th>3</th>\n",
              "      <td>Ég Átti Gráa Æsku</td>\n",
              "      <td>4</td>\n",
              "    </tr>\n",
              "    <tr>\n",
              "      <th>4</th>\n",
              "      <td>(Jack The Stripper)</td>\n",
              "      <td>2</td>\n",
              "    </tr>\n",
              "  </tbody>\n",
              "</table>\n",
              "</div>"
            ],
            "text/plain": [
              "                                             release  freq\n",
              "0                             \n",
              "Ef Ég Hefði Aldrei...     1\n",
              "1                                \n",
              "Light Mass Prayers     4\n",
              "2  \n",
              "The Arsonist Story\":  Evil Craves Attention/O...     1\n",
              "3                                 \n",
              "Ég Átti Gráa Æsku     4\n",
              "4                                (Jack The Stripper)     2"
            ]
          },
          "metadata": {
            "tags": []
          },
          "execution_count": 53
        }
      ]
    },
    {
      "cell_type": "code",
      "metadata": {
        "id": "PF_CxOjA0AUj",
        "colab": {
          "base_uri": "https://localhost:8080/",
          "height": 417
        },
        "outputId": "2e6868b6-df92-4c89-d488-b18cab5de49a"
      },
      "source": [
        "grouped_sum=song_grouped['freq'].sum()\n",
        "song_grouped['percentage']=(song_grouped['freq']/grouped_sum)*100\n",
        "song_grouped.sort_values(['freq','release'],ascending=[0,1])"
      ],
      "execution_count": 54,
      "outputs": [
        {
          "output_type": "execute_result",
          "data": {
            "text/html": [
              "<div>\n",
              "<style scoped>\n",
              "    .dataframe tbody tr th:only-of-type {\n",
              "        vertical-align: middle;\n",
              "    }\n",
              "\n",
              "    .dataframe tbody tr th {\n",
              "        vertical-align: top;\n",
              "    }\n",
              "\n",
              "    .dataframe thead th {\n",
              "        text-align: right;\n",
              "    }\n",
              "</style>\n",
              "<table border=\"1\" class=\"dataframe\">\n",
              "  <thead>\n",
              "    <tr style=\"text-align: right;\">\n",
              "      <th></th>\n",
              "      <th>release</th>\n",
              "      <th>freq</th>\n",
              "      <th>percentage</th>\n",
              "    </tr>\n",
              "  </thead>\n",
              "  <tbody>\n",
              "    <tr>\n",
              "      <th>98812</th>\n",
              "      <td>Sehr kosmisch</td>\n",
              "      <td>5043</td>\n",
              "      <td>0.347570</td>\n",
              "    </tr>\n",
              "    <tr>\n",
              "      <th>125393</th>\n",
              "      <td>Undo</td>\n",
              "      <td>4483</td>\n",
              "      <td>0.308974</td>\n",
              "    </tr>\n",
              "    <tr>\n",
              "      <th>136066</th>\n",
              "      <td>You're The One</td>\n",
              "      <td>4270</td>\n",
              "      <td>0.294294</td>\n",
              "    </tr>\n",
              "    <tr>\n",
              "      <th>28716</th>\n",
              "      <td>Dog Days Are Over (Radio Edit)</td>\n",
              "      <td>3780</td>\n",
              "      <td>0.260522</td>\n",
              "    </tr>\n",
              "    <tr>\n",
              "      <th>93984</th>\n",
              "      <td>Revelry</td>\n",
              "      <td>3672</td>\n",
              "      <td>0.253079</td>\n",
              "    </tr>\n",
              "    <tr>\n",
              "      <th>...</th>\n",
              "      <td>...</td>\n",
              "      <td>...</td>\n",
              "      <td>...</td>\n",
              "    </tr>\n",
              "    <tr>\n",
              "      <th>137608</th>\n",
              "      <td>Último Desejo</td>\n",
              "      <td>1</td>\n",
              "      <td>0.000069</td>\n",
              "    </tr>\n",
              "    <tr>\n",
              "      <th>137610</th>\n",
              "      <td>Über Grenzen Geh'n</td>\n",
              "      <td>1</td>\n",
              "      <td>0.000069</td>\n",
              "    </tr>\n",
              "    <tr>\n",
              "      <th>137612</th>\n",
              "      <td>Übers Geld (Skit)</td>\n",
              "      <td>1</td>\n",
              "      <td>0.000069</td>\n",
              "    </tr>\n",
              "    <tr>\n",
              "      <th>137614</th>\n",
              "      <td>Üdvözöl A Pokol</td>\n",
              "      <td>1</td>\n",
              "      <td>0.000069</td>\n",
              "    </tr>\n",
              "    <tr>\n",
              "      <th>137621</th>\n",
              "      <td>þetta Gerist á Bestu Bæjum</td>\n",
              "      <td>1</td>\n",
              "      <td>0.000069</td>\n",
              "    </tr>\n",
              "  </tbody>\n",
              "</table>\n",
              "<p>137622 rows × 3 columns</p>\n",
              "</div>"
            ],
            "text/plain": [
              "                               release  freq  percentage\n",
              "98812                    Sehr kosmisch  5043    0.347570\n",
              "125393                            Undo  4483    0.308974\n",
              "136066                  You're The One  4270    0.294294\n",
              "28716   Dog Days Are Over (Radio Edit)  3780    0.260522\n",
              "93984                          Revelry  3672    0.253079\n",
              "...                                ...   ...         ...\n",
              "137608                   Último Desejo     1    0.000069\n",
              "137610              Über Grenzen Geh'n     1    0.000069\n",
              "137612               Übers Geld (Skit)     1    0.000069\n",
              "137614                 Üdvözöl A Pokol     1    0.000069\n",
              "137621      þetta Gerist á Bestu Bæjum     1    0.000069\n",
              "\n",
              "[137622 rows x 3 columns]"
            ]
          },
          "metadata": {
            "tags": []
          },
          "execution_count": 54
        }
      ]
    },
    {
      "cell_type": "markdown",
      "metadata": {
        "id": "PgEPjQa_FVEX"
      },
      "source": [
        "#**POPULARITY RECOMMENDER SYSTEM**\n",
        "\n"
      ]
    },
    {
      "cell_type": "code",
      "metadata": {
        "id": "hBDdiuRdFRhj"
      },
      "source": [
        "class popularity_recommender_py():\n",
        "    def __init__(self):\n",
        "        self.train_data = None\n",
        "        self.user_id = None\n",
        "        self.item_id = None\n",
        "        self.popularity_recommendations = None\n",
        "        \n",
        "    #Create the popularity based recommender system model\n",
        "    def create(self, train_data, user_id, item_id):\n",
        "        self.train_data = train_data\n",
        "        self.user_id = user_id\n",
        "        self.item_id = item_id\n",
        "\n",
        "        #Get a count of user_ids for each unique song as recommendation score\n",
        "        train_data_grouped = train_data.groupby([self.item_id]).agg({self.user_id: 'count'}).reset_index()\n",
        "        train_data_grouped.rename(columns = {'user_id': 'score'},inplace=True)\n",
        "    \n",
        "        #Sort the songs based upon recommendation score\n",
        "        train_data_sort = train_data_grouped.sort_values(['score', self.item_id], ascending = [0,1])\n",
        "    \n",
        "        #Generate a recommendation rank based upon score\n",
        "        train_data_sort['Rank'] = train_data_sort['score'].rank(ascending=0, method='first')\n",
        "        \n",
        "        #Get the top 10 recommendations\n",
        "        self.popularity_recommendations = train_data_sort.head(10)\n",
        "\n",
        "    #Use the popularity based recommender system model to\n",
        "    #make recommendations\n",
        "    def recommend(self, user_id):    \n",
        "        user_recommendations = self.popularity_recommendations\n",
        "        \n",
        "        #Add user_id column for which the recommendations are being generated\n",
        "        user_recommendations['user_id'] = user_id\n",
        "    \n",
        "        #Bring user_id column to the front\n",
        "        cols = user_recommendations.columns.tolist()\n",
        "        cols = cols[-1:] + cols[:-1]\n",
        "        user_recommendations = user_recommendations[cols]\n",
        "        \n",
        "        return user_recommendations\n",
        "    "
      ],
      "execution_count": 56,
      "outputs": []
    },
    {
      "cell_type": "code",
      "metadata": {
        "id": "Q12Hiz7LF8sV"
      },
      "source": [
        "pr=popularity_recommender_py()"
      ],
      "execution_count": 57,
      "outputs": []
    },
    {
      "cell_type": "code",
      "metadata": {
        "id": "4E8n-DFcWBoF"
      },
      "source": [
        "pr.create(song_df,'user_id','release')"
      ],
      "execution_count": 58,
      "outputs": []
    },
    {
      "cell_type": "code",
      "metadata": {
        "id": "-8gqbzujWBql",
        "outputId": "df68bb84-015c-4312-955b-6fc7e7899ae6",
        "colab": {
          "base_uri": "https://localhost:8080/",
          "height": 390
        }
      },
      "source": [
        "pr.recommend(song_df['user_id'][9])"
      ],
      "execution_count": 59,
      "outputs": [
        {
          "output_type": "execute_result",
          "data": {
            "text/html": [
              "<div>\n",
              "<style scoped>\n",
              "    .dataframe tbody tr th:only-of-type {\n",
              "        vertical-align: middle;\n",
              "    }\n",
              "\n",
              "    .dataframe tbody tr th {\n",
              "        vertical-align: top;\n",
              "    }\n",
              "\n",
              "    .dataframe thead th {\n",
              "        text-align: right;\n",
              "    }\n",
              "</style>\n",
              "<table border=\"1\" class=\"dataframe\">\n",
              "  <thead>\n",
              "    <tr style=\"text-align: right;\">\n",
              "      <th></th>\n",
              "      <th>user_id</th>\n",
              "      <th>release</th>\n",
              "      <th>score</th>\n",
              "      <th>Rank</th>\n",
              "    </tr>\n",
              "  </thead>\n",
              "  <tbody>\n",
              "    <tr>\n",
              "      <th>98812</th>\n",
              "      <td>d7083f5e1d50c264277d624340edaaf3dc16095b</td>\n",
              "      <td>Sehr kosmisch</td>\n",
              "      <td>5043</td>\n",
              "      <td>1.0</td>\n",
              "    </tr>\n",
              "    <tr>\n",
              "      <th>125393</th>\n",
              "      <td>d7083f5e1d50c264277d624340edaaf3dc16095b</td>\n",
              "      <td>Undo</td>\n",
              "      <td>4483</td>\n",
              "      <td>2.0</td>\n",
              "    </tr>\n",
              "    <tr>\n",
              "      <th>136066</th>\n",
              "      <td>d7083f5e1d50c264277d624340edaaf3dc16095b</td>\n",
              "      <td>You're The One</td>\n",
              "      <td>4270</td>\n",
              "      <td>3.0</td>\n",
              "    </tr>\n",
              "    <tr>\n",
              "      <th>28716</th>\n",
              "      <td>d7083f5e1d50c264277d624340edaaf3dc16095b</td>\n",
              "      <td>Dog Days Are Over (Radio Edit)</td>\n",
              "      <td>3780</td>\n",
              "      <td>4.0</td>\n",
              "    </tr>\n",
              "    <tr>\n",
              "      <th>93984</th>\n",
              "      <td>d7083f5e1d50c264277d624340edaaf3dc16095b</td>\n",
              "      <td>Revelry</td>\n",
              "      <td>3672</td>\n",
              "      <td>5.0</td>\n",
              "    </tr>\n",
              "    <tr>\n",
              "      <th>98585</th>\n",
              "      <td>d7083f5e1d50c264277d624340edaaf3dc16095b</td>\n",
              "      <td>Secrets</td>\n",
              "      <td>3456</td>\n",
              "      <td>6.0</td>\n",
              "    </tr>\n",
              "    <tr>\n",
              "      <th>49061</th>\n",
              "      <td>d7083f5e1d50c264277d624340edaaf3dc16095b</td>\n",
              "      <td>Horn Concerto No. 4 in E flat K495: II. Romanc...</td>\n",
              "      <td>3272</td>\n",
              "      <td>7.0</td>\n",
              "    </tr>\n",
              "    <tr>\n",
              "      <th>47683</th>\n",
              "      <td>d7083f5e1d50c264277d624340edaaf3dc16095b</td>\n",
              "      <td>Hey_ Soul Sister</td>\n",
              "      <td>2791</td>\n",
              "      <td>8.0</td>\n",
              "    </tr>\n",
              "    <tr>\n",
              "      <th>37656</th>\n",
              "      <td>d7083f5e1d50c264277d624340edaaf3dc16095b</td>\n",
              "      <td>Fireflies</td>\n",
              "      <td>2745</td>\n",
              "      <td>9.0</td>\n",
              "    </tr>\n",
              "    <tr>\n",
              "      <th>121358</th>\n",
              "      <td>d7083f5e1d50c264277d624340edaaf3dc16095b</td>\n",
              "      <td>Tive Sim</td>\n",
              "      <td>2669</td>\n",
              "      <td>10.0</td>\n",
              "    </tr>\n",
              "  </tbody>\n",
              "</table>\n",
              "</div>"
            ],
            "text/plain": [
              "                                         user_id  ...  Rank\n",
              "98812   d7083f5e1d50c264277d624340edaaf3dc16095b  ...   1.0\n",
              "125393  d7083f5e1d50c264277d624340edaaf3dc16095b  ...   2.0\n",
              "136066  d7083f5e1d50c264277d624340edaaf3dc16095b  ...   3.0\n",
              "28716   d7083f5e1d50c264277d624340edaaf3dc16095b  ...   4.0\n",
              "93984   d7083f5e1d50c264277d624340edaaf3dc16095b  ...   5.0\n",
              "98585   d7083f5e1d50c264277d624340edaaf3dc16095b  ...   6.0\n",
              "49061   d7083f5e1d50c264277d624340edaaf3dc16095b  ...   7.0\n",
              "47683   d7083f5e1d50c264277d624340edaaf3dc16095b  ...   8.0\n",
              "37656   d7083f5e1d50c264277d624340edaaf3dc16095b  ...   9.0\n",
              "121358  d7083f5e1d50c264277d624340edaaf3dc16095b  ...  10.0\n",
              "\n",
              "[10 rows x 4 columns]"
            ]
          },
          "metadata": {
            "tags": []
          },
          "execution_count": 59
        }
      ]
    },
    {
      "cell_type": "markdown",
      "metadata": {
        "id": "sujlcCmhWI62"
      },
      "source": [
        "**The above list is the popular songs to be recommended to the user 9 with ID:'cd4321d8fd42ba44996e7f34c2f6404cf5884696'**"
      ]
    },
    {
      "cell_type": "markdown",
      "metadata": {
        "id": "09xvRqPyWfvl"
      },
      "source": [
        "#**Item Similarity Recommendation**"
      ]
    },
    {
      "cell_type": "code",
      "metadata": {
        "id": "flwyzXNIWo6u"
      },
      "source": [
        "class item_similarity_recommender_py():\n",
        "    def __init__(self):\n",
        "        self.train_data = None\n",
        "        self.user_id = None\n",
        "        self.item_id = None\n",
        "        self.cooccurence_matrix = None\n",
        "        self.songs_dict = None\n",
        "        self.rev_songs_dict = None\n",
        "        self.item_similarity_recommendations = None\n",
        "        \n",
        "    #Get unique items (songs) corresponding to a given user\n",
        "    def get_user_items(self, user):\n",
        "        user_data = self.train_data[self.train_data[self.user_id] == user]\n",
        "        user_items = list(user_data[self.item_id].unique())\n",
        "        \n",
        "        return user_items\n",
        "        \n",
        "    #Get unique users for a given item (song)\n",
        "    def get_item_users(self, item):\n",
        "        item_data = self.train_data[self.train_data[self.item_id] == item]\n",
        "        item_users = set(item_data[self.user_id].unique())\n",
        "            \n",
        "        return item_users\n",
        "        \n",
        "    #Get unique items (songs) in the training data\n",
        "    def get_all_items_train_data(self):\n",
        "        all_items = list(self.train_data[self.item_id].unique())\n",
        "            \n",
        "        return all_items\n",
        "        \n",
        "    #Construct cooccurence matrix\n",
        "    def construct_cooccurence_matrix(self, user_songs, all_songs):\n",
        "            \n",
        "        ####################################\n",
        "        #Get users for all songs in user_songs.\n",
        "        ####################################\n",
        "        user_songs_users = []        \n",
        "        for i in range(0, len(user_songs)):\n",
        "            user_songs_users.append(self.get_item_users(user_songs[i]))\n",
        "            \n",
        "        ###############################################\n",
        "        #Initialize the item cooccurence matrix of size \n",
        "        #len(user_songs) X len(songs)\n",
        "        ###############################################\n",
        "        cooccurence_matrix = np.matrix(np.zeros(shape=(len(user_songs), len(all_songs))), float)\n",
        "           \n",
        "        #############################################################\n",
        "        #Calculate similarity between user songs and all unique songs\n",
        "        #in the training data\n",
        "        #############################################################\n",
        "        for i in range(0,len(all_songs)):\n",
        "            #Calculate unique listeners (users) of song (item) i\n",
        "            songs_i_data = self.train_data[self.train_data[self.item_id] == all_songs[i]]\n",
        "            users_i = set(songs_i_data[self.user_id].unique())\n",
        "            \n",
        "            for j in range(0,len(user_songs)):       \n",
        "                    \n",
        "                #Get unique listeners (users) of song (item) j\n",
        "                users_j = user_songs_users[j]\n",
        "                    \n",
        "                #Calculate intersection of listeners of songs i and j\n",
        "                users_intersection = users_i.intersection(users_j)\n",
        "                \n",
        "                #Calculate cooccurence_matrix[i,j] as Jaccard Index\n",
        "                if len(users_intersection) != 0:\n",
        "                    #Calculate union of listeners of songs i and j\n",
        "                    users_union = users_i.union(users_j)\n",
        "                    \n",
        "                    cooccurence_matrix[j,i] = float(len(users_intersection))/float(len(users_union))\n",
        "                else:\n",
        "                    cooccurence_matrix[j,i] = 0\n",
        "                    \n",
        "        \n",
        "        return cooccurence_matrix\n",
        "\n",
        "    \n",
        "    #Use the cooccurence matrix to make top recommendations\n",
        "    def generate_top_recommendations(self, user, cooccurence_matrix, all_songs, user_songs):\n",
        "        print(\"Non zero values in cooccurence_matrix :%d\" % np.count_nonzero(cooccurence_matrix))\n",
        "        \n",
        "        #Calculate a weighted average of the scores in cooccurence matrix for all user songs.\n",
        "        user_sim_scores = cooccurence_matrix.sum(axis=0)/float(cooccurence_matrix.shape[0])\n",
        "        user_sim_scores = np.array(user_sim_scores)[0].tolist()\n",
        " \n",
        "        #Sort the indices of user_sim_scores based upon their value\n",
        "        #Also maintain the corresponding score\n",
        "        sort_index = sorted(((e,i) for i,e in enumerate(list(user_sim_scores))), reverse=True)\n",
        "    \n",
        "        #Create a dataframe from the following\n",
        "        columns = ['user_id', 'song', 'score', 'rank']\n",
        "        #index = np.arange(1) # array of numbers for the number of samples\n",
        "        df = pandas.DataFrame(columns=columns)\n",
        "         \n",
        "        #Fill the dataframe with top 10 item based recommendations\n",
        "        rank = 1 \n",
        "        for i in range(0,len(sort_index)):\n",
        "            if ~np.isnan(sort_index[i][0]) and all_songs[sort_index[i][1]] not in user_songs and rank <= 10:\n",
        "                df.loc[len(df)]=[user,all_songs[sort_index[i][1]],sort_index[i][0],rank]\n",
        "                rank = rank+1\n",
        "        \n",
        "        #Handle the case where there are no recommendations\n",
        "        if df.shape[0] == 0:\n",
        "            print(\"The current user has no songs for training the item similarity based recommendation model.\")\n",
        "            return -1\n",
        "        else:\n",
        "            return df\n",
        " \n",
        "    #Create the item similarity based recommender system model\n",
        "    def create(self, train_data, user_id, item_id):\n",
        "        self.train_data = train_data\n",
        "        self.user_id = user_id\n",
        "        self.item_id = item_id\n",
        "\n",
        "    #Use the item similarity based recommender system model to\n",
        "    #make recommendations\n",
        "    def recommend(self, user):\n",
        "        \n",
        "        ########################################\n",
        "        #A. Get all unique songs for this user\n",
        "        ########################################\n",
        "        user_songs = self.get_user_items(user)    \n",
        "            \n",
        "        print(\"No. of unique songs for the user: %d\" % len(user_songs))\n",
        "        \n",
        "        ######################################################\n",
        "        #B. Get all unique items (songs) in the training data\n",
        "        ######################################################\n",
        "        all_songs = self.get_all_items_train_data()\n",
        "        \n",
        "        print(\"no. of unique songs in the training set: %d\" % len(all_songs))\n",
        "         \n",
        "        ###############################################\n",
        "        #C. Construct item cooccurence matrix of size \n",
        "        #len(user_songs) X len(songs)\n",
        "        ###############################################\n",
        "        cooccurence_matrix = self.construct_cooccurence_matrix(user_songs, all_songs)\n",
        "        \n",
        "        #######################################################\n",
        "        #D. Use the cooccurence matrix to make recommendations\n",
        "        #######################################################\n",
        "        df_recommendations = self.generate_top_recommendations(user, cooccurence_matrix, all_songs, user_songs)\n",
        "                \n",
        "        return df_recommendations\n",
        "    \n",
        "    #Get similar items to given items\n",
        "    def get_similar_items(self, item_list):\n",
        "        \n",
        "        user_songs = item_list\n",
        "        \n",
        "        ######################################################\n",
        "        #B. Get all unique items (songs) in the training data\n",
        "        ######################################################\n",
        "        all_songs = self.get_all_items_train_data()\n",
        "        \n",
        "        print(\"no. of unique songs in the training set: %d\" % len(all_songs))\n",
        "         \n",
        "        ###############################################\n",
        "        #C. Construct item cooccurence matrix of size \n",
        "        #len(user_songs) X len(songs)\n",
        "        ###############################################\n",
        "        cooccurence_matrix = self.construct_cooccurence_matrix(user_songs, all_songs)\n",
        "        \n",
        "        #######################################################\n",
        "        #D. Use the cooccurence matrix to make recommendations\n",
        "        #######################################################\n",
        "        user = \"\"\n",
        "        df_recommendations = self.generate_top_recommendations(user, cooccurence_matrix, all_songs, user_songs)\n",
        "         \n",
        "        return df_recommendations"
      ],
      "execution_count": 60,
      "outputs": []
    },
    {
      "cell_type": "code",
      "metadata": {
        "id": "Pxme5D59W5jt"
      },
      "source": [
        "ir = item_similarity_recommender_py()\n",
        "ir.create(song_df, 'user_id', 'release')"
      ],
      "execution_count": 64,
      "outputs": []
    },
    {
      "cell_type": "code",
      "metadata": {
        "id": "8DM7W-JSW9Ex"
      },
      "source": [
        "user_items = ir.get_user_items(song_df['user_id'][5])\n"
      ],
      "execution_count": 65,
      "outputs": []
    },
    {
      "cell_type": "code",
      "metadata": {
        "id": "XFEOftNxXDAg",
        "outputId": "14fd1b69-c6d7-4f2d-f824-7e7812a1fcde",
        "colab": {
          "base_uri": "https://localhost:8080/"
        }
      },
      "source": [
        "# display user songs history\n",
        "for user_item in user_items:\n",
        "    print(user_item)"
      ],
      "execution_count": 66,
      "outputs": [
        {
          "output_type": "stream",
          "text": [
            "You're The One\n",
            "Horn Concerto No. 4 in E flat K495: II. Romance (Andante cantabile)\n",
            "Tive Sim\n",
            "Catch You Baby (Steve Pitron & Max Sanna Radio Edit)\n",
            "El Cuatrero\n",
            "Unite (2009 Digital Remaster)\n"
          ],
          "name": "stdout"
        }
      ]
    },
    {
      "cell_type": "code",
      "metadata": {
        "id": "FbFu-tdzXl8p"
      },
      "source": [
        "# give song recommendation for that user\n",
        "ir.recommend(song_df['user_id'][5])\n",
        "\n"
      ],
      "execution_count": 69,
      "outputs": []
    },
    {
      "cell_type": "code",
      "metadata": {
        "id": "DgwUoJm3YgMq"
      },
      "source": [
        "ir.get_similar_items(['Oliver James - Fleet Foxes', 'The End - Pearl Jam'])\n"
      ],
      "execution_count": 69,
      "outputs": []
    },
    {
      "cell_type": "code",
      "metadata": {
        "id": "fhDYpqZSe1sG"
      },
      "source": [
        ""
      ],
      "execution_count": null,
      "outputs": []
    }
  ]
}