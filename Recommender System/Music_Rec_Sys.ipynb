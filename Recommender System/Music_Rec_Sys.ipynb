{
  "nbformat": 4,
  "nbformat_minor": 0,
  "metadata": {
    "colab": {
      "name": "Music_Rec_Sys.ipynb",
      "provenance": [],
      "collapsed_sections": [],
      "include_colab_link": true
    },
    "kernelspec": {
      "name": "python3",
      "display_name": "Python 3"
    },
    "language_info": {
      "name": "python"
    },
    "accelerator": "GPU"
  },
  "cells": [
    {
      "cell_type": "markdown",
      "metadata": {
        "id": "view-in-github",
        "colab_type": "text"
      },
      "source": [
        "<a href=\"https://colab.research.google.com/github/charithcherry/Innomatics_Internship_APR_21/blob/main/Recommender%20System/Music_Rec_Sys.ipynb\" target=\"_parent\"><img src=\"https://colab.research.google.com/assets/colab-badge.svg\" alt=\"Open In Colab\"/></a>"
      ]
    },
    {
      "cell_type": "code",
      "metadata": {
        "id": "47Z3zp0tK-fe"
      },
      "source": [
        "import warnings\n",
        "warnings.filterwarnings('ignore')"
      ],
      "execution_count": 1,
      "outputs": []
    },
    {
      "cell_type": "code",
      "metadata": {
        "id": "PzvkgnCI8MbZ",
        "outputId": "990b95a5-1abb-4081-dd87-e8240b100c1d",
        "colab": {
          "base_uri": "https://localhost:8080/"
        }
      },
      "source": [
        "from google.colab import drive\n",
        "drive.mount('/content/drive')"
      ],
      "execution_count": 4,
      "outputs": [
        {
          "output_type": "stream",
          "text": [
            "Drive already mounted at /content/drive; to attempt to forcibly remount, call drive.mount(\"/content/drive\", force_remount=True).\n"
          ],
          "name": "stdout"
        }
      ]
    },
    {
      "cell_type": "code",
      "metadata": {
        "id": "Cd3JsOX48MX5",
        "outputId": "1b529258-182f-4948-b385-315ff0337ba2",
        "colab": {
          "base_uri": "https://localhost:8080/"
        }
      },
      "source": [
        "cd '/content/drive/MyDrive/musicdata/kaggle'\n"
      ],
      "execution_count": 5,
      "outputs": [
        {
          "output_type": "stream",
          "text": [
            "/content/drive/MyDrive/musicdata/kaggle\n"
          ],
          "name": "stdout"
        }
      ]
    },
    {
      "cell_type": "code",
      "metadata": {
        "id": "7nDBBNn88MVu",
        "outputId": "519f4c77-e143-43ee-b77e-deebeaff41a8",
        "colab": {
          "base_uri": "https://localhost:8080/"
        }
      },
      "source": [
        "ls"
      ],
      "execution_count": 6,
      "outputs": [
        {
          "output_type": "stream",
          "text": [
            "kaggle_songs.txt                        MSDChallengeGettingstarted.pdf\n",
            "kaggle_users.txt                        taste_profile_song_to_tracks.txt\n",
            "kaggle_visible_evaluation_triplets.txt  unique_tracks.txt\n"
          ],
          "name": "stdout"
        }
      ]
    },
    {
      "cell_type": "code",
      "metadata": {
        "id": "0xj-NLfcOJmD"
      },
      "source": [
        "import numpy as np\n",
        "import pandas as pd\n",
        "import matplotlib.pyplot as plt\n",
        "import seaborn as sns"
      ],
      "execution_count": 48,
      "outputs": []
    },
    {
      "cell_type": "markdown",
      "metadata": {
        "id": "p78-ftXT_2e6"
      },
      "source": [
        "**VISIBLE EVALUTION TRIPLETS DATA**"
      ]
    },
    {
      "cell_type": "code",
      "metadata": {
        "colab": {
          "base_uri": "https://localhost:8080/",
          "height": 203
        },
        "id": "qd73mWnIOVS1",
        "outputId": "c97e2b1e-2206-43b3-aa84-e8ab3306a0cf"
      },
      "source": [
        "df=pd.read_csv('kaggle_visible_evaluation_triplets.txt',sep='\\t',names=['user_id','song_id','freq'])\n",
        "df.head()"
      ],
      "execution_count": 54,
      "outputs": [
        {
          "output_type": "execute_result",
          "data": {
            "text/html": [
              "<div>\n",
              "<style scoped>\n",
              "    .dataframe tbody tr th:only-of-type {\n",
              "        vertical-align: middle;\n",
              "    }\n",
              "\n",
              "    .dataframe tbody tr th {\n",
              "        vertical-align: top;\n",
              "    }\n",
              "\n",
              "    .dataframe thead th {\n",
              "        text-align: right;\n",
              "    }\n",
              "</style>\n",
              "<table border=\"1\" class=\"dataframe\">\n",
              "  <thead>\n",
              "    <tr style=\"text-align: right;\">\n",
              "      <th></th>\n",
              "      <th>user_id</th>\n",
              "      <th>song_id</th>\n",
              "      <th>freq</th>\n",
              "    </tr>\n",
              "  </thead>\n",
              "  <tbody>\n",
              "    <tr>\n",
              "      <th>0</th>\n",
              "      <td>fd50c4007b68a3737fe052d5a4f78ce8aa117f3d</td>\n",
              "      <td>SOBONKR12A58A7A7E0</td>\n",
              "      <td>1</td>\n",
              "    </tr>\n",
              "    <tr>\n",
              "      <th>1</th>\n",
              "      <td>fd50c4007b68a3737fe052d5a4f78ce8aa117f3d</td>\n",
              "      <td>SOEGIYH12A6D4FC0E3</td>\n",
              "      <td>1</td>\n",
              "    </tr>\n",
              "    <tr>\n",
              "      <th>2</th>\n",
              "      <td>fd50c4007b68a3737fe052d5a4f78ce8aa117f3d</td>\n",
              "      <td>SOFLJQZ12A6D4FADA6</td>\n",
              "      <td>1</td>\n",
              "    </tr>\n",
              "    <tr>\n",
              "      <th>3</th>\n",
              "      <td>fd50c4007b68a3737fe052d5a4f78ce8aa117f3d</td>\n",
              "      <td>SOHTKMO12AB01843B0</td>\n",
              "      <td>1</td>\n",
              "    </tr>\n",
              "    <tr>\n",
              "      <th>4</th>\n",
              "      <td>fd50c4007b68a3737fe052d5a4f78ce8aa117f3d</td>\n",
              "      <td>SODQZCY12A6D4F9D11</td>\n",
              "      <td>1</td>\n",
              "    </tr>\n",
              "  </tbody>\n",
              "</table>\n",
              "</div>"
            ],
            "text/plain": [
              "                                    user_id             song_id  freq\n",
              "0  fd50c4007b68a3737fe052d5a4f78ce8aa117f3d  SOBONKR12A58A7A7E0     1\n",
              "1  fd50c4007b68a3737fe052d5a4f78ce8aa117f3d  SOEGIYH12A6D4FC0E3     1\n",
              "2  fd50c4007b68a3737fe052d5a4f78ce8aa117f3d  SOFLJQZ12A6D4FADA6     1\n",
              "3  fd50c4007b68a3737fe052d5a4f78ce8aa117f3d  SOHTKMO12AB01843B0     1\n",
              "4  fd50c4007b68a3737fe052d5a4f78ce8aa117f3d  SODQZCY12A6D4F9D11     1"
            ]
          },
          "metadata": {
            "tags": []
          },
          "execution_count": 54
        }
      ]
    },
    {
      "cell_type": "markdown",
      "metadata": {
        "id": "18LLL7fa871c"
      },
      "source": [
        "DATA DESCRIPTION"
      ]
    },
    {
      "cell_type": "code",
      "metadata": {
        "colab": {
          "base_uri": "https://localhost:8080/",
          "height": 295
        },
        "id": "2bMggQUfOtuU",
        "outputId": "b301c825-2f7f-4df9-d716-0ffd1f9a6319"
      },
      "source": [
        "df.describe()"
      ],
      "execution_count": 55,
      "outputs": [
        {
          "output_type": "execute_result",
          "data": {
            "text/html": [
              "<div>\n",
              "<style scoped>\n",
              "    .dataframe tbody tr th:only-of-type {\n",
              "        vertical-align: middle;\n",
              "    }\n",
              "\n",
              "    .dataframe tbody tr th {\n",
              "        vertical-align: top;\n",
              "    }\n",
              "\n",
              "    .dataframe thead th {\n",
              "        text-align: right;\n",
              "    }\n",
              "</style>\n",
              "<table border=\"1\" class=\"dataframe\">\n",
              "  <thead>\n",
              "    <tr style=\"text-align: right;\">\n",
              "      <th></th>\n",
              "      <th>freq</th>\n",
              "    </tr>\n",
              "  </thead>\n",
              "  <tbody>\n",
              "    <tr>\n",
              "      <th>count</th>\n",
              "      <td>1.450933e+06</td>\n",
              "    </tr>\n",
              "    <tr>\n",
              "      <th>mean</th>\n",
              "      <td>3.187149e+00</td>\n",
              "    </tr>\n",
              "    <tr>\n",
              "      <th>std</th>\n",
              "      <td>7.051664e+00</td>\n",
              "    </tr>\n",
              "    <tr>\n",
              "      <th>min</th>\n",
              "      <td>1.000000e+00</td>\n",
              "    </tr>\n",
              "    <tr>\n",
              "      <th>25%</th>\n",
              "      <td>1.000000e+00</td>\n",
              "    </tr>\n",
              "    <tr>\n",
              "      <th>50%</th>\n",
              "      <td>1.000000e+00</td>\n",
              "    </tr>\n",
              "    <tr>\n",
              "      <th>75%</th>\n",
              "      <td>3.000000e+00</td>\n",
              "    </tr>\n",
              "    <tr>\n",
              "      <th>max</th>\n",
              "      <td>9.230000e+02</td>\n",
              "    </tr>\n",
              "  </tbody>\n",
              "</table>\n",
              "</div>"
            ],
            "text/plain": [
              "               freq\n",
              "count  1.450933e+06\n",
              "mean   3.187149e+00\n",
              "std    7.051664e+00\n",
              "min    1.000000e+00\n",
              "25%    1.000000e+00\n",
              "50%    1.000000e+00\n",
              "75%    3.000000e+00\n",
              "max    9.230000e+02"
            ]
          },
          "metadata": {
            "tags": []
          },
          "execution_count": 55
        }
      ]
    },
    {
      "cell_type": "code",
      "metadata": {
        "id": "Cd0RQeN4AG2P",
        "outputId": "a6d5d244-62f0-4013-c384-4e11067804c7",
        "colab": {
          "base_uri": "https://localhost:8080/"
        }
      },
      "source": [
        "df.shape"
      ],
      "execution_count": 56,
      "outputs": [
        {
          "output_type": "execute_result",
          "data": {
            "text/plain": [
              "(1450933, 3)"
            ]
          },
          "metadata": {
            "tags": []
          },
          "execution_count": 56
        }
      ]
    },
    {
      "cell_type": "code",
      "metadata": {
        "colab": {
          "base_uri": "https://localhost:8080/"
        },
        "id": "HPnWg0hiOwoM",
        "outputId": "275f2906-ea9b-4777-9cac-8a068f280f0a"
      },
      "source": [
        "df.info()"
      ],
      "execution_count": 57,
      "outputs": [
        {
          "output_type": "stream",
          "text": [
            "<class 'pandas.core.frame.DataFrame'>\n",
            "RangeIndex: 1450933 entries, 0 to 1450932\n",
            "Data columns (total 3 columns):\n",
            " #   Column   Non-Null Count    Dtype \n",
            "---  ------   --------------    ----- \n",
            " 0   user_id  1450933 non-null  object\n",
            " 1   song_id  1450933 non-null  object\n",
            " 2   freq     1450933 non-null  int64 \n",
            "dtypes: int64(1), object(2)\n",
            "memory usage: 33.2+ MB\n"
          ],
          "name": "stdout"
        }
      ]
    },
    {
      "cell_type": "markdown",
      "metadata": {
        "id": "Fb5lohcC_j_-"
      },
      "source": [
        "NULL and DUPLICATE VALUES"
      ]
    },
    {
      "cell_type": "code",
      "metadata": {
        "id": "5qcbrNgc-4HB",
        "outputId": "7146fd31-4c3f-46e1-b299-0c440cca604e",
        "colab": {
          "base_uri": "https://localhost:8080/"
        }
      },
      "source": [
        "df.isnull().sum()"
      ],
      "execution_count": 58,
      "outputs": [
        {
          "output_type": "execute_result",
          "data": {
            "text/plain": [
              "user_id    0\n",
              "song_id    0\n",
              "freq       0\n",
              "dtype: int64"
            ]
          },
          "metadata": {
            "tags": []
          },
          "execution_count": 58
        }
      ]
    },
    {
      "cell_type": "code",
      "metadata": {
        "id": "mutb8xIECwr9",
        "outputId": "283f4540-9d87-4f51-9569-237241029d0e",
        "colab": {
          "base_uri": "https://localhost:8080/"
        }
      },
      "source": [
        "sum(df.duplicated())"
      ],
      "execution_count": 71,
      "outputs": [
        {
          "output_type": "execute_result",
          "data": {
            "text/plain": [
              "0"
            ]
          },
          "metadata": {
            "tags": []
          },
          "execution_count": 71
        }
      ]
    },
    {
      "cell_type": "markdown",
      "metadata": {
        "id": "UHJuudlG_xGC"
      },
      "source": [
        "**UNIQUE TRACK DATA**"
      ]
    },
    {
      "cell_type": "code",
      "metadata": {
        "colab": {
          "base_uri": "https://localhost:8080/",
          "height": 203
        },
        "id": "YWfKgH6TOygr",
        "outputId": "8f433cdf-c1cf-465f-c8cd-49832246eaa0"
      },
      "source": [
        "detail_df=pd.read_csv('unique_tracks.txt',sep='<SEP>',names=['track_id','song_id','artist_name','release'])\n",
        "detail_df.head()"
      ],
      "execution_count": 79,
      "outputs": [
        {
          "output_type": "execute_result",
          "data": {
            "text/html": [
              "<div>\n",
              "<style scoped>\n",
              "    .dataframe tbody tr th:only-of-type {\n",
              "        vertical-align: middle;\n",
              "    }\n",
              "\n",
              "    .dataframe tbody tr th {\n",
              "        vertical-align: top;\n",
              "    }\n",
              "\n",
              "    .dataframe thead th {\n",
              "        text-align: right;\n",
              "    }\n",
              "</style>\n",
              "<table border=\"1\" class=\"dataframe\">\n",
              "  <thead>\n",
              "    <tr style=\"text-align: right;\">\n",
              "      <th></th>\n",
              "      <th>track_id</th>\n",
              "      <th>song_id</th>\n",
              "      <th>artist_name</th>\n",
              "      <th>release</th>\n",
              "    </tr>\n",
              "  </thead>\n",
              "  <tbody>\n",
              "    <tr>\n",
              "      <th>0</th>\n",
              "      <td>TRMMMYQ128F932D901</td>\n",
              "      <td>SOQMMHC12AB0180CB8</td>\n",
              "      <td>Faster Pussy cat</td>\n",
              "      <td>Silent Night</td>\n",
              "    </tr>\n",
              "    <tr>\n",
              "      <th>1</th>\n",
              "      <td>TRMMMKD128F425225D</td>\n",
              "      <td>SOVFVAK12A8C1350D9</td>\n",
              "      <td>Karkkiautomaatti</td>\n",
              "      <td>Tanssi vaan</td>\n",
              "    </tr>\n",
              "    <tr>\n",
              "      <th>2</th>\n",
              "      <td>TRMMMRX128F93187D9</td>\n",
              "      <td>SOGTUKN12AB017F4F1</td>\n",
              "      <td>Hudson Mohawke</td>\n",
              "      <td>No One Could Ever</td>\n",
              "    </tr>\n",
              "    <tr>\n",
              "      <th>3</th>\n",
              "      <td>TRMMMCH128F425532C</td>\n",
              "      <td>SOBNYVR12A8C13558C</td>\n",
              "      <td>Yerba Brava</td>\n",
              "      <td>Si Vos Querés</td>\n",
              "    </tr>\n",
              "    <tr>\n",
              "      <th>4</th>\n",
              "      <td>TRMMMWA128F426B589</td>\n",
              "      <td>SOHSBXH12A8C13B0DF</td>\n",
              "      <td>Der Mystic</td>\n",
              "      <td>Tangle Of Aspens</td>\n",
              "    </tr>\n",
              "  </tbody>\n",
              "</table>\n",
              "</div>"
            ],
            "text/plain": [
              "             track_id             song_id       artist_name            release\n",
              "0  TRMMMYQ128F932D901  SOQMMHC12AB0180CB8  Faster Pussy cat       Silent Night\n",
              "1  TRMMMKD128F425225D  SOVFVAK12A8C1350D9  Karkkiautomaatti        Tanssi vaan\n",
              "2  TRMMMRX128F93187D9  SOGTUKN12AB017F4F1    Hudson Mohawke  No One Could Ever\n",
              "3  TRMMMCH128F425532C  SOBNYVR12A8C13558C       Yerba Brava      Si Vos Querés\n",
              "4  TRMMMWA128F426B589  SOHSBXH12A8C13B0DF        Der Mystic   Tangle Of Aspens"
            ]
          },
          "metadata": {
            "tags": []
          },
          "execution_count": 79
        }
      ]
    },
    {
      "cell_type": "code",
      "metadata": {
        "colab": {
          "base_uri": "https://localhost:8080/"
        },
        "id": "02rlt2SZTdNI",
        "outputId": "c9a26ae9-85c6-4d8e-b04c-807bf40d1636"
      },
      "source": [
        "detail_df.shape"
      ],
      "execution_count": 80,
      "outputs": [
        {
          "output_type": "execute_result",
          "data": {
            "text/plain": [
              "(1000000, 4)"
            ]
          },
          "metadata": {
            "tags": []
          },
          "execution_count": 80
        }
      ]
    },
    {
      "cell_type": "code",
      "metadata": {
        "colab": {
          "base_uri": "https://localhost:8080/",
          "height": 203
        },
        "id": "6NN_l3RYPhFZ",
        "outputId": "29580e2a-6fd1-44b5-e6c1-fdab3c4a18c9"
      },
      "source": [
        "detail_df.tail()"
      ],
      "execution_count": 81,
      "outputs": [
        {
          "output_type": "execute_result",
          "data": {
            "text/html": [
              "<div>\n",
              "<style scoped>\n",
              "    .dataframe tbody tr th:only-of-type {\n",
              "        vertical-align: middle;\n",
              "    }\n",
              "\n",
              "    .dataframe tbody tr th {\n",
              "        vertical-align: top;\n",
              "    }\n",
              "\n",
              "    .dataframe thead th {\n",
              "        text-align: right;\n",
              "    }\n",
              "</style>\n",
              "<table border=\"1\" class=\"dataframe\">\n",
              "  <thead>\n",
              "    <tr style=\"text-align: right;\">\n",
              "      <th></th>\n",
              "      <th>track_id</th>\n",
              "      <th>song_id</th>\n",
              "      <th>artist_name</th>\n",
              "      <th>release</th>\n",
              "    </tr>\n",
              "  </thead>\n",
              "  <tbody>\n",
              "    <tr>\n",
              "      <th>999995</th>\n",
              "      <td>TRYYYUS12903CD2DF0</td>\n",
              "      <td>SOTXAME12AB018F136</td>\n",
              "      <td>Kiko Navarro</td>\n",
              "      <td>O Samba Da Vida</td>\n",
              "    </tr>\n",
              "    <tr>\n",
              "      <th>999996</th>\n",
              "      <td>TRYYYJO128F426DA37</td>\n",
              "      <td>SOXQYIQ12A8C137FBB</td>\n",
              "      <td>Kuldeep Manak</td>\n",
              "      <td>Jago Chhadeo</td>\n",
              "    </tr>\n",
              "    <tr>\n",
              "      <th>999997</th>\n",
              "      <td>TRYYYMG128F4260ECA</td>\n",
              "      <td>SOHODZI12A8C137BB3</td>\n",
              "      <td>Gabriel Le Mar</td>\n",
              "      <td>Novemba</td>\n",
              "    </tr>\n",
              "    <tr>\n",
              "      <th>999998</th>\n",
              "      <td>TRYYYDJ128F9310A21</td>\n",
              "      <td>SOLXGOR12A81C21EB7</td>\n",
              "      <td>Elude</td>\n",
              "      <td>Faraday</td>\n",
              "    </tr>\n",
              "    <tr>\n",
              "      <th>999999</th>\n",
              "      <td>TRYYYVU12903CD01E3</td>\n",
              "      <td>SOWXJXQ12AB0189F43</td>\n",
              "      <td>Texta</td>\n",
              "      <td>Fernweh feat. Sektion Kuchikäschtli</td>\n",
              "    </tr>\n",
              "  </tbody>\n",
              "</table>\n",
              "</div>"
            ],
            "text/plain": [
              "                  track_id  ...                              release\n",
              "999995  TRYYYUS12903CD2DF0  ...                      O Samba Da Vida\n",
              "999996  TRYYYJO128F426DA37  ...                         Jago Chhadeo\n",
              "999997  TRYYYMG128F4260ECA  ...                              Novemba\n",
              "999998  TRYYYDJ128F9310A21  ...                              Faraday\n",
              "999999  TRYYYVU12903CD01E3  ...  Fernweh feat. Sektion Kuchikäschtli\n",
              "\n",
              "[5 rows x 4 columns]"
            ]
          },
          "metadata": {
            "tags": []
          },
          "execution_count": 81
        }
      ]
    },
    {
      "cell_type": "markdown",
      "metadata": {
        "id": "QEScPHN4DQy0"
      },
      "source": [
        "NULL AND DUPLICATE VALUES"
      ]
    },
    {
      "cell_type": "code",
      "metadata": {
        "colab": {
          "base_uri": "https://localhost:8080/"
        },
        "id": "N7TTnszFPpuQ",
        "outputId": "00cdb1d1-e302-49a8-cc9a-becc1036b9a9"
      },
      "source": [
        "print(\"Number of null values \\n{}.\".format(detail_df.isnull().sum()))"
      ],
      "execution_count": 82,
      "outputs": [
        {
          "output_type": "stream",
          "text": [
            "Number of null values \n",
            "track_id        0\n",
            "song_id         0\n",
            "artist_name     0\n",
            "release        15\n",
            "dtype: int64.\n"
          ],
          "name": "stdout"
        }
      ]
    },
    {
      "cell_type": "code",
      "metadata": {
        "id": "piqQgoJwDf_x",
        "outputId": "09ceea67-2439-479a-f17a-195cc054b555",
        "colab": {
          "base_uri": "https://localhost:8080/"
        }
      },
      "source": [
        "print(\"Number of duplicate values {}\".format(sum(detail_df.duplicated())))"
      ],
      "execution_count": 83,
      "outputs": [
        {
          "output_type": "stream",
          "text": [
            "Number of duplicate values 0\n"
          ],
          "name": "stdout"
        }
      ]
    },
    {
      "cell_type": "code",
      "metadata": {
        "id": "YSggFYWYRjry"
      },
      "source": [
        "detail_df=detail_df.dropna()"
      ],
      "execution_count": 84,
      "outputs": []
    },
    {
      "cell_type": "code",
      "metadata": {
        "colab": {
          "base_uri": "https://localhost:8080/"
        },
        "id": "inO2z0qcUSjk",
        "outputId": "17f1dcd8-4d81-491a-d992-32eee91b6ef4"
      },
      "source": [
        "detail_df.shape"
      ],
      "execution_count": 85,
      "outputs": [
        {
          "output_type": "execute_result",
          "data": {
            "text/plain": [
              "(999985, 4)"
            ]
          },
          "metadata": {
            "tags": []
          },
          "execution_count": 85
        }
      ]
    },
    {
      "cell_type": "code",
      "metadata": {
        "colab": {
          "base_uri": "https://localhost:8080/"
        },
        "id": "pWa1qVogUVZC",
        "outputId": "485ae33f-d003-41fe-cd56-d043e492ea2e"
      },
      "source": [
        "print(\"Number of Null values are \\n{}\".format(detail_df.isnull().sum()))"
      ],
      "execution_count": 86,
      "outputs": [
        {
          "output_type": "stream",
          "text": [
            "Number of Null values are \n",
            "track_id       0\n",
            "song_id        0\n",
            "artist_name    0\n",
            "release        0\n",
            "dtype: int64\n"
          ],
          "name": "stdout"
        }
      ]
    },
    {
      "cell_type": "markdown",
      "metadata": {
        "id": "bbh-exczEJvn"
      },
      "source": [
        "**MERGING DATAFRAMES**"
      ]
    },
    {
      "cell_type": "code",
      "metadata": {
        "colab": {
          "base_uri": "https://localhost:8080/",
          "height": 203
        },
        "id": "LLfBafeJmV6q",
        "outputId": "82727ed2-f131-41b7-e826-2a71e25fb46d"
      },
      "source": [
        "song_df=pd.merge(df,detail_df,on='song_id')\n",
        "song_df.head()\n"
      ],
      "execution_count": 94,
      "outputs": [
        {
          "output_type": "execute_result",
          "data": {
            "text/html": [
              "<div>\n",
              "<style scoped>\n",
              "    .dataframe tbody tr th:only-of-type {\n",
              "        vertical-align: middle;\n",
              "    }\n",
              "\n",
              "    .dataframe tbody tr th {\n",
              "        vertical-align: top;\n",
              "    }\n",
              "\n",
              "    .dataframe thead th {\n",
              "        text-align: right;\n",
              "    }\n",
              "</style>\n",
              "<table border=\"1\" class=\"dataframe\">\n",
              "  <thead>\n",
              "    <tr style=\"text-align: right;\">\n",
              "      <th></th>\n",
              "      <th>user_id</th>\n",
              "      <th>song_id</th>\n",
              "      <th>freq</th>\n",
              "      <th>track_id</th>\n",
              "      <th>artist_name</th>\n",
              "      <th>release</th>\n",
              "    </tr>\n",
              "  </thead>\n",
              "  <tbody>\n",
              "    <tr>\n",
              "      <th>0</th>\n",
              "      <td>fd50c4007b68a3737fe052d5a4f78ce8aa117f3d</td>\n",
              "      <td>SOBONKR12A58A7A7E0</td>\n",
              "      <td>1</td>\n",
              "      <td>TRAEHHJ12903CF492F</td>\n",
              "      <td>Dwight Yoakam</td>\n",
              "      <td>You're The One</td>\n",
              "    </tr>\n",
              "    <tr>\n",
              "      <th>1</th>\n",
              "      <td>c34670d9c1718361feb93068a853cead3c95b76a</td>\n",
              "      <td>SOBONKR12A58A7A7E0</td>\n",
              "      <td>1</td>\n",
              "      <td>TRAEHHJ12903CF492F</td>\n",
              "      <td>Dwight Yoakam</td>\n",
              "      <td>You're The One</td>\n",
              "    </tr>\n",
              "    <tr>\n",
              "      <th>2</th>\n",
              "      <td>c5006d9f41f68ccccbf5ee29212b6af494110c5e</td>\n",
              "      <td>SOBONKR12A58A7A7E0</td>\n",
              "      <td>1</td>\n",
              "      <td>TRAEHHJ12903CF492F</td>\n",
              "      <td>Dwight Yoakam</td>\n",
              "      <td>You're The One</td>\n",
              "    </tr>\n",
              "    <tr>\n",
              "      <th>3</th>\n",
              "      <td>e4332e11f4df6dd26673bb6b085e9a2bbdc9b8a5</td>\n",
              "      <td>SOBONKR12A58A7A7E0</td>\n",
              "      <td>2</td>\n",
              "      <td>TRAEHHJ12903CF492F</td>\n",
              "      <td>Dwight Yoakam</td>\n",
              "      <td>You're The One</td>\n",
              "    </tr>\n",
              "    <tr>\n",
              "      <th>4</th>\n",
              "      <td>baf2fe5885ab93fbbdb7fecc6691788e70afb6c8</td>\n",
              "      <td>SOBONKR12A58A7A7E0</td>\n",
              "      <td>4</td>\n",
              "      <td>TRAEHHJ12903CF492F</td>\n",
              "      <td>Dwight Yoakam</td>\n",
              "      <td>You're The One</td>\n",
              "    </tr>\n",
              "  </tbody>\n",
              "</table>\n",
              "</div>"
            ],
            "text/plain": [
              "                                    user_id  ...         release\n",
              "0  fd50c4007b68a3737fe052d5a4f78ce8aa117f3d  ...  You're The One\n",
              "1  c34670d9c1718361feb93068a853cead3c95b76a  ...  You're The One\n",
              "2  c5006d9f41f68ccccbf5ee29212b6af494110c5e  ...  You're The One\n",
              "3  e4332e11f4df6dd26673bb6b085e9a2bbdc9b8a5  ...  You're The One\n",
              "4  baf2fe5885ab93fbbdb7fecc6691788e70afb6c8  ...  You're The One\n",
              "\n",
              "[5 rows x 6 columns]"
            ]
          },
          "metadata": {
            "tags": []
          },
          "execution_count": 94
        }
      ]
    },
    {
      "cell_type": "code",
      "metadata": {
        "id": "n1Y5DeeJm7a_",
        "outputId": "a6be3612-be98-414e-d9a3-271f0cf3bd88",
        "colab": {
          "base_uri": "https://localhost:8080/"
        }
      },
      "source": [
        "song_df.shape"
      ],
      "execution_count": 95,
      "outputs": [
        {
          "output_type": "execute_result",
          "data": {
            "text/plain": [
              "(1491951, 6)"
            ]
          },
          "metadata": {
            "tags": []
          },
          "execution_count": 95
        }
      ]
    },
    {
      "cell_type": "markdown",
      "metadata": {
        "id": "rJkb7i5Lq935"
      },
      "source": [
        "#Basic Statistics"
      ]
    },
    {
      "cell_type": "code",
      "metadata": {
        "id": "l34_uD-Iq6P2",
        "outputId": "7f46ec4e-011a-4ec6-dfa5-7cddcd01eaa4",
        "colab": {
          "base_uri": "https://localhost:8080/"
        }
      },
      "source": [
        "print('Total Data Points',song_df.shape[0])\n",
        "print('Total NO of users',song_df['user_id'].unique().shape[0])\n",
        "print('Total number of songs',song_df['song_id'].unique().shape[0])\n",
        "print('Total number of Tracks',song_df['track_id'].unique().shape[0])\n"
      ],
      "execution_count": 96,
      "outputs": [
        {
          "output_type": "stream",
          "text": [
            "Total Data Points 1491951\n",
            "Total NO of users 110000\n",
            "Total number of songs 163205\n",
            "Total number of Tracks 163827\n"
          ],
          "name": "stdout"
        }
      ]
    },
    {
      "cell_type": "code",
      "metadata": {
        "id": "q6XGcAcuq6Cn",
        "outputId": "b6ae43f0-84d2-4248-f361-327dd297fa06",
        "colab": {
          "base_uri": "https://localhost:8080/"
        }
      },
      "source": [
        "print('Number of unique release',song_df['release'].unique().shape[0])\n",
        "print('Number of unique artists',song_df['artist_name'].unique().shape[0])"
      ],
      "execution_count": 97,
      "outputs": [
        {
          "output_type": "stream",
          "text": [
            "Number of unique release 137670\n",
            "Number of unique artists 28366\n"
          ],
          "name": "stdout"
        }
      ]
    },
    {
      "cell_type": "code",
      "metadata": {
        "id": "s6pN8sgOu8BM",
        "outputId": "56e7df68-416c-40e6-e0e0-307a607bce7f",
        "colab": {
          "base_uri": "https://localhost:8080/",
          "height": 295
        }
      },
      "source": [
        "song_df.describe()"
      ],
      "execution_count": 98,
      "outputs": [
        {
          "output_type": "execute_result",
          "data": {
            "text/html": [
              "<div>\n",
              "<style scoped>\n",
              "    .dataframe tbody tr th:only-of-type {\n",
              "        vertical-align: middle;\n",
              "    }\n",
              "\n",
              "    .dataframe tbody tr th {\n",
              "        vertical-align: top;\n",
              "    }\n",
              "\n",
              "    .dataframe thead th {\n",
              "        text-align: right;\n",
              "    }\n",
              "</style>\n",
              "<table border=\"1\" class=\"dataframe\">\n",
              "  <thead>\n",
              "    <tr style=\"text-align: right;\">\n",
              "      <th></th>\n",
              "      <th>freq</th>\n",
              "    </tr>\n",
              "  </thead>\n",
              "  <tbody>\n",
              "    <tr>\n",
              "      <th>count</th>\n",
              "      <td>1.491951e+06</td>\n",
              "    </tr>\n",
              "    <tr>\n",
              "      <th>mean</th>\n",
              "      <td>3.179720e+00</td>\n",
              "    </tr>\n",
              "    <tr>\n",
              "      <th>std</th>\n",
              "      <td>7.015025e+00</td>\n",
              "    </tr>\n",
              "    <tr>\n",
              "      <th>min</th>\n",
              "      <td>1.000000e+00</td>\n",
              "    </tr>\n",
              "    <tr>\n",
              "      <th>25%</th>\n",
              "      <td>1.000000e+00</td>\n",
              "    </tr>\n",
              "    <tr>\n",
              "      <th>50%</th>\n",
              "      <td>1.000000e+00</td>\n",
              "    </tr>\n",
              "    <tr>\n",
              "      <th>75%</th>\n",
              "      <td>3.000000e+00</td>\n",
              "    </tr>\n",
              "    <tr>\n",
              "      <th>max</th>\n",
              "      <td>9.230000e+02</td>\n",
              "    </tr>\n",
              "  </tbody>\n",
              "</table>\n",
              "</div>"
            ],
            "text/plain": [
              "               freq\n",
              "count  1.491951e+06\n",
              "mean   3.179720e+00\n",
              "std    7.015025e+00\n",
              "min    1.000000e+00\n",
              "25%    1.000000e+00\n",
              "50%    1.000000e+00\n",
              "75%    3.000000e+00\n",
              "max    9.230000e+02"
            ]
          },
          "metadata": {
            "tags": []
          },
          "execution_count": 98
        }
      ]
    },
    {
      "cell_type": "markdown",
      "metadata": {
        "id": "I7HLQCKNvMRx"
      },
      "source": [
        "# Distribution of Frequency column"
      ]
    },
    {
      "cell_type": "code",
      "metadata": {
        "id": "kvvZLNZdu78y",
        "outputId": "b9b556f0-4a97-4fc0-d5b3-eb97417c53a3",
        "colab": {
          "base_uri": "https://localhost:8080/",
          "height": 296
        }
      },
      "source": [
        "sns.kdeplot(data=song_df, x=\"freq\")"
      ],
      "execution_count": 104,
      "outputs": [
        {
          "output_type": "execute_result",
          "data": {
            "text/plain": [
              "<matplotlib.axes._subplots.AxesSubplot at 0x7f11fdcba450>"
            ]
          },
          "metadata": {
            "tags": []
          },
          "execution_count": 104
        },
        {
          "output_type": "display_data",
          "data": {
            "image/png": "[encoded data removed]",
            "text/plain": [
              "<Figure size 432x288 with 1 Axes>"
            ]
          },
          "metadata": {
            "tags": [],
            "needs_background": "light"
          }
        }
      ]
    },
    {
      "cell_type": "markdown",
      "metadata": {
        "id": "-OSiGZ12vWOE"
      },
      "source": [
        "# Number of songs listened per user"
      ]
    },
    {
      "cell_type": "code",
      "metadata": {
        "id": "_-pvkKELu77C"
      },
      "source": [
        "#groupby code\n",
        "#using user_id,song_id\n",
        "songs_per_user=song_df.groupby(['user_id'])['user_id'].value_counts()\n"
      ],
      "execution_count": 223,
      "outputs": []
    },
    {
      "cell_type": "code",
      "metadata": {
        "id": "KtE6jNMOu71G",
        "outputId": "a7954a25-f1f2-45cc-b167-20d326fdb087",
        "colab": {
          "base_uri": "https://localhost:8080/"
        }
      },
      "source": [
        "songs_per_user"
      ],
      "execution_count": 224,
      "outputs": [
        {
          "output_type": "execute_result",
          "data": {
            "text/plain": [
              "user_id                                   user_id                                 \n",
              "00007a02388c208ea7176479f6ae06f8224355b3  00007a02388c208ea7176479f6ae06f8224355b3     9\n",
              "00014a76ed063e1a749171a253bca9d9a0ff1782  00014a76ed063e1a749171a253bca9d9a0ff1782    11\n",
              "00015189668691680bb1a2e58afde1541ec92ced  00015189668691680bb1a2e58afde1541ec92ced    17\n",
              "0001ff7aa2667c8d8b945317b88adaed1c0b9dc2  0001ff7aa2667c8d8b945317b88adaed1c0b9dc2     9\n",
              "00020fcd8b01986a6a85b896ccde6c49f35142ad  00020fcd8b01986a6a85b896ccde6c49f35142ad    32\n",
              "                                                                                      ..\n",
              "fffdef71f13352e9cff769f1d96f5ccf90f8955e  fffdef71f13352e9cff769f1d96f5ccf90f8955e     7\n",
              "fffe29116f96c97b47a5dabdd406784ad0ba6f30  fffe29116f96c97b47a5dabdd406784ad0ba6f30     6\n",
              "fffe5b73c50c72ca9c54947efac1fcacf59c4a17  fffe5b73c50c72ca9c54947efac1fcacf59c4a17    23\n",
              "fffed0bee753cd78494011b8b55dafd4f5c7e5ff  fffed0bee753cd78494011b8b55dafd4f5c7e5ff    13\n",
              "ffff07d7d9bb187aa58c7b81b3d3f35e7cf7c0ee  ffff07d7d9bb187aa58c7b81b3d3f35e7cf7c0ee    13\n",
              "Name: user_id, Length: 110000, dtype: int64"
            ]
          },
          "metadata": {
            "tags": []
          },
          "execution_count": 224
        }
      ]
    },
    {
      "cell_type": "code",
      "metadata": {
        "id": "7wp8-7ndu7zj",
        "outputId": "aba8758d-2aea-440c-bb7d-578a5b45670d",
        "colab": {
          "base_uri": "https://localhost:8080/"
        }
      },
      "source": [
        "songs_per_user.sort_values().head()"
      ],
      "execution_count": 225,
      "outputs": [
        {
          "output_type": "execute_result",
          "data": {
            "text/plain": [
              "user_id                                   user_id                                 \n",
              "b4f681dac463c297568bffe7f4b646b74a5e6d0d  b4f681dac463c297568bffe7f4b646b74a5e6d0d    5\n",
              "1691b9058739f0b88ac2777e5bbffe0e1d400f2d  1691b9058739f0b88ac2777e5bbffe0e1d400f2d    5\n",
              "d1764e1f4626164793d400b95efb4a5f80a06cf9  d1764e1f4626164793d400b95efb4a5f80a06cf9    5\n",
              "d1776bb80cf8298288974c52f903cc3b9601761a  d1776bb80cf8298288974c52f903cc3b9601761a    5\n",
              "98d00906e235bede8d2b14b9cf5b802ee2438231  98d00906e235bede8d2b14b9cf5b802ee2438231    5\n",
              "Name: user_id, dtype: int64"
            ]
          },
          "metadata": {
            "tags": []
          },
          "execution_count": 225
        }
      ]
    },
    {
      "cell_type": "code",
      "metadata": {
        "id": "T6KhKoCLcAr0",
        "outputId": "1607f6dd-0c4f-4a7c-dcfd-5a625069c5a0",
        "colab": {
          "base_uri": "https://localhost:8080/"
        }
      },
      "source": [
        "songs_per_user.sort_values().tail()"
      ],
      "execution_count": 226,
      "outputs": [
        {
          "output_type": "execute_result",
          "data": {
            "text/plain": [
              "user_id                                   user_id                                 \n",
              "016a24e91a72c159a5048ab1b9b2ba5ce761b526  016a24e91a72c159a5048ab1b9b2ba5ce761b526    54\n",
              "3233c598c50f0ddbd351504e773cd51de79691db  3233c598c50f0ddbd351504e773cd51de79691db    55\n",
              "d30e18323f15426c3cdc8585252ed34459916f51  d30e18323f15426c3cdc8585252ed34459916f51    55\n",
              "ad4b2717e89766b66b96fe52a38736116e315874  ad4b2717e89766b66b96fe52a38736116e315874    57\n",
              "316110734d8da7478cc33237458814f770a9eb7a  316110734d8da7478cc33237458814f770a9eb7a    57\n",
              "Name: user_id, dtype: int64"
            ]
          },
          "metadata": {
            "tags": []
          },
          "execution_count": 226
        }
      ]
    },
    {
      "cell_type": "code",
      "metadata": {
        "id": "N9O-JEklu7ug",
        "outputId": "8c18c4e6-7272-45c6-c691-a6475c023adc",
        "colab": {
          "base_uri": "https://localhost:8080/"
        }
      },
      "source": [
        "songs_per_user.describe()"
      ],
      "execution_count": 227,
      "outputs": [
        {
          "output_type": "execute_result",
          "data": {
            "text/plain": [
              "count    110000.000000\n",
              "mean         13.563191\n",
              "std           8.321649\n",
              "min           5.000000\n",
              "25%           7.000000\n",
              "50%          11.000000\n",
              "75%          18.000000\n",
              "max          57.000000\n",
              "Name: user_id, dtype: float64"
            ]
          },
          "metadata": {
            "tags": []
          },
          "execution_count": 227
        }
      ]
    },
    {
      "cell_type": "code",
      "metadata": {
        "id": "KqSElUxvu7tF",
        "outputId": "39b40039-8d01-4b8c-e552-e9cf56ff8d7e",
        "colab": {
          "base_uri": "https://localhost:8080/",
          "height": 279
        }
      },
      "source": [
        "plt.xlabel('Number of songs per user')\n",
        "sns.kdeplot(songs_per_user)\n",
        "plt.show()"
      ],
      "execution_count": 228,
      "outputs": [
        {
          "output_type": "display_data",
          "data": {
            "image/png": "[encoded data removed]",
            "text/plain": [
              "<Figure size 432x288 with 1 Axes>"
            ]
          },
          "metadata": {
            "tags": [],
            "needs_background": "light"
          }
        }
      ]
    },
    {
      "cell_type": "markdown",
      "metadata": {
        "id": "bOT2nvbWwYNr"
      },
      "source": [
        "# Analysis of popular artist"
      ]
    },
    {
      "cell_type": "code",
      "metadata": {
        "id": "5ORZzCqlu7oN"
      },
      "source": [
        "#group by\n",
        "#artistname and userid\n",
        "artist_popularity=song_df.groupby(['artist_name'])['artist_name'].value_counts()\n"
      ],
      "execution_count": 231,
      "outputs": []
    },
    {
      "cell_type": "code",
      "metadata": {
        "id": "BVUTpTGBu7ma",
        "outputId": "b7d17f65-8be5-42de-ca80-f5a585e477bf",
        "colab": {
          "base_uri": "https://localhost:8080/"
        }
      },
      "source": [
        "artist_popularity.sort_values().head()"
      ],
      "execution_count": 232,
      "outputs": [
        {
          "output_type": "execute_result",
          "data": {
            "text/plain": [
              "artist_name                     artist_name                   \n",
              "Özlem Tekin                     Özlem Tekin                       1\n",
              "Nightmares On Wax feat. OC      Nightmares On Wax feat. OC        1\n",
              "Hilt                            Hilt                              1\n",
              "CLP feat. Spoek                 CLP feat. Spoek                   1\n",
              "Hilltop Hoods / Pharoahe Monch  Hilltop Hoods / Pharoahe Monch    1\n",
              "Name: artist_name, dtype: int64"
            ]
          },
          "metadata": {
            "tags": []
          },
          "execution_count": 232
        }
      ]
    },
    {
      "cell_type": "code",
      "metadata": {
        "id": "7Atnb6jbu7gv",
        "outputId": "93263f50-814c-4fa4-f8dd-5c683cff66a2",
        "colab": {
          "base_uri": "https://localhost:8080/"
        }
      },
      "source": [
        "artist_popularity.sort_values().tail()"
      ],
      "execution_count": 233,
      "outputs": [
        {
          "output_type": "execute_result",
          "data": {
            "text/plain": [
              "artist_name             artist_name           \n",
              "Eminem                  Eminem                     8160\n",
              "Florence + The Machine  Florence + The Machine     8213\n",
              "Justin Bieber           Justin Bieber              9259\n",
              "Kings Of Leon           Kings Of Leon             11586\n",
              "Coldplay                Coldplay                  13675\n",
              "Name: artist_name, dtype: int64"
            ]
          },
          "metadata": {
            "tags": []
          },
          "execution_count": 233
        }
      ]
    },
    {
      "cell_type": "code",
      "metadata": {
        "id": "-9RkOvgRu7fP",
        "outputId": "61050692-6a06-4dcc-cfaf-15aebc783fc6",
        "colab": {
          "base_uri": "https://localhost:8080/"
        }
      },
      "source": [
        "# looking at cold play releases\n",
        "song_df[song_df['artist_name']=='Coldplay']['release'].unique()"
      ],
      "execution_count": 244,
      "outputs": [
        {
          "output_type": "execute_result",
          "data": {
            "text/plain": [
              "array(['Yellow', 'The Scientist', 'Fix You', \"Don't Panic\", 'Sparks',\n",
              "       'Clocks', 'Life In Technicolor ii', 'Such A Rush',\n",
              "       'Fix You (Live)', 'Speed Of Sound', 'Lost!',\n",
              "       'God Put A Smile Upon Your Face', 'Brothers & Sisters',\n",
              "       'A Rush Of Blood To The Head', 'Clocks (Live In Sydney)',\n",
              "       'One I Love', 'For You', 'You Only Live Twice (Live From Norway)',\n",
              "       'Shiver', 'Swallowed In The Sea', 'In My Place',\n",
              "       'Postcards From Far Away', 'Glass Of Water',\n",
              "       \"Things I Don't Understand\", 'Strawberry Swing', '42',\n",
              "       'Til Kingdom Come', 'The Goldrush', 'X & Y', 'Life In Technicolor',\n",
              "       'We Never Change', 'Bigger Stronger', 'What If', 'Trouble',\n",
              "       \"Everything's Not Lost (Includes Hidden Track 'Life Is For Living')\",\n",
              "       'Only Superstition', 'Politik', 'Careful Where You Stand',\n",
              "       'Warning Sign', 'See You Soon', 'Spies', 'Cemeteries Of London',\n",
              "       'A Whisper', 'A Message', 'Square One', 'Low', 'I Bloom Blaum',\n",
              "       'I Ran Away', 'The World Turned Upside Down',\n",
              "       'Talk (Junkie XL Remix)', 'Help Is Round The Corner', 'Daylight',\n",
              "       'Yes', 'High Speed', \"Now My Feet Won't Touch The Ground\",\n",
              "       'Twisted Logic', 'Violet Hill', 'White Shadows',\n",
              "       'See You Soon (Live In Sydney)', 'Proof', 'Amsterdam', '1.36',\n",
              "       'Shiver (Live In Sydney)',\n",
              "       \"Everything's Not Lost (Live In Sydney)\",\n",
              "       'A Rush Of Blood To The Head (Live In Sydney)',\n",
              "       'Yellow (Live In Sydney)', 'Talk (Francois K Dub)', 'Sleeping Sun',\n",
              "       'Pour Me (Live At The Hollywood Bowl)', 'Lost?',\n",
              "       'Moses (Live In Sydney)',\n",
              "       'Life In Technicolor ii (Live @ The O2_ London)',\n",
              "       'In My Place (Live In Sydney)', 'Talk (Thin White Duke Mix)',\n",
              "       'Speed Of Sound (Live)', 'Amsterdam (Live In Sydney)'],\n",
              "      dtype=object)"
            ]
          },
          "metadata": {
            "tags": []
          },
          "execution_count": 244
        }
      ]
    },
    {
      "cell_type": "code",
      "metadata": {
        "id": "t5JFWUTUu7aC",
        "outputId": "f92f82c5-2ba2-4241-cc63-4df87e66815e",
        "colab": {
          "base_uri": "https://localhost:8080/"
        }
      },
      "source": [
        "# looking at justin beiber releases\n",
        "song_df[song_df['artist_name']=='Justin Bieber']['release'].unique()"
      ],
      "execution_count": 245,
      "outputs": [
        {
          "output_type": "execute_result",
          "data": {
            "text/plain": [
              "array(['Somebody To Love', 'Down To Earth', 'One Time', 'U Smile',\n",
              "       'Favorite Girl', 'Love Me', 'Common Denominator',\n",
              "       'Never Let You Go', 'Stuck In The Moment', 'Up',\n",
              "       'One Less Lonely Girl', 'That Should Be Me', 'Bigger',\n",
              "       'Runaway Love'], dtype=object)"
            ]
          },
          "metadata": {
            "tags": []
          },
          "execution_count": 245
        }
      ]
    },
    {
      "cell_type": "code",
      "metadata": {
        "id": "jX5BPHwnu7Yl"
      },
      "source": [
        "sorted_artist_popularity=artist_popularity.sort_values(ascending=False)"
      ],
      "execution_count": 246,
      "outputs": []
    },
    {
      "cell_type": "code",
      "metadata": {
        "id": "YjKBqwBNu7TQ",
        "outputId": "e963049b-f689-44d0-f695-364e34558e0b",
        "colab": {
          "base_uri": "https://localhost:8080/",
          "height": 432
        }
      },
      "source": [
        "# plotting of popularity and artist\n",
        "\n",
        "sorted_artist_popularity.plot.line()\n",
        "plt.xticks(rotation=45)\n",
        "plt.title('popularity and artist')"
      ],
      "execution_count": 252,
      "outputs": [
        {
          "output_type": "execute_result",
          "data": {
            "text/plain": [
              "Text(0.5, 1.0, 'popularity and artist')"
            ]
          },
          "metadata": {
            "tags": []
          },
          "execution_count": 252
        },
        {
          "output_type": "display_data",
          "data": {
            "image/png": "[encoded data removed]",
            "text/plain": [
              "<Figure size 432x288 with 1 Axes>"
            ]
          },
          "metadata": {
            "tags": [],
            "needs_background": "light"
          }
        }
      ]
    },
    {
      "cell_type": "markdown",
      "metadata": {
        "id": "mpqzeeDbxgwP"
      },
      "source": [
        "# Analysis of popularity song"
      ]
    },
    {
      "cell_type": "code",
      "metadata": {
        "id": "xfjM41k8u7R1"
      },
      "source": [
        "# using release and userid\n",
        "song_popularity=song_df.groupby(['release'])['release'].value_counts()\n"
      ],
      "execution_count": 255,
      "outputs": []
    },
    {
      "cell_type": "code",
      "metadata": {
        "id": "EWG_Astmu7HG",
        "outputId": "33ba1f69-b2cc-4029-9275-21957f78f122",
        "colab": {
          "base_uri": "https://localhost:8080/"
        }
      },
      "source": [
        "song_popularity.sort_values().head()"
      ],
      "execution_count": 256,
      "outputs": [
        {
          "output_type": "execute_result",
          "data": {
            "text/plain": [
              "release                    release                  \n",
              "\n",
              "Ef Ég Hefði Aldrei...     \n",
              "Ef Ég Hefði Aldrei...       1\n",
              "Makin' me hot              Makin' me hot                1\n",
              "Makin' Money               Makin' Money                 1\n",
              "Makin' Magic               Makin' Magic                 1\n",
              "Makin' Love To A Murderer  Makin' Love To A Murderer    1\n",
              "Name: release, dtype: int64"
            ]
          },
          "metadata": {
            "tags": []
          },
          "execution_count": 256
        }
      ]
    },
    {
      "cell_type": "code",
      "metadata": {
        "id": "lIC5zxFlu62L",
        "outputId": "ac523aa2-19bc-4609-a3ad-db2b21182a7d",
        "colab": {
          "base_uri": "https://localhost:8080/"
        }
      },
      "source": [
        "song_popularity.sort_values().tail()"
      ],
      "execution_count": 257,
      "outputs": [
        {
          "output_type": "execute_result",
          "data": {
            "text/plain": [
              "release                         release                       \n",
              "Dog Days Are Over (Radio Edit)  Dog Days Are Over (Radio Edit)    3780\n",
              "Use Somebody                    Use Somebody                      3822\n",
              "You're The One                  You're The One                    4270\n",
              "Undo                            Undo                              4483\n",
              "Sehr kosmisch                   Sehr kosmisch                     5043\n",
              "Name: release, dtype: int64"
            ]
          },
          "metadata": {
            "tags": []
          },
          "execution_count": 257
        }
      ]
    },
    {
      "cell_type": "code",
      "metadata": {
        "id": "ZUkYzTqru6PO"
      },
      "source": [
        "sorted_song_popularity=song_popularity.sort_values(ascending=False)"
      ],
      "execution_count": 258,
      "outputs": []
    },
    {
      "cell_type": "code",
      "metadata": {
        "id": "OP5XuzCcyQmj"
      },
      "source": [
        "# plot betweeen popularity and song"
      ],
      "execution_count": null,
      "outputs": []
    },
    {
      "cell_type": "code",
      "metadata": {
        "id": "t_gafLfyyRmH",
        "outputId": "b008a209-f99c-417d-f9cc-49b84f8f89bf",
        "colab": {
          "base_uri": "https://localhost:8080/",
          "height": 500
        }
      },
      "source": [
        "sorted_song_popularity.plot.line()\n",
        "plt.xticks(rotation=45)\n",
        "plt.title('popularity and song')"
      ],
      "execution_count": 260,
      "outputs": [
        {
          "output_type": "execute_result",
          "data": {
            "text/plain": [
              "Text(0.5, 1.0, 'popularity and song')"
            ]
          },
          "metadata": {
            "tags": []
          },
          "execution_count": 260
        },
        {
          "output_type": "display_data",
          "data": {
            "image/png": "[encoded data removed]",
            "text/plain": [
              "<Figure size 432x288 with 1 Axes>"
            ]
          },
          "metadata": {
            "tags": [],
            "needs_background": "light"
          }
        }
      ]
    },
    {
      "cell_type": "code",
      "metadata": {
        "id": "cEPBO61SyRxX"
      },
      "source": [
        ""
      ],
      "execution_count": null,
      "outputs": []
    },
    {
      "cell_type": "code",
      "metadata": {
        "id": "eNbFkj_4yR_n"
      },
      "source": [
        ""
      ],
      "execution_count": null,
      "outputs": []
    }
  ]
}