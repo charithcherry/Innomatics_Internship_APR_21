{
  "nbformat": 4,
  "nbformat_minor": 0,
  "metadata": {
    "colab": {
      "name": "Music_Rec_Sys.ipynb",
      "provenance": [],
      "collapsed_sections": [],
      "include_colab_link": true
    },
    "kernelspec": {
      "name": "python3",
      "display_name": "Python 3"
    },
    "language_info": {
      "name": "python"
    },
    "accelerator": "GPU"
  },
  "cells": [
    {
      "cell_type": "markdown",
      "metadata": {
        "id": "view-in-github",
        "colab_type": "text"
      },
      "source": [
        "<a href=\"https://colab.research.google.com/github/charithcherry/Innomatics_Internship_APR_21/blob/main/Recommender%20System/Music_Rec_Sys.ipynb\" target=\"_parent\"><img src=\"https://colab.research.google.com/assets/colab-badge.svg\" alt=\"Open In Colab\"/></a>"
      ]
    },
    {
      "cell_type": "code",
      "metadata": {
        "id": "47Z3zp0tK-fe"
      },
      "source": [
        "import warnings\n",
        "warnings.filterwarnings('ignore')"
      ],
      "execution_count": 1,
      "outputs": []
    },
    {
      "cell_type": "code",
      "metadata": {
        "id": "PzvkgnCI8MbZ",
        "colab": {
          "base_uri": "https://localhost:8080/"
        },
        "outputId": "4211bb04-f679-4572-82f0-e0324bcf7279"
      },
      "source": [
        "from google.colab import drive\n",
        "drive.mount('/content/drive')"
      ],
      "execution_count": 2,
      "outputs": [
        {
          "output_type": "stream",
          "text": [
            "Mounted at /content/drive\n"
          ],
          "name": "stdout"
        }
      ]
    },
    {
      "cell_type": "code",
      "metadata": {
        "id": "Cd3JsOX48MX5",
        "colab": {
          "base_uri": "https://localhost:8080/"
        },
        "outputId": "e6d3545b-31e7-447d-8315-2f563751ce82"
      },
      "source": [
        "cd '/content/drive/MyDrive/musicdata/kaggle'\n"
      ],
      "execution_count": 4,
      "outputs": [
        {
          "output_type": "stream",
          "text": [
            "/content/drive/MyDrive/musicdata/kaggle\n"
          ],
          "name": "stdout"
        }
      ]
    },
    {
      "cell_type": "code",
      "metadata": {
        "id": "7nDBBNn88MVu",
        "colab": {
          "base_uri": "https://localhost:8080/"
        },
        "outputId": "9ff50555-6f61-4718-da0c-5473d162851f"
      },
      "source": [
        "ls"
      ],
      "execution_count": 5,
      "outputs": [
        {
          "output_type": "stream",
          "text": [
            "kaggle_songs.txt                        MSDChallengeGettingstarted.pdf\n",
            "kaggle_users.txt                        taste_profile_song_to_tracks.txt\n",
            "kaggle_visible_evaluation_triplets.txt  unique_tracks.txt\n"
          ],
          "name": "stdout"
        }
      ]
    },
    {
      "cell_type": "code",
      "metadata": {
        "id": "0xj-NLfcOJmD"
      },
      "source": [
        "import numpy as np\n",
        "import pandas as pd\n",
        "import matplotlib.pyplot as plt\n",
        "import seaborn as sns"
      ],
      "execution_count": 6,
      "outputs": []
    },
    {
      "cell_type": "markdown",
      "metadata": {
        "id": "p78-ftXT_2e6"
      },
      "source": [
        "**VISIBLE EVALUTION TRIPLETS DATA**"
      ]
    },
    {
      "cell_type": "code",
      "metadata": {
        "colab": {
          "base_uri": "https://localhost:8080/",
          "height": 203
        },
        "id": "qd73mWnIOVS1",
        "outputId": "d2ba689a-1ac4-4426-d91c-82fd97ffbe61"
      },
      "source": [
        "df=pd.read_csv('kaggle_visible_evaluation_triplets.txt',sep='\\t',names=['user_id','song_id','freq'])\n",
        "df.head()"
      ],
      "execution_count": 7,
      "outputs": [
        {
          "output_type": "execute_result",
          "data": {
            "text/html": [
              "<div>\n",
              "<style scoped>\n",
              "    .dataframe tbody tr th:only-of-type {\n",
              "        vertical-align: middle;\n",
              "    }\n",
              "\n",
              "    .dataframe tbody tr th {\n",
              "        vertical-align: top;\n",
              "    }\n",
              "\n",
              "    .dataframe thead th {\n",
              "        text-align: right;\n",
              "    }\n",
              "</style>\n",
              "<table border=\"1\" class=\"dataframe\">\n",
              "  <thead>\n",
              "    <tr style=\"text-align: right;\">\n",
              "      <th></th>\n",
              "      <th>user_id</th>\n",
              "      <th>song_id</th>\n",
              "      <th>freq</th>\n",
              "    </tr>\n",
              "  </thead>\n",
              "  <tbody>\n",
              "    <tr>\n",
              "      <th>0</th>\n",
              "      <td>fd50c4007b68a3737fe052d5a4f78ce8aa117f3d</td>\n",
              "      <td>SOBONKR12A58A7A7E0</td>\n",
              "      <td>1</td>\n",
              "    </tr>\n",
              "    <tr>\n",
              "      <th>1</th>\n",
              "      <td>fd50c4007b68a3737fe052d5a4f78ce8aa117f3d</td>\n",
              "      <td>SOEGIYH12A6D4FC0E3</td>\n",
              "      <td>1</td>\n",
              "    </tr>\n",
              "    <tr>\n",
              "      <th>2</th>\n",
              "      <td>fd50c4007b68a3737fe052d5a4f78ce8aa117f3d</td>\n",
              "      <td>SOFLJQZ12A6D4FADA6</td>\n",
              "      <td>1</td>\n",
              "    </tr>\n",
              "    <tr>\n",
              "      <th>3</th>\n",
              "      <td>fd50c4007b68a3737fe052d5a4f78ce8aa117f3d</td>\n",
              "      <td>SOHTKMO12AB01843B0</td>\n",
              "      <td>1</td>\n",
              "    </tr>\n",
              "    <tr>\n",
              "      <th>4</th>\n",
              "      <td>fd50c4007b68a3737fe052d5a4f78ce8aa117f3d</td>\n",
              "      <td>SODQZCY12A6D4F9D11</td>\n",
              "      <td>1</td>\n",
              "    </tr>\n",
              "  </tbody>\n",
              "</table>\n",
              "</div>"
            ],
            "text/plain": [
              "                                    user_id             song_id  freq\n",
              "0  fd50c4007b68a3737fe052d5a4f78ce8aa117f3d  SOBONKR12A58A7A7E0     1\n",
              "1  fd50c4007b68a3737fe052d5a4f78ce8aa117f3d  SOEGIYH12A6D4FC0E3     1\n",
              "2  fd50c4007b68a3737fe052d5a4f78ce8aa117f3d  SOFLJQZ12A6D4FADA6     1\n",
              "3  fd50c4007b68a3737fe052d5a4f78ce8aa117f3d  SOHTKMO12AB01843B0     1\n",
              "4  fd50c4007b68a3737fe052d5a4f78ce8aa117f3d  SODQZCY12A6D4F9D11     1"
            ]
          },
          "metadata": {
            "tags": []
          },
          "execution_count": 7
        }
      ]
    },
    {
      "cell_type": "markdown",
      "metadata": {
        "id": "18LLL7fa871c"
      },
      "source": [
        "DATA DESCRIPTION"
      ]
    },
    {
      "cell_type": "code",
      "metadata": {
        "colab": {
          "base_uri": "https://localhost:8080/",
          "height": 295
        },
        "id": "2bMggQUfOtuU",
        "outputId": "8548b525-253f-4058-a7fa-1d3b6cdd916a"
      },
      "source": [
        "df.describe()"
      ],
      "execution_count": 8,
      "outputs": [
        {
          "output_type": "execute_result",
          "data": {
            "text/html": [
              "<div>\n",
              "<style scoped>\n",
              "    .dataframe tbody tr th:only-of-type {\n",
              "        vertical-align: middle;\n",
              "    }\n",
              "\n",
              "    .dataframe tbody tr th {\n",
              "        vertical-align: top;\n",
              "    }\n",
              "\n",
              "    .dataframe thead th {\n",
              "        text-align: right;\n",
              "    }\n",
              "</style>\n",
              "<table border=\"1\" class=\"dataframe\">\n",
              "  <thead>\n",
              "    <tr style=\"text-align: right;\">\n",
              "      <th></th>\n",
              "      <th>freq</th>\n",
              "    </tr>\n",
              "  </thead>\n",
              "  <tbody>\n",
              "    <tr>\n",
              "      <th>count</th>\n",
              "      <td>1.450933e+06</td>\n",
              "    </tr>\n",
              "    <tr>\n",
              "      <th>mean</th>\n",
              "      <td>3.187149e+00</td>\n",
              "    </tr>\n",
              "    <tr>\n",
              "      <th>std</th>\n",
              "      <td>7.051664e+00</td>\n",
              "    </tr>\n",
              "    <tr>\n",
              "      <th>min</th>\n",
              "      <td>1.000000e+00</td>\n",
              "    </tr>\n",
              "    <tr>\n",
              "      <th>25%</th>\n",
              "      <td>1.000000e+00</td>\n",
              "    </tr>\n",
              "    <tr>\n",
              "      <th>50%</th>\n",
              "      <td>1.000000e+00</td>\n",
              "    </tr>\n",
              "    <tr>\n",
              "      <th>75%</th>\n",
              "      <td>3.000000e+00</td>\n",
              "    </tr>\n",
              "    <tr>\n",
              "      <th>max</th>\n",
              "      <td>9.230000e+02</td>\n",
              "    </tr>\n",
              "  </tbody>\n",
              "</table>\n",
              "</div>"
            ],
            "text/plain": [
              "               freq\n",
              "count  1.450933e+06\n",
              "mean   3.187149e+00\n",
              "std    7.051664e+00\n",
              "min    1.000000e+00\n",
              "25%    1.000000e+00\n",
              "50%    1.000000e+00\n",
              "75%    3.000000e+00\n",
              "max    9.230000e+02"
            ]
          },
          "metadata": {
            "tags": []
          },
          "execution_count": 8
        }
      ]
    },
    {
      "cell_type": "code",
      "metadata": {
        "id": "Cd0RQeN4AG2P",
        "colab": {
          "base_uri": "https://localhost:8080/"
        },
        "outputId": "494c1797-d3fc-4179-fe16-3463224cec49"
      },
      "source": [
        "df.shape"
      ],
      "execution_count": 9,
      "outputs": [
        {
          "output_type": "execute_result",
          "data": {
            "text/plain": [
              "(1450933, 3)"
            ]
          },
          "metadata": {
            "tags": []
          },
          "execution_count": 9
        }
      ]
    },
    {
      "cell_type": "code",
      "metadata": {
        "colab": {
          "base_uri": "https://localhost:8080/"
        },
        "id": "HPnWg0hiOwoM",
        "outputId": "87f1f7a9-67d2-45d8-b16e-7d476e12f32d"
      },
      "source": [
        "df.info()"
      ],
      "execution_count": 10,
      "outputs": [
        {
          "output_type": "stream",
          "text": [
            "<class 'pandas.core.frame.DataFrame'>\n",
            "RangeIndex: 1450933 entries, 0 to 1450932\n",
            "Data columns (total 3 columns):\n",
            " #   Column   Non-Null Count    Dtype \n",
            "---  ------   --------------    ----- \n",
            " 0   user_id  1450933 non-null  object\n",
            " 1   song_id  1450933 non-null  object\n",
            " 2   freq     1450933 non-null  int64 \n",
            "dtypes: int64(1), object(2)\n",
            "memory usage: 33.2+ MB\n"
          ],
          "name": "stdout"
        }
      ]
    },
    {
      "cell_type": "markdown",
      "metadata": {
        "id": "Fb5lohcC_j_-"
      },
      "source": [
        "NULL and DUPLICATE VALUES"
      ]
    },
    {
      "cell_type": "code",
      "metadata": {
        "id": "5qcbrNgc-4HB",
        "colab": {
          "base_uri": "https://localhost:8080/"
        },
        "outputId": "91881efc-6ba1-4e71-bbee-3f9eace33c4e"
      },
      "source": [
        "df.isnull().sum()"
      ],
      "execution_count": 11,
      "outputs": [
        {
          "output_type": "execute_result",
          "data": {
            "text/plain": [
              "user_id    0\n",
              "song_id    0\n",
              "freq       0\n",
              "dtype: int64"
            ]
          },
          "metadata": {
            "tags": []
          },
          "execution_count": 11
        }
      ]
    },
    {
      "cell_type": "code",
      "metadata": {
        "id": "mutb8xIECwr9",
        "colab": {
          "base_uri": "https://localhost:8080/"
        },
        "outputId": "763b6b51-f30f-4416-e047-7ecca5770a1a"
      },
      "source": [
        "sum(df.duplicated())"
      ],
      "execution_count": 12,
      "outputs": [
        {
          "output_type": "execute_result",
          "data": {
            "text/plain": [
              "0"
            ]
          },
          "metadata": {
            "tags": []
          },
          "execution_count": 12
        }
      ]
    },
    {
      "cell_type": "markdown",
      "metadata": {
        "id": "UHJuudlG_xGC"
      },
      "source": [
        "**UNIQUE TRACK DATA**"
      ]
    },
    {
      "cell_type": "code",
      "metadata": {
        "colab": {
          "base_uri": "https://localhost:8080/",
          "height": 203
        },
        "id": "YWfKgH6TOygr",
        "outputId": "70ddaff1-109e-4423-e930-e4bdc60b5ae5"
      },
      "source": [
        "detail_df=pd.read_csv('unique_tracks.txt',sep='<SEP>',names=['track_id','song_id','artist_name','release'])\n",
        "detail_df.head()"
      ],
      "execution_count": 13,
      "outputs": [
        {
          "output_type": "execute_result",
          "data": {
            "text/html": [
              "<div>\n",
              "<style scoped>\n",
              "    .dataframe tbody tr th:only-of-type {\n",
              "        vertical-align: middle;\n",
              "    }\n",
              "\n",
              "    .dataframe tbody tr th {\n",
              "        vertical-align: top;\n",
              "    }\n",
              "\n",
              "    .dataframe thead th {\n",
              "        text-align: right;\n",
              "    }\n",
              "</style>\n",
              "<table border=\"1\" class=\"dataframe\">\n",
              "  <thead>\n",
              "    <tr style=\"text-align: right;\">\n",
              "      <th></th>\n",
              "      <th>track_id</th>\n",
              "      <th>song_id</th>\n",
              "      <th>artist_name</th>\n",
              "      <th>release</th>\n",
              "    </tr>\n",
              "  </thead>\n",
              "  <tbody>\n",
              "    <tr>\n",
              "      <th>0</th>\n",
              "      <td>TRMMMYQ128F932D901</td>\n",
              "      <td>SOQMMHC12AB0180CB8</td>\n",
              "      <td>Faster Pussy cat</td>\n",
              "      <td>Silent Night</td>\n",
              "    </tr>\n",
              "    <tr>\n",
              "      <th>1</th>\n",
              "      <td>TRMMMKD128F425225D</td>\n",
              "      <td>SOVFVAK12A8C1350D9</td>\n",
              "      <td>Karkkiautomaatti</td>\n",
              "      <td>Tanssi vaan</td>\n",
              "    </tr>\n",
              "    <tr>\n",
              "      <th>2</th>\n",
              "      <td>TRMMMRX128F93187D9</td>\n",
              "      <td>SOGTUKN12AB017F4F1</td>\n",
              "      <td>Hudson Mohawke</td>\n",
              "      <td>No One Could Ever</td>\n",
              "    </tr>\n",
              "    <tr>\n",
              "      <th>3</th>\n",
              "      <td>TRMMMCH128F425532C</td>\n",
              "      <td>SOBNYVR12A8C13558C</td>\n",
              "      <td>Yerba Brava</td>\n",
              "      <td>Si Vos Querés</td>\n",
              "    </tr>\n",
              "    <tr>\n",
              "      <th>4</th>\n",
              "      <td>TRMMMWA128F426B589</td>\n",
              "      <td>SOHSBXH12A8C13B0DF</td>\n",
              "      <td>Der Mystic</td>\n",
              "      <td>Tangle Of Aspens</td>\n",
              "    </tr>\n",
              "  </tbody>\n",
              "</table>\n",
              "</div>"
            ],
            "text/plain": [
              "             track_id             song_id       artist_name            release\n",
              "0  TRMMMYQ128F932D901  SOQMMHC12AB0180CB8  Faster Pussy cat       Silent Night\n",
              "1  TRMMMKD128F425225D  SOVFVAK12A8C1350D9  Karkkiautomaatti        Tanssi vaan\n",
              "2  TRMMMRX128F93187D9  SOGTUKN12AB017F4F1    Hudson Mohawke  No One Could Ever\n",
              "3  TRMMMCH128F425532C  SOBNYVR12A8C13558C       Yerba Brava      Si Vos Querés\n",
              "4  TRMMMWA128F426B589  SOHSBXH12A8C13B0DF        Der Mystic   Tangle Of Aspens"
            ]
          },
          "metadata": {
            "tags": []
          },
          "execution_count": 13
        }
      ]
    },
    {
      "cell_type": "code",
      "metadata": {
        "colab": {
          "base_uri": "https://localhost:8080/"
        },
        "id": "02rlt2SZTdNI",
        "outputId": "ba4af3b6-1241-4c6b-cae9-05fd9a31ed9d"
      },
      "source": [
        "detail_df.shape"
      ],
      "execution_count": 14,
      "outputs": [
        {
          "output_type": "execute_result",
          "data": {
            "text/plain": [
              "(1000000, 4)"
            ]
          },
          "metadata": {
            "tags": []
          },
          "execution_count": 14
        }
      ]
    },
    {
      "cell_type": "code",
      "metadata": {
        "colab": {
          "base_uri": "https://localhost:8080/",
          "height": 203
        },
        "id": "6NN_l3RYPhFZ",
        "outputId": "89a74cdb-c3c7-4fb0-92f9-3f5138e69304"
      },
      "source": [
        "detail_df.tail()"
      ],
      "execution_count": 15,
      "outputs": [
        {
          "output_type": "execute_result",
          "data": {
            "text/html": [
              "<div>\n",
              "<style scoped>\n",
              "    .dataframe tbody tr th:only-of-type {\n",
              "        vertical-align: middle;\n",
              "    }\n",
              "\n",
              "    .dataframe tbody tr th {\n",
              "        vertical-align: top;\n",
              "    }\n",
              "\n",
              "    .dataframe thead th {\n",
              "        text-align: right;\n",
              "    }\n",
              "</style>\n",
              "<table border=\"1\" class=\"dataframe\">\n",
              "  <thead>\n",
              "    <tr style=\"text-align: right;\">\n",
              "      <th></th>\n",
              "      <th>track_id</th>\n",
              "      <th>song_id</th>\n",
              "      <th>artist_name</th>\n",
              "      <th>release</th>\n",
              "    </tr>\n",
              "  </thead>\n",
              "  <tbody>\n",
              "    <tr>\n",
              "      <th>999995</th>\n",
              "      <td>TRYYYUS12903CD2DF0</td>\n",
              "      <td>SOTXAME12AB018F136</td>\n",
              "      <td>Kiko Navarro</td>\n",
              "      <td>O Samba Da Vida</td>\n",
              "    </tr>\n",
              "    <tr>\n",
              "      <th>999996</th>\n",
              "      <td>TRYYYJO128F426DA37</td>\n",
              "      <td>SOXQYIQ12A8C137FBB</td>\n",
              "      <td>Kuldeep Manak</td>\n",
              "      <td>Jago Chhadeo</td>\n",
              "    </tr>\n",
              "    <tr>\n",
              "      <th>999997</th>\n",
              "      <td>TRYYYMG128F4260ECA</td>\n",
              "      <td>SOHODZI12A8C137BB3</td>\n",
              "      <td>Gabriel Le Mar</td>\n",
              "      <td>Novemba</td>\n",
              "    </tr>\n",
              "    <tr>\n",
              "      <th>999998</th>\n",
              "      <td>TRYYYDJ128F9310A21</td>\n",
              "      <td>SOLXGOR12A81C21EB7</td>\n",
              "      <td>Elude</td>\n",
              "      <td>Faraday</td>\n",
              "    </tr>\n",
              "    <tr>\n",
              "      <th>999999</th>\n",
              "      <td>TRYYYVU12903CD01E3</td>\n",
              "      <td>SOWXJXQ12AB0189F43</td>\n",
              "      <td>Texta</td>\n",
              "      <td>Fernweh feat. Sektion Kuchikäschtli</td>\n",
              "    </tr>\n",
              "  </tbody>\n",
              "</table>\n",
              "</div>"
            ],
            "text/plain": [
              "                  track_id  ...                              release\n",
              "999995  TRYYYUS12903CD2DF0  ...                      O Samba Da Vida\n",
              "999996  TRYYYJO128F426DA37  ...                         Jago Chhadeo\n",
              "999997  TRYYYMG128F4260ECA  ...                              Novemba\n",
              "999998  TRYYYDJ128F9310A21  ...                              Faraday\n",
              "999999  TRYYYVU12903CD01E3  ...  Fernweh feat. Sektion Kuchikäschtli\n",
              "\n",
              "[5 rows x 4 columns]"
            ]
          },
          "metadata": {
            "tags": []
          },
          "execution_count": 15
        }
      ]
    },
    {
      "cell_type": "markdown",
      "metadata": {
        "id": "QEScPHN4DQy0"
      },
      "source": [
        "NULL AND DUPLICATE VALUES"
      ]
    },
    {
      "cell_type": "code",
      "metadata": {
        "colab": {
          "base_uri": "https://localhost:8080/"
        },
        "id": "N7TTnszFPpuQ",
        "outputId": "23f683fe-b83f-46af-9747-ea4a2eff7079"
      },
      "source": [
        "print(\"Number of null values \\n{}.\".format(detail_df.isnull().sum()))"
      ],
      "execution_count": 16,
      "outputs": [
        {
          "output_type": "stream",
          "text": [
            "Number of null values \n",
            "track_id        0\n",
            "song_id         0\n",
            "artist_name     0\n",
            "release        15\n",
            "dtype: int64.\n"
          ],
          "name": "stdout"
        }
      ]
    },
    {
      "cell_type": "code",
      "metadata": {
        "id": "piqQgoJwDf_x",
        "colab": {
          "base_uri": "https://localhost:8080/"
        },
        "outputId": "5770dfd1-ae01-46fa-a428-4493b235b23c"
      },
      "source": [
        "print(\"Number of duplicate values {}\".format(sum(detail_df.duplicated())))"
      ],
      "execution_count": 17,
      "outputs": [
        {
          "output_type": "stream",
          "text": [
            "Number of duplicate values 0\n"
          ],
          "name": "stdout"
        }
      ]
    },
    {
      "cell_type": "code",
      "metadata": {
        "id": "YSggFYWYRjry"
      },
      "source": [
        "detail_df=detail_df.dropna()"
      ],
      "execution_count": 18,
      "outputs": []
    },
    {
      "cell_type": "code",
      "metadata": {
        "colab": {
          "base_uri": "https://localhost:8080/"
        },
        "id": "inO2z0qcUSjk",
        "outputId": "7e4f3162-6035-4e1c-d2cb-e6cea376a46d"
      },
      "source": [
        "detail_df.shape"
      ],
      "execution_count": 19,
      "outputs": [
        {
          "output_type": "execute_result",
          "data": {
            "text/plain": [
              "(999985, 4)"
            ]
          },
          "metadata": {
            "tags": []
          },
          "execution_count": 19
        }
      ]
    },
    {
      "cell_type": "code",
      "metadata": {
        "colab": {
          "base_uri": "https://localhost:8080/"
        },
        "id": "pWa1qVogUVZC",
        "outputId": "87d824ee-6ffc-4a78-c75d-66e96e0a719b"
      },
      "source": [
        "print(\"Number of Null values are \\n{}\".format(detail_df.isnull().sum()))"
      ],
      "execution_count": 20,
      "outputs": [
        {
          "output_type": "stream",
          "text": [
            "Number of Null values are \n",
            "track_id       0\n",
            "song_id        0\n",
            "artist_name    0\n",
            "release        0\n",
            "dtype: int64\n"
          ],
          "name": "stdout"
        }
      ]
    },
    {
      "cell_type": "markdown",
      "metadata": {
        "id": "bbh-exczEJvn"
      },
      "source": [
        "**MERGING DATAFRAMES**"
      ]
    },
    {
      "cell_type": "code",
      "metadata": {
        "colab": {
          "base_uri": "https://localhost:8080/",
          "height": 203
        },
        "id": "LLfBafeJmV6q",
        "outputId": "d11fe292-9766-4ad3-a940-d0849a6adb77"
      },
      "source": [
        "song_df=pd.merge(df,detail_df,on='song_id')\n",
        "song_df.head()\n"
      ],
      "execution_count": 21,
      "outputs": [
        {
          "output_type": "execute_result",
          "data": {
            "text/html": [
              "<div>\n",
              "<style scoped>\n",
              "    .dataframe tbody tr th:only-of-type {\n",
              "        vertical-align: middle;\n",
              "    }\n",
              "\n",
              "    .dataframe tbody tr th {\n",
              "        vertical-align: top;\n",
              "    }\n",
              "\n",
              "    .dataframe thead th {\n",
              "        text-align: right;\n",
              "    }\n",
              "</style>\n",
              "<table border=\"1\" class=\"dataframe\">\n",
              "  <thead>\n",
              "    <tr style=\"text-align: right;\">\n",
              "      <th></th>\n",
              "      <th>user_id</th>\n",
              "      <th>song_id</th>\n",
              "      <th>freq</th>\n",
              "      <th>track_id</th>\n",
              "      <th>artist_name</th>\n",
              "      <th>release</th>\n",
              "    </tr>\n",
              "  </thead>\n",
              "  <tbody>\n",
              "    <tr>\n",
              "      <th>0</th>\n",
              "      <td>fd50c4007b68a3737fe052d5a4f78ce8aa117f3d</td>\n",
              "      <td>SOBONKR12A58A7A7E0</td>\n",
              "      <td>1</td>\n",
              "      <td>TRAEHHJ12903CF492F</td>\n",
              "      <td>Dwight Yoakam</td>\n",
              "      <td>You're The One</td>\n",
              "    </tr>\n",
              "    <tr>\n",
              "      <th>1</th>\n",
              "      <td>c34670d9c1718361feb93068a853cead3c95b76a</td>\n",
              "      <td>SOBONKR12A58A7A7E0</td>\n",
              "      <td>1</td>\n",
              "      <td>TRAEHHJ12903CF492F</td>\n",
              "      <td>Dwight Yoakam</td>\n",
              "      <td>You're The One</td>\n",
              "    </tr>\n",
              "    <tr>\n",
              "      <th>2</th>\n",
              "      <td>c5006d9f41f68ccccbf5ee29212b6af494110c5e</td>\n",
              "      <td>SOBONKR12A58A7A7E0</td>\n",
              "      <td>1</td>\n",
              "      <td>TRAEHHJ12903CF492F</td>\n",
              "      <td>Dwight Yoakam</td>\n",
              "      <td>You're The One</td>\n",
              "    </tr>\n",
              "    <tr>\n",
              "      <th>3</th>\n",
              "      <td>e4332e11f4df6dd26673bb6b085e9a2bbdc9b8a5</td>\n",
              "      <td>SOBONKR12A58A7A7E0</td>\n",
              "      <td>2</td>\n",
              "      <td>TRAEHHJ12903CF492F</td>\n",
              "      <td>Dwight Yoakam</td>\n",
              "      <td>You're The One</td>\n",
              "    </tr>\n",
              "    <tr>\n",
              "      <th>4</th>\n",
              "      <td>baf2fe5885ab93fbbdb7fecc6691788e70afb6c8</td>\n",
              "      <td>SOBONKR12A58A7A7E0</td>\n",
              "      <td>4</td>\n",
              "      <td>TRAEHHJ12903CF492F</td>\n",
              "      <td>Dwight Yoakam</td>\n",
              "      <td>You're The One</td>\n",
              "    </tr>\n",
              "  </tbody>\n",
              "</table>\n",
              "</div>"
            ],
            "text/plain": [
              "                                    user_id  ...         release\n",
              "0  fd50c4007b68a3737fe052d5a4f78ce8aa117f3d  ...  You're The One\n",
              "1  c34670d9c1718361feb93068a853cead3c95b76a  ...  You're The One\n",
              "2  c5006d9f41f68ccccbf5ee29212b6af494110c5e  ...  You're The One\n",
              "3  e4332e11f4df6dd26673bb6b085e9a2bbdc9b8a5  ...  You're The One\n",
              "4  baf2fe5885ab93fbbdb7fecc6691788e70afb6c8  ...  You're The One\n",
              "\n",
              "[5 rows x 6 columns]"
            ]
          },
          "metadata": {
            "tags": []
          },
          "execution_count": 21
        }
      ]
    },
    {
      "cell_type": "code",
      "metadata": {
        "id": "n1Y5DeeJm7a_",
        "colab": {
          "base_uri": "https://localhost:8080/"
        },
        "outputId": "b840c7b3-f278-4a03-f046-dc7cf3bca8b4"
      },
      "source": [
        "song_df.shape"
      ],
      "execution_count": 22,
      "outputs": [
        {
          "output_type": "execute_result",
          "data": {
            "text/plain": [
              "(1491951, 6)"
            ]
          },
          "metadata": {
            "tags": []
          },
          "execution_count": 22
        }
      ]
    },
    {
      "cell_type": "markdown",
      "metadata": {
        "id": "rJkb7i5Lq935"
      },
      "source": [
        "#Basic Statistics"
      ]
    },
    {
      "cell_type": "code",
      "metadata": {
        "id": "l34_uD-Iq6P2",
        "colab": {
          "base_uri": "https://localhost:8080/"
        },
        "outputId": "422194ee-5a28-485c-80c7-66013847c5e6"
      },
      "source": [
        "print('Total Data Points',song_df.shape[0])\n",
        "print('Total NO of users',song_df['user_id'].unique().shape[0])\n",
        "print('Total number of songs',song_df['song_id'].unique().shape[0])\n",
        "print('Total number of Tracks',song_df['track_id'].unique().shape[0])\n"
      ],
      "execution_count": 23,
      "outputs": [
        {
          "output_type": "stream",
          "text": [
            "Total Data Points 1491951\n",
            "Total NO of users 110000\n",
            "Total number of songs 163205\n",
            "Total number of Tracks 163827\n"
          ],
          "name": "stdout"
        }
      ]
    },
    {
      "cell_type": "code",
      "metadata": {
        "id": "q6XGcAcuq6Cn",
        "colab": {
          "base_uri": "https://localhost:8080/"
        },
        "outputId": "d5eeeba3-0528-43f0-8308-cd63f9d3b000"
      },
      "source": [
        "print('Number of unique release',song_df['release'].unique().shape[0])\n",
        "print('Number of unique artists',song_df['artist_name'].unique().shape[0])"
      ],
      "execution_count": 24,
      "outputs": [
        {
          "output_type": "stream",
          "text": [
            "Number of unique release 137670\n",
            "Number of unique artists 28366\n"
          ],
          "name": "stdout"
        }
      ]
    },
    {
      "cell_type": "code",
      "metadata": {
        "id": "s6pN8sgOu8BM",
        "colab": {
          "base_uri": "https://localhost:8080/",
          "height": 295
        },
        "outputId": "800e2462-3059-479f-e994-9b70926c0868"
      },
      "source": [
        "song_df.describe()"
      ],
      "execution_count": 25,
      "outputs": [
        {
          "output_type": "execute_result",
          "data": {
            "text/html": [
              "<div>\n",
              "<style scoped>\n",
              "    .dataframe tbody tr th:only-of-type {\n",
              "        vertical-align: middle;\n",
              "    }\n",
              "\n",
              "    .dataframe tbody tr th {\n",
              "        vertical-align: top;\n",
              "    }\n",
              "\n",
              "    .dataframe thead th {\n",
              "        text-align: right;\n",
              "    }\n",
              "</style>\n",
              "<table border=\"1\" class=\"dataframe\">\n",
              "  <thead>\n",
              "    <tr style=\"text-align: right;\">\n",
              "      <th></th>\n",
              "      <th>freq</th>\n",
              "    </tr>\n",
              "  </thead>\n",
              "  <tbody>\n",
              "    <tr>\n",
              "      <th>count</th>\n",
              "      <td>1.491951e+06</td>\n",
              "    </tr>\n",
              "    <tr>\n",
              "      <th>mean</th>\n",
              "      <td>3.179720e+00</td>\n",
              "    </tr>\n",
              "    <tr>\n",
              "      <th>std</th>\n",
              "      <td>7.015025e+00</td>\n",
              "    </tr>\n",
              "    <tr>\n",
              "      <th>min</th>\n",
              "      <td>1.000000e+00</td>\n",
              "    </tr>\n",
              "    <tr>\n",
              "      <th>25%</th>\n",
              "      <td>1.000000e+00</td>\n",
              "    </tr>\n",
              "    <tr>\n",
              "      <th>50%</th>\n",
              "      <td>1.000000e+00</td>\n",
              "    </tr>\n",
              "    <tr>\n",
              "      <th>75%</th>\n",
              "      <td>3.000000e+00</td>\n",
              "    </tr>\n",
              "    <tr>\n",
              "      <th>max</th>\n",
              "      <td>9.230000e+02</td>\n",
              "    </tr>\n",
              "  </tbody>\n",
              "</table>\n",
              "</div>"
            ],
            "text/plain": [
              "               freq\n",
              "count  1.491951e+06\n",
              "mean   3.179720e+00\n",
              "std    7.015025e+00\n",
              "min    1.000000e+00\n",
              "25%    1.000000e+00\n",
              "50%    1.000000e+00\n",
              "75%    3.000000e+00\n",
              "max    9.230000e+02"
            ]
          },
          "metadata": {
            "tags": []
          },
          "execution_count": 25
        }
      ]
    },
    {
      "cell_type": "markdown",
      "metadata": {
        "id": "I7HLQCKNvMRx"
      },
      "source": [
        "# Distribution of Frequency column"
      ]
    },
    {
      "cell_type": "code",
      "metadata": {
        "id": "kvvZLNZdu78y",
        "colab": {
          "base_uri": "https://localhost:8080/",
          "height": 296
        },
        "outputId": "e79b8f84-9520-47fc-8660-9098be2f949a"
      },
      "source": [
        "sns.kdeplot(data=song_df, x=\"freq\")"
      ],
      "execution_count": 26,
      "outputs": [
        {
          "output_type": "execute_result",
          "data": {
            "text/plain": [
              "<matplotlib.axes._subplots.AxesSubplot at 0x7fb2557ddc50>"
            ]
          },
          "metadata": {
            "tags": []
          },
          "execution_count": 26
        },
        {
          "output_type": "display_data",
          "data": {
            "image/png": "[encoded data removed]",
            "text/plain": [
              "<Figure size 432x288 with 1 Axes>"
            ]
          },
          "metadata": {
            "tags": [],
            "needs_background": "light"
          }
        }
      ]
    },
    {
      "cell_type": "markdown",
      "metadata": {
        "id": "-OSiGZ12vWOE"
      },
      "source": [
        "# Number of songs listened per user"
      ]
    },
    {
      "cell_type": "code",
      "metadata": {
        "id": "_-pvkKELu77C"
      },
      "source": [
        "#groupby code\n",
        "#using user_id,song_id\n",
        "songs_per_user=song_df.groupby(['user_id'])['user_id'].value_counts()\n"
      ],
      "execution_count": 27,
      "outputs": []
    },
    {
      "cell_type": "code",
      "metadata": {
        "id": "KtE6jNMOu71G",
        "colab": {
          "base_uri": "https://localhost:8080/"
        },
        "outputId": "84a00830-2340-43a8-f68c-7ff14bd111e3"
      },
      "source": [
        "songs_per_user"
      ],
      "execution_count": 28,
      "outputs": [
        {
          "output_type": "execute_result",
          "data": {
            "text/plain": [
              "user_id                                   user_id                                 \n",
              "00007a02388c208ea7176479f6ae06f8224355b3  00007a02388c208ea7176479f6ae06f8224355b3     9\n",
              "00014a76ed063e1a749171a253bca9d9a0ff1782  00014a76ed063e1a749171a253bca9d9a0ff1782    11\n",
              "00015189668691680bb1a2e58afde1541ec92ced  00015189668691680bb1a2e58afde1541ec92ced    17\n",
              "0001ff7aa2667c8d8b945317b88adaed1c0b9dc2  0001ff7aa2667c8d8b945317b88adaed1c0b9dc2     9\n",
              "00020fcd8b01986a6a85b896ccde6c49f35142ad  00020fcd8b01986a6a85b896ccde6c49f35142ad    32\n",
              "                                                                                      ..\n",
              "fffdef71f13352e9cff769f1d96f5ccf90f8955e  fffdef71f13352e9cff769f1d96f5ccf90f8955e     7\n",
              "fffe29116f96c97b47a5dabdd406784ad0ba6f30  fffe29116f96c97b47a5dabdd406784ad0ba6f30     6\n",
              "fffe5b73c50c72ca9c54947efac1fcacf59c4a17  fffe5b73c50c72ca9c54947efac1fcacf59c4a17    23\n",
              "fffed0bee753cd78494011b8b55dafd4f5c7e5ff  fffed0bee753cd78494011b8b55dafd4f5c7e5ff    13\n",
              "ffff07d7d9bb187aa58c7b81b3d3f35e7cf7c0ee  ffff07d7d9bb187aa58c7b81b3d3f35e7cf7c0ee    13\n",
              "Name: user_id, Length: 110000, dtype: int64"
            ]
          },
          "metadata": {
            "tags": []
          },
          "execution_count": 28
        }
      ]
    },
    {
      "cell_type": "code",
      "metadata": {
        "id": "7wp8-7ndu7zj",
        "colab": {
          "base_uri": "https://localhost:8080/"
        },
        "outputId": "dc0491c0-e6db-42fe-8c9d-161915abd680"
      },
      "source": [
        "songs_per_user.sort_values().head()"
      ],
      "execution_count": 29,
      "outputs": [
        {
          "output_type": "execute_result",
          "data": {
            "text/plain": [
              "user_id                                   user_id                                 \n",
              "b4f681dac463c297568bffe7f4b646b74a5e6d0d  b4f681dac463c297568bffe7f4b646b74a5e6d0d    5\n",
              "1691b9058739f0b88ac2777e5bbffe0e1d400f2d  1691b9058739f0b88ac2777e5bbffe0e1d400f2d    5\n",
              "d1764e1f4626164793d400b95efb4a5f80a06cf9  d1764e1f4626164793d400b95efb4a5f80a06cf9    5\n",
              "d1776bb80cf8298288974c52f903cc3b9601761a  d1776bb80cf8298288974c52f903cc3b9601761a    5\n",
              "98d00906e235bede8d2b14b9cf5b802ee2438231  98d00906e235bede8d2b14b9cf5b802ee2438231    5\n",
              "Name: user_id, dtype: int64"
            ]
          },
          "metadata": {
            "tags": []
          },
          "execution_count": 29
        }
      ]
    },
    {
      "cell_type": "code",
      "metadata": {
        "id": "T6KhKoCLcAr0",
        "colab": {
          "base_uri": "https://localhost:8080/"
        },
        "outputId": "ddd74035-49f2-4e90-bdac-7a81231be96b"
      },
      "source": [
        "songs_per_user.sort_values().tail()"
      ],
      "execution_count": 30,
      "outputs": [
        {
          "output_type": "execute_result",
          "data": {
            "text/plain": [
              "user_id                                   user_id                                 \n",
              "016a24e91a72c159a5048ab1b9b2ba5ce761b526  016a24e91a72c159a5048ab1b9b2ba5ce761b526    54\n",
              "3233c598c50f0ddbd351504e773cd51de79691db  3233c598c50f0ddbd351504e773cd51de79691db    55\n",
              "d30e18323f15426c3cdc8585252ed34459916f51  d30e18323f15426c3cdc8585252ed34459916f51    55\n",
              "ad4b2717e89766b66b96fe52a38736116e315874  ad4b2717e89766b66b96fe52a38736116e315874    57\n",
              "316110734d8da7478cc33237458814f770a9eb7a  316110734d8da7478cc33237458814f770a9eb7a    57\n",
              "Name: user_id, dtype: int64"
            ]
          },
          "metadata": {
            "tags": []
          },
          "execution_count": 30
        }
      ]
    },
    {
      "cell_type": "code",
      "metadata": {
        "id": "N9O-JEklu7ug",
        "colab": {
          "base_uri": "https://localhost:8080/"
        },
        "outputId": "a6f149f9-8f4e-4842-9e12-10e98c71c37d"
      },
      "source": [
        "songs_per_user.describe()"
      ],
      "execution_count": 31,
      "outputs": [
        {
          "output_type": "execute_result",
          "data": {
            "text/plain": [
              "count    110000.000000\n",
              "mean         13.563191\n",
              "std           8.321649\n",
              "min           5.000000\n",
              "25%           7.000000\n",
              "50%          11.000000\n",
              "75%          18.000000\n",
              "max          57.000000\n",
              "Name: user_id, dtype: float64"
            ]
          },
          "metadata": {
            "tags": []
          },
          "execution_count": 31
        }
      ]
    },
    {
      "cell_type": "code",
      "metadata": {
        "id": "KqSElUxvu7tF",
        "colab": {
          "base_uri": "https://localhost:8080/",
          "height": 279
        },
        "outputId": "31ef0bb1-3020-4ac9-9146-3e39b1cb8e68"
      },
      "source": [
        "plt.xlabel('Number of songs per user')\n",
        "sns.kdeplot(songs_per_user)\n",
        "plt.show()"
      ],
      "execution_count": 32,
      "outputs": [
        {
          "output_type": "display_data",
          "data": {
            "image/png": "[encoded data removed]",
            "text/plain": [
              "<Figure size 432x288 with 1 Axes>"
            ]
          },
          "metadata": {
            "tags": [],
            "needs_background": "light"
          }
        }
      ]
    },
    {
      "cell_type": "markdown",
      "metadata": {
        "id": "bOT2nvbWwYNr"
      },
      "source": [
        "# Analysis of popular artist"
      ]
    },
    {
      "cell_type": "code",
      "metadata": {
        "id": "5ORZzCqlu7oN"
      },
      "source": [
        "#group by\n",
        "#artistname and userid\n",
        "artist_popularity=song_df.groupby(['artist_name'])['artist_name'].value_counts()\n"
      ],
      "execution_count": 33,
      "outputs": []
    },
    {
      "cell_type": "code",
      "metadata": {
        "id": "BVUTpTGBu7ma",
        "colab": {
          "base_uri": "https://localhost:8080/"
        },
        "outputId": "cb3070df-5264-4ec2-ad83-938a6a025b6c"
      },
      "source": [
        "artist_popularity.sort_values().head()"
      ],
      "execution_count": 34,
      "outputs": [
        {
          "output_type": "execute_result",
          "data": {
            "text/plain": [
              "artist_name                     artist_name                   \n",
              "Özlem Tekin                     Özlem Tekin                       1\n",
              "Nightmares On Wax feat. OC      Nightmares On Wax feat. OC        1\n",
              "Hilt                            Hilt                              1\n",
              "CLP feat. Spoek                 CLP feat. Spoek                   1\n",
              "Hilltop Hoods / Pharoahe Monch  Hilltop Hoods / Pharoahe Monch    1\n",
              "Name: artist_name, dtype: int64"
            ]
          },
          "metadata": {
            "tags": []
          },
          "execution_count": 34
        }
      ]
    },
    {
      "cell_type": "code",
      "metadata": {
        "id": "7Atnb6jbu7gv",
        "colab": {
          "base_uri": "https://localhost:8080/"
        },
        "outputId": "441c3271-198e-460b-f2e9-a848d57db804"
      },
      "source": [
        "artist_popularity.sort_values().tail()"
      ],
      "execution_count": 35,
      "outputs": [
        {
          "output_type": "execute_result",
          "data": {
            "text/plain": [
              "artist_name             artist_name           \n",
              "Eminem                  Eminem                     8160\n",
              "Florence + The Machine  Florence + The Machine     8213\n",
              "Justin Bieber           Justin Bieber              9259\n",
              "Kings Of Leon           Kings Of Leon             11586\n",
              "Coldplay                Coldplay                  13675\n",
              "Name: artist_name, dtype: int64"
            ]
          },
          "metadata": {
            "tags": []
          },
          "execution_count": 35
        }
      ]
    },
    {
      "cell_type": "code",
      "metadata": {
        "id": "-9RkOvgRu7fP",
        "colab": {
          "base_uri": "https://localhost:8080/"
        },
        "outputId": "e035181d-98be-4732-9bc6-7e535f4650d0"
      },
      "source": [
        "# looking at cold play releases\n",
        "song_df[song_df['artist_name']=='Coldplay']['release'].unique()"
      ],
      "execution_count": 36,
      "outputs": [
        {
          "output_type": "execute_result",
          "data": {
            "text/plain": [
              "array(['Yellow', 'The Scientist', 'Fix You', \"Don't Panic\", 'Sparks',\n",
              "       'Clocks', 'Life In Technicolor ii', 'Such A Rush',\n",
              "       'Fix You (Live)', 'Speed Of Sound', 'Lost!',\n",
              "       'God Put A Smile Upon Your Face', 'Brothers & Sisters',\n",
              "       'A Rush Of Blood To The Head', 'Clocks (Live In Sydney)',\n",
              "       'One I Love', 'For You', 'You Only Live Twice (Live From Norway)',\n",
              "       'Shiver', 'Swallowed In The Sea', 'In My Place',\n",
              "       'Postcards From Far Away', 'Glass Of Water',\n",
              "       \"Things I Don't Understand\", 'Strawberry Swing', '42',\n",
              "       'Til Kingdom Come', 'The Goldrush', 'X & Y', 'Life In Technicolor',\n",
              "       'We Never Change', 'Bigger Stronger', 'What If', 'Trouble',\n",
              "       \"Everything's Not Lost (Includes Hidden Track 'Life Is For Living')\",\n",
              "       'Only Superstition', 'Politik', 'Careful Where You Stand',\n",
              "       'Warning Sign', 'See You Soon', 'Spies', 'Cemeteries Of London',\n",
              "       'A Whisper', 'A Message', 'Square One', 'Low', 'I Bloom Blaum',\n",
              "       'I Ran Away', 'The World Turned Upside Down',\n",
              "       'Talk (Junkie XL Remix)', 'Help Is Round The Corner', 'Daylight',\n",
              "       'Yes', 'High Speed', \"Now My Feet Won't Touch The Ground\",\n",
              "       'Twisted Logic', 'Violet Hill', 'White Shadows',\n",
              "       'See You Soon (Live In Sydney)', 'Proof', 'Amsterdam', '1.36',\n",
              "       'Shiver (Live In Sydney)',\n",
              "       \"Everything's Not Lost (Live In Sydney)\",\n",
              "       'A Rush Of Blood To The Head (Live In Sydney)',\n",
              "       'Yellow (Live In Sydney)', 'Talk (Francois K Dub)', 'Sleeping Sun',\n",
              "       'Pour Me (Live At The Hollywood Bowl)', 'Lost?',\n",
              "       'Moses (Live In Sydney)',\n",
              "       'Life In Technicolor ii (Live @ The O2_ London)',\n",
              "       'In My Place (Live In Sydney)', 'Talk (Thin White Duke Mix)',\n",
              "       'Speed Of Sound (Live)', 'Amsterdam (Live In Sydney)'],\n",
              "      dtype=object)"
            ]
          },
          "metadata": {
            "tags": []
          },
          "execution_count": 36
        }
      ]
    },
    {
      "cell_type": "code",
      "metadata": {
        "id": "t5JFWUTUu7aC",
        "colab": {
          "base_uri": "https://localhost:8080/"
        },
        "outputId": "76a369a1-bbd4-4653-800c-59878e6b620a"
      },
      "source": [
        "# looking at justin beiber releases\n",
        "song_df[song_df['artist_name']=='Justin Bieber']['release'].unique()"
      ],
      "execution_count": 37,
      "outputs": [
        {
          "output_type": "execute_result",
          "data": {
            "text/plain": [
              "array(['Somebody To Love', 'Down To Earth', 'One Time', 'U Smile',\n",
              "       'Favorite Girl', 'Love Me', 'Common Denominator',\n",
              "       'Never Let You Go', 'Stuck In The Moment', 'Up',\n",
              "       'One Less Lonely Girl', 'That Should Be Me', 'Bigger',\n",
              "       'Runaway Love'], dtype=object)"
            ]
          },
          "metadata": {
            "tags": []
          },
          "execution_count": 37
        }
      ]
    },
    {
      "cell_type": "code",
      "metadata": {
        "id": "jX5BPHwnu7Yl"
      },
      "source": [
        "sorted_artist_popularity=artist_popularity.sort_values(ascending=False)"
      ],
      "execution_count": 38,
      "outputs": []
    },
    {
      "cell_type": "code",
      "metadata": {
        "id": "YjKBqwBNu7TQ",
        "colab": {
          "base_uri": "https://localhost:8080/",
          "height": 432
        },
        "outputId": "f582c26e-0541-42f6-9856-82badd56cc1d"
      },
      "source": [
        "# plotting of popularity and artist\n",
        "\n",
        "sorted_artist_popularity.plot.line()\n",
        "plt.xticks(rotation=45)\n",
        "plt.title('popularity and artist')"
      ],
      "execution_count": 39,
      "outputs": [
        {
          "output_type": "execute_result",
          "data": {
            "text/plain": [
              "Text(0.5, 1.0, 'popularity and artist')"
            ]
          },
          "metadata": {
            "tags": []
          },
          "execution_count": 39
        },
        {
          "output_type": "display_data",
          "data": {
            "image/png": "[encoded data removed]",
            "text/plain": [
              "<Figure size 432x288 with 1 Axes>"
            ]
          },
          "metadata": {
            "tags": [],
            "needs_background": "light"
          }
        }
      ]
    },
    {
      "cell_type": "markdown",
      "metadata": {
        "id": "mpqzeeDbxgwP"
      },
      "source": [
        "# Analysis of popularity song"
      ]
    },
    {
      "cell_type": "code",
      "metadata": {
        "id": "xfjM41k8u7R1"
      },
      "source": [
        "# using release and userid\n",
        "song_popularity=song_df.groupby(['release'])['release'].value_counts()\n"
      ],
      "execution_count": 40,
      "outputs": []
    },
    {
      "cell_type": "code",
      "metadata": {
        "id": "EWG_Astmu7HG",
        "colab": {
          "base_uri": "https://localhost:8080/"
        },
        "outputId": "9d41224b-be39-4ca5-e9d4-01b31f04b3e4"
      },
      "source": [
        "song_popularity.sort_values().head()"
      ],
      "execution_count": 41,
      "outputs": [
        {
          "output_type": "execute_result",
          "data": {
            "text/plain": [
              "release                    release                  \n",
              "\n",
              "Ef Ég Hefði Aldrei...     \n",
              "Ef Ég Hefði Aldrei...       1\n",
              "Makin' me hot              Makin' me hot                1\n",
              "Makin' Money               Makin' Money                 1\n",
              "Makin' Magic               Makin' Magic                 1\n",
              "Makin' Love To A Murderer  Makin' Love To A Murderer    1\n",
              "Name: release, dtype: int64"
            ]
          },
          "metadata": {
            "tags": []
          },
          "execution_count": 41
        }
      ]
    },
    {
      "cell_type": "code",
      "metadata": {
        "id": "lIC5zxFlu62L",
        "colab": {
          "base_uri": "https://localhost:8080/"
        },
        "outputId": "b9570a82-fd70-4eb1-ccc4-c3b6999d705a"
      },
      "source": [
        "song_popularity.sort_values().tail()"
      ],
      "execution_count": 42,
      "outputs": [
        {
          "output_type": "execute_result",
          "data": {
            "text/plain": [
              "release                         release                       \n",
              "Dog Days Are Over (Radio Edit)  Dog Days Are Over (Radio Edit)    3780\n",
              "Use Somebody                    Use Somebody                      3822\n",
              "You're The One                  You're The One                    4270\n",
              "Undo                            Undo                              4483\n",
              "Sehr kosmisch                   Sehr kosmisch                     5043\n",
              "Name: release, dtype: int64"
            ]
          },
          "metadata": {
            "tags": []
          },
          "execution_count": 42
        }
      ]
    },
    {
      "cell_type": "code",
      "metadata": {
        "id": "ZUkYzTqru6PO"
      },
      "source": [
        "sorted_song_popularity=song_popularity.sort_values(ascending=False)"
      ],
      "execution_count": 43,
      "outputs": []
    },
    {
      "cell_type": "code",
      "metadata": {
        "id": "OP5XuzCcyQmj"
      },
      "source": [
        "# plot betweeen popularity and song"
      ],
      "execution_count": 44,
      "outputs": []
    },
    {
      "cell_type": "code",
      "metadata": {
        "id": "t_gafLfyyRmH",
        "colab": {
          "base_uri": "https://localhost:8080/",
          "height": 500
        },
        "outputId": "ea91a041-bae5-4a67-9309-5b852dedf7c3"
      },
      "source": [
        "sorted_song_popularity.plot.line()\n",
        "plt.xticks(rotation=45)\n",
        "plt.title('popularity and song')"
      ],
      "execution_count": 45,
      "outputs": [
        {
          "output_type": "execute_result",
          "data": {
            "text/plain": [
              "Text(0.5, 1.0, 'popularity and song')"
            ]
          },
          "metadata": {
            "tags": []
          },
          "execution_count": 45
        },
        {
          "output_type": "display_data",
          "data": {
            "image/png": "[encoded data removed]",
            "text/plain": [
              "<Figure size 432x288 with 1 Axes>"
            ]
          },
          "metadata": {
            "tags": [],
            "needs_background": "light"
          }
        }
      ]
    },
    {
      "cell_type": "code",
      "metadata": {
        "id": "cEPBO61SyRxX",
        "outputId": "5d457411-da21-47bb-b12d-071ab5d3cf6e",
        "colab": {
          "base_uri": "https://localhost:8080/"
        }
      },
      "source": [
        "song_df.columns"
      ],
      "execution_count": 46,
      "outputs": [
        {
          "output_type": "execute_result",
          "data": {
            "text/plain": [
              "Index(['user_id', 'song_id', 'freq', 'track_id', 'artist_name', 'release'], dtype='object')"
            ]
          },
          "metadata": {
            "tags": []
          },
          "execution_count": 46
        }
      ]
    },
    {
      "cell_type": "code",
      "metadata": {
        "id": "eNbFkj_4yR_n"
      },
      "source": [
        "repeated=song_df.groupby(['freq'])['song_id'].value_counts()"
      ],
      "execution_count": 47,
      "outputs": []
    },
    {
      "cell_type": "code",
      "metadata": {
        "id": "YSbjT4Syzfv3",
        "outputId": "503ec4ad-8cb1-41cd-804f-8a44cb1f2389",
        "colab": {
          "base_uri": "https://localhost:8080/"
        }
      },
      "source": [
        "repeated"
      ],
      "execution_count": 48,
      "outputs": [
        {
          "output_type": "execute_result",
          "data": {
            "text/plain": [
              "freq  song_id           \n",
              "1     SOFRQTD12A81C233C0    2149\n",
              "      SOWCKVR12A8C142411    2040\n",
              "      SOAXGDH12A8C13F8A1    1693\n",
              "      SODGVGW12AC9075A8D    1616\n",
              "      SOAUWYT12A81C206F1    1597\n",
              "                            ... \n",
              "537   SOFVLYV12A8C145D8F       1\n",
              "582   SONGOJV12AF729AEBD       1\n",
              "597   SOAOXTG12A67021AA7       1\n",
              "646   SOPMHHE12AB01845F6       1\n",
              "923   SOXTUWG12AB018A2E2       1\n",
              "Name: song_id, Length: 406253, dtype: int64"
            ]
          },
          "metadata": {
            "tags": []
          },
          "execution_count": 48
        }
      ]
    },
    {
      "cell_type": "code",
      "metadata": {
        "id": "VpW4mT52zfsh",
        "outputId": "e2091dc9-f055-4648-fc6b-225bedca8c61",
        "colab": {
          "base_uri": "https://localhost:8080/",
          "height": 462
        }
      },
      "source": [
        "repeated.plot.line()\n",
        "plt.xticks(rotation=90)"
      ],
      "execution_count": 55,
      "outputs": [
        {
          "output_type": "execute_result",
          "data": {
            "text/plain": [
              "(array([-50000.,      0.,  50000., 100000., 150000., 200000., 250000.,\n",
              "        300000., 350000., 400000., 450000.]),\n",
              " <a list of 11 Text major ticklabel objects>)"
            ]
          },
          "metadata": {
            "tags": []
          },
          "execution_count": 55
        },
        {
          "output_type": "display_data",
          "data": {
            "image/png": "[encoded data removed]",
            "text/plain": [
              "<Figure size 432x288 with 1 Axes>"
            ]
          },
          "metadata": {
            "tags": [],
            "needs_background": "light"
          }
        }
      ]
    },
    {
      "cell_type": "code",
      "metadata": {
        "id": "TepXR9Slzfnf",
        "outputId": "0111ceb3-82a8-4bdd-86a5-e0e7375ad068",
        "colab": {
          "base_uri": "https://localhost:8080/"
        }
      },
      "source": [
        "repeated.dtype"
      ],
      "execution_count": 50,
      "outputs": [
        {
          "output_type": "execute_result",
          "data": {
            "text/plain": [
              "dtype('int64')"
            ]
          },
          "metadata": {
            "tags": []
          },
          "execution_count": 50
        }
      ]
    },
    {
      "cell_type": "code",
      "metadata": {
        "id": "EzVkSP1p0Adt",
        "outputId": "b2356f02-825e-4b11-c1e4-4206c858b14a",
        "colab": {
          "base_uri": "https://localhost:8080/"
        }
      },
      "source": [
        "song_df.columns"
      ],
      "execution_count": 51,
      "outputs": [
        {
          "output_type": "execute_result",
          "data": {
            "text/plain": [
              "Index(['user_id', 'song_id', 'freq', 'track_id', 'artist_name', 'release'], dtype='object')"
            ]
          },
          "metadata": {
            "tags": []
          },
          "execution_count": 51
        }
      ]
    },
    {
      "cell_type": "code",
      "metadata": {
        "id": "CeaIkP9a0Aaf"
      },
      "source": [
        "song_grouped=song_df.groupby(['release']).agg({'freq':'count'}).reset_index()"
      ],
      "execution_count": 52,
      "outputs": []
    },
    {
      "cell_type": "code",
      "metadata": {
        "id": "ORWobYrI0AXi",
        "outputId": "19b18f25-5e17-46a4-f8bc-8e6ab09aa7ce",
        "colab": {
          "base_uri": "https://localhost:8080/",
          "height": 203
        }
      },
      "source": [
        "song_grouped.head()"
      ],
      "execution_count": 53,
      "outputs": [
        {
          "output_type": "execute_result",
          "data": {
            "text/html": [
              "<div>\n",
              "<style scoped>\n",
              "    .dataframe tbody tr th:only-of-type {\n",
              "        vertical-align: middle;\n",
              "    }\n",
              "\n",
              "    .dataframe tbody tr th {\n",
              "        vertical-align: top;\n",
              "    }\n",
              "\n",
              "    .dataframe thead th {\n",
              "        text-align: right;\n",
              "    }\n",
              "</style>\n",
              "<table border=\"1\" class=\"dataframe\">\n",
              "  <thead>\n",
              "    <tr style=\"text-align: right;\">\n",
              "      <th></th>\n",
              "      <th>release</th>\n",
              "      <th>freq</th>\n",
              "    </tr>\n",
              "  </thead>\n",
              "  <tbody>\n",
              "    <tr>\n",
              "      <th>0</th>\n",
              "      <td>Ef Ég Hefði Aldrei...</td>\n",
              "      <td>1</td>\n",
              "    </tr>\n",
              "    <tr>\n",
              "      <th>1</th>\n",
              "      <td>Light Mass Prayers</td>\n",
              "      <td>4</td>\n",
              "    </tr>\n",
              "    <tr>\n",
              "      <th>2</th>\n",
              "      <td>The Arsonist Story\":  Evil Craves Attention/O...</td>\n",
              "      <td>1</td>\n",
              "    </tr>\n",
              "    <tr>\n",
              "      <th>3</th>\n",
              "      <td>Ég Átti Gráa Æsku</td>\n",
              "      <td>4</td>\n",
              "    </tr>\n",
              "    <tr>\n",
              "      <th>4</th>\n",
              "      <td>(Jack The Stripper)</td>\n",
              "      <td>2</td>\n",
              "    </tr>\n",
              "  </tbody>\n",
              "</table>\n",
              "</div>"
            ],
            "text/plain": [
              "                                             release  freq\n",
              "0                             \n",
              "Ef Ég Hefði Aldrei...     1\n",
              "1                                \n",
              "Light Mass Prayers     4\n",
              "2  \n",
              "The Arsonist Story\":  Evil Craves Attention/O...     1\n",
              "3                                 \n",
              "Ég Átti Gráa Æsku     4\n",
              "4                                (Jack The Stripper)     2"
            ]
          },
          "metadata": {
            "tags": []
          },
          "execution_count": 53
        }
      ]
    },
    {
      "cell_type": "code",
      "metadata": {
        "id": "PF_CxOjA0AUj",
        "outputId": "6d72a2fd-e7aa-44fc-96aa-bdeb83e92e22",
        "colab": {
          "base_uri": "https://localhost:8080/",
          "height": 417
        }
      },
      "source": [
        "grouped_sum=song_grouped['freq'].sum()\n",
        "song_grouped['percentage']=(song_grouped['freq']/grouped_sum)*100\n",
        "song_grouped.sort_values(['freq','release'],ascending=[0,1])"
      ],
      "execution_count": 54,
      "outputs": [
        {
          "output_type": "execute_result",
          "data": {
            "text/html": [
              "<div>\n",
              "<style scoped>\n",
              "    .dataframe tbody tr th:only-of-type {\n",
              "        vertical-align: middle;\n",
              "    }\n",
              "\n",
              "    .dataframe tbody tr th {\n",
              "        vertical-align: top;\n",
              "    }\n",
              "\n",
              "    .dataframe thead th {\n",
              "        text-align: right;\n",
              "    }\n",
              "</style>\n",
              "<table border=\"1\" class=\"dataframe\">\n",
              "  <thead>\n",
              "    <tr style=\"text-align: right;\">\n",
              "      <th></th>\n",
              "      <th>release</th>\n",
              "      <th>freq</th>\n",
              "      <th>percentage</th>\n",
              "    </tr>\n",
              "  </thead>\n",
              "  <tbody>\n",
              "    <tr>\n",
              "      <th>98845</th>\n",
              "      <td>Sehr kosmisch</td>\n",
              "      <td>5043</td>\n",
              "      <td>0.338014</td>\n",
              "    </tr>\n",
              "    <tr>\n",
              "      <th>125437</th>\n",
              "      <td>Undo</td>\n",
              "      <td>4483</td>\n",
              "      <td>0.300479</td>\n",
              "    </tr>\n",
              "    <tr>\n",
              "      <th>136114</th>\n",
              "      <td>You're The One</td>\n",
              "      <td>4270</td>\n",
              "      <td>0.286202</td>\n",
              "    </tr>\n",
              "    <tr>\n",
              "      <th>126033</th>\n",
              "      <td>Use Somebody</td>\n",
              "      <td>3822</td>\n",
              "      <td>0.256175</td>\n",
              "    </tr>\n",
              "    <tr>\n",
              "      <th>28727</th>\n",
              "      <td>Dog Days Are Over (Radio Edit)</td>\n",
              "      <td>3780</td>\n",
              "      <td>0.253360</td>\n",
              "    </tr>\n",
              "    <tr>\n",
              "      <th>...</th>\n",
              "      <td>...</td>\n",
              "      <td>...</td>\n",
              "      <td>...</td>\n",
              "    </tr>\n",
              "    <tr>\n",
              "      <th>137656</th>\n",
              "      <td>Último Desejo</td>\n",
              "      <td>1</td>\n",
              "      <td>0.000067</td>\n",
              "    </tr>\n",
              "    <tr>\n",
              "      <th>137658</th>\n",
              "      <td>Über Grenzen Geh'n</td>\n",
              "      <td>1</td>\n",
              "      <td>0.000067</td>\n",
              "    </tr>\n",
              "    <tr>\n",
              "      <th>137660</th>\n",
              "      <td>Übers Geld (Skit)</td>\n",
              "      <td>1</td>\n",
              "      <td>0.000067</td>\n",
              "    </tr>\n",
              "    <tr>\n",
              "      <th>137662</th>\n",
              "      <td>Üdvözöl A Pokol</td>\n",
              "      <td>1</td>\n",
              "      <td>0.000067</td>\n",
              "    </tr>\n",
              "    <tr>\n",
              "      <th>137669</th>\n",
              "      <td>þetta Gerist á Bestu Bæjum</td>\n",
              "      <td>1</td>\n",
              "      <td>0.000067</td>\n",
              "    </tr>\n",
              "  </tbody>\n",
              "</table>\n",
              "<p>137670 rows × 3 columns</p>\n",
              "</div>"
            ],
            "text/plain": [
              "                               release  freq  percentage\n",
              "98845                    Sehr kosmisch  5043    0.338014\n",
              "125437                            Undo  4483    0.300479\n",
              "136114                  You're The One  4270    0.286202\n",
              "126033                    Use Somebody  3822    0.256175\n",
              "28727   Dog Days Are Over (Radio Edit)  3780    0.253360\n",
              "...                                ...   ...         ...\n",
              "137656                   Último Desejo     1    0.000067\n",
              "137658              Über Grenzen Geh'n     1    0.000067\n",
              "137660               Übers Geld (Skit)     1    0.000067\n",
              "137662                 Üdvözöl A Pokol     1    0.000067\n",
              "137669      þetta Gerist á Bestu Bæjum     1    0.000067\n",
              "\n",
              "[137670 rows x 3 columns]"
            ]
          },
          "metadata": {
            "tags": []
          },
          "execution_count": 54
        }
      ]
    },
    {
      "cell_type": "code",
      "metadata": {
        "id": "tmgWkKRs0Lss"
      },
      "source": [
        ""
      ],
      "execution_count": 54,
      "outputs": []
    }
  ]
}