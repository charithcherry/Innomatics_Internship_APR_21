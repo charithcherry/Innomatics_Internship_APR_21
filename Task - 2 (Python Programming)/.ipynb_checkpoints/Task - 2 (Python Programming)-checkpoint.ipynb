{
 "cells": [
  {
   "cell_type": "code",
   "execution_count": 2,
   "metadata": {},
   "outputs": [
    {
     "name": "stdout",
     "output_type": "stream",
     "text": [
      "2\n",
      "2\n",
      "2\n",
      "2\n",
      "[[0, 0, 0], [0, 0, 1], [0, 1, 0], [0, 1, 2], [0, 2, 1], [0, 2, 2], [1, 0, 0], [1, 0, 2], [1, 1, 1], [1, 1, 2], [1, 2, 0], [1, 2, 1], [1, 2, 2], [2, 0, 1], [2, 0, 2], [2, 1, 0], [2, 1, 1], [2, 1, 2], [2, 2, 0], [2, 2, 1], [2, 2, 2]]\n"
     ]
    }
   ],
   "source": [
    "#question1\n",
    "x = int(input())\n",
    "y = int(input())\n",
    "z = int(input())\n",
    "n = int(input())\n",
    "    \n",
    "res = [[i, j, k] for i in range(x + 1) for j in range(y + 1) for k in range(z + 1)if              i + j + k != n]\n",
    "print(res)\n"
   ]
  },
  {
   "cell_type": "code",
   "execution_count": 3,
   "metadata": {},
   "outputs": [
    {
     "name": "stdout",
     "output_type": "stream",
     "text": [
      "5\n",
      "2 3 6 6 5\n",
      "5\n"
     ]
    }
   ],
   "source": [
    "#question2\n",
    "n = int(input())\n",
    "arr = map(int, input().split())\n",
    "x=set(arr)\n",
    "y = sorted(list(x))\n",
    "print(y[-2])\n",
    "    "
   ]
  },
  {
   "cell_type": "code",
   "execution_count": 4,
   "metadata": {},
   "outputs": [
    {
     "name": "stdout",
     "output_type": "stream",
     "text": [
      "5\n",
      "harry\n",
      "37.21\n",
      "berry\n",
      "37.21\n",
      "tina\n",
      "37.2\n",
      "ak\n",
      "41\n",
      "harsh\n",
      "39\n",
      "berry\n",
      "harry\n"
     ]
    }
   ],
   "source": [
    "#question3\n",
    "sg=[]\n",
    "for _ in range(int(input())):\n",
    "        name = input()\n",
    "        score = float(input())\n",
    "        sg.append([name,score])\n",
    "        \n",
    "ss=sorted(list(set([x[1] for x in sg])))\n",
    "second=ss[1]\n",
    "    \n",
    "lf=[]\n",
    "for i in sg:\n",
    "        if second==i[1]:\n",
    "            lf.append(i[0])\n",
    "            \n",
    "for i in sorted(lf):\n",
    "        print(i)  "
   ]
  },
  {
   "cell_type": "code",
   "execution_count": 5,
   "metadata": {},
   "outputs": [
    {
     "name": "stdout",
     "output_type": "stream",
     "text": [
      "2\n",
      "Harsh 25 26.5 28\n",
      "Anurag 26 28 30\n",
      "Harsh\n",
      "26.50\n"
     ]
    }
   ],
   "source": [
    "#question4\n",
    "n = int(input())\n",
    "student_marks = {}\n",
    "for _ in range(n):\n",
    "        name, *line = input().split()\n",
    "        scores = list(map(float, line))\n",
    "        student_marks[name] = scores\n",
    "name = input()\n",
    "score=student_marks[name]\n",
    "a=(sum(score)/len(score))\n",
    "print(\"{0:.2f}\".format(a))"
   ]
  },
  {
   "cell_type": "code",
   "execution_count": 6,
   "metadata": {},
   "outputs": [
    {
     "name": "stdout",
     "output_type": "stream",
     "text": [
      "12\n",
      "insert 0 5\n",
      "insert 1 10\n",
      "insert 0 6\n",
      "print\n",
      "[6, 5, 10]\n",
      "remove 6\n",
      "append 9\n",
      "append 1\n",
      "sort\n",
      "print\n",
      "[1, 5, 9, 10]\n",
      "pop\n",
      "reverse\n",
      "print\n",
      "[9, 5, 1]\n"
     ]
    }
   ],
   "source": [
    "#question5\n",
    "if __name__ == '__main__':\n",
    "    N = int(input())\n",
    "    arr=[]\n",
    "    for i in range(N):\n",
    "        s=input().split()\n",
    "        for j in range(1,len(s)):\n",
    "            s[j]=int(s[j])        \n",
    "        if s[0] == \"append\":\n",
    "            arr.append(s[1])\n",
    "        elif s[0] == \"insert\":\n",
    "            arr.insert(s[1],s[2])\n",
    "        elif s[0] == \"remove\":\n",
    "            arr.remove(s[1])\n",
    "        elif s[0] == \"pop\":\n",
    "            arr.pop()\n",
    "        elif s[0] == \"sort\":\n",
    "            arr.sort()\n",
    "        elif s[0] == \"print\":\n",
    "            print(arr)\n",
    "        elif s[0] == \"reverse\":\n",
    "            arr.reverse()\n"
   ]
  },
  {
   "cell_type": "code",
   "execution_count": 14,
   "metadata": {},
   "outputs": [
    {
     "name": "stdout",
     "output_type": "stream",
     "text": [
      "2\n",
      "1 2\n",
      "-3550055125485641917\n"
     ]
    }
   ],
   "source": [
    "#question6\n",
    "if __name__ == '__main__':\n",
    "    n = int(input())\n",
    "    integer_list = map(int, input().split())\n",
    "    x=()\n",
    "    for i in integer_list:\n",
    "        x=x+(i,)\n",
    "    print(hash(x))"
   ]
  },
  {
   "cell_type": "code",
   "execution_count": 15,
   "metadata": {},
   "outputs": [
    {
     "name": "stdout",
     "output_type": "stream",
     "text": [
      "10\n",
      "161 182 161 154 176 170 167 171 170 174\n",
      "169.375\n"
     ]
    }
   ],
   "source": [
    "#question7\n",
    "def average(array):\n",
    "    # your code goes here\n",
    "    x=set(array)\n",
    "    return sum(x)/len(x)\n",
    "    \n",
    "\n",
    "if __name__ == '__main__':\n",
    "    n = int(input())\n",
    "    arr = list(map(int, input().split()))\n",
    "    result = average(arr)\n",
    "    print(result)"
   ]
  },
  {
   "cell_type": "code",
   "execution_count": 16,
   "metadata": {},
   "outputs": [
    {
     "name": "stdout",
     "output_type": "stream",
     "text": [
      "3 2\n",
      "1 5 3\n",
      "3 1\n",
      "5 7\n",
      "1\n"
     ]
    }
   ],
   "source": [
    "#question8\n",
    "x = map(int,input().split())\n",
    "n = map(int, input().split())\n",
    "A = set(map(int, input().split()))\n",
    "B = set(map(int, input().split()))\n",
    "\n",
    "counter = 0\n",
    "for i in n:\n",
    "    if i in A:\n",
    "        counter += 1\n",
    "    elif i in B:\n",
    "        counter -= 1\n",
    "\n",
    "print(counter)\n"
   ]
  },
  {
   "cell_type": "code",
   "execution_count": 17,
   "metadata": {},
   "outputs": [
    {
     "name": "stdout",
     "output_type": "stream",
     "text": [
      "4\n",
      "2 4 5 9 \n",
      "4\n",
      "2 4 11 12\n",
      "5\n",
      "9\n",
      "11\n",
      "12\n"
     ]
    }
   ],
   "source": [
    "#question9\n",
    "\n",
    "n1=int(input())\n",
    "s1=set(list(map(int,input().split())))\n",
    "n2=int(input())\n",
    "s2=set(list(map(int,input().split())))\n",
    "s3 = (s1.difference(s2)).union(s2.difference(s1))\n",
    "for i in sorted(list(s3)):\n",
    "        print(i)  \n",
    "    \n"
   ]
  },
  {
   "cell_type": "code",
   "execution_count": 18,
   "metadata": {},
   "outputs": [
    {
     "name": "stdout",
     "output_type": "stream",
     "text": [
      "7\n",
      "Uk\n",
      "india\n",
      "usa\n",
      "france\n",
      "nz\n",
      "Uk\n",
      "france\n",
      "5\n"
     ]
    }
   ],
   "source": [
    "#question10\n",
    "\n",
    "n=int(input())\n",
    "x=set()\n",
    "for i in range(0,n):\n",
    "    x.add(input())\n",
    "print(len(x))\n",
    "    "
   ]
  },
  {
   "cell_type": "code",
   "execution_count": 19,
   "metadata": {},
   "outputs": [
    {
     "name": "stdout",
     "output_type": "stream",
     "text": [
      "9\n",
      "1 2 3 4 5 6 7 8 9\n",
      "10\n",
      "pop\n",
      "remove 9\n",
      "discard 9\n",
      "discard 8\n",
      "remove 7\n",
      "pop \n",
      "discard 6\n",
      "remove 5\n",
      "pop \n",
      "discard 5\n",
      "4\n"
     ]
    }
   ],
   "source": [
    "#question11\n",
    "n = int(input())\n",
    "s = set(map(int,input().split())) \n",
    "a = int(input())\n",
    "\n",
    "for i in range(a):\n",
    "    x = []\n",
    "    x = input().split()\n",
    "    if x[0] == 'pop':\n",
    "        s.pop()\n",
    "    elif x[0] == 'remove':\n",
    "        s.remove(int(x[1]))\n",
    "    elif x[0] == 'discard':\n",
    "        s.discard(int(x[1]))\n",
    "\n",
    "\n",
    "print(sum(s))\n",
    "\n"
   ]
  },
  {
   "cell_type": "code",
   "execution_count": 20,
   "metadata": {},
   "outputs": [
    {
     "name": "stdout",
     "output_type": "stream",
     "text": [
      "9\n",
      "1 2 3 4 5 6 7 8 9\n",
      "9\n",
      "10 1 2 3 11 21 55 6 8\n",
      "13\n"
     ]
    }
   ],
   "source": [
    "#question12\n",
    "\n",
    "n1 = input()\n",
    "s1 = set(map(int,input().split()))\n",
    "n2 = input()\n",
    "s2 = set(map(int,input().split()))\n",
    "\n",
    "s3 = s1.union(s2)\n",
    "\n",
    "\n",
    "print(len(s3))\n"
   ]
  },
  {
   "cell_type": "code",
   "execution_count": 22,
   "metadata": {},
   "outputs": [
    {
     "name": "stdout",
     "output_type": "stream",
     "text": [
      "9\n",
      "1 2 3 4 5 6 7 8 9\n",
      "9\n",
      "10 1 2 3 11 21 55 6 8\n",
      "5\n"
     ]
    }
   ],
   "source": [
    "#question13\n",
    "\n",
    "\n",
    "n1 = input()\n",
    "s1 = set(map(int,input().split()))\n",
    "n2 = input()\n",
    "s2 = set(map(int,input().split()))\n",
    "\n",
    "s3 = s1.intersection(s2)\n",
    "\n",
    "\n",
    "print(len(s3))\n"
   ]
  },
  {
   "cell_type": "code",
   "execution_count": 23,
   "metadata": {},
   "outputs": [
    {
     "name": "stdout",
     "output_type": "stream",
     "text": [
      "9\n",
      "1 2 3 4 5 6 7 8 9\n",
      "9\n",
      "10 1 2 3 11 21 55 6 8\n",
      "4\n"
     ]
    }
   ],
   "source": [
    "#question14\n",
    "\n",
    "\n",
    "\n",
    "n1 = input()\n",
    "s1 = set(map(int,input().split()))\n",
    "n2 = input()\n",
    "s2 = set(map(int,input().split()))\n",
    "\n",
    "s3 = s1.difference(s2)\n",
    "\n",
    "\n",
    "print(len(s3))\n"
   ]
  },
  {
   "cell_type": "code",
   "execution_count": 24,
   "metadata": {},
   "outputs": [
    {
     "name": "stdout",
     "output_type": "stream",
     "text": [
      "9\n",
      "1 2 3 4 5 6 7 8 9\n",
      "9\n",
      "10 1 2 3 11 21 55 6 8\n",
      "8\n"
     ]
    }
   ],
   "source": [
    "#question15\n",
    "\n",
    "\n",
    "\n",
    "n1 = input()\n",
    "s1 = set(map(int,input().split()))\n",
    "n2 = input()\n",
    "s2 = set(map(int,input().split()))\n",
    "\n",
    "s3 = s1.symmetric_difference(s2)\n",
    "\n",
    "\n",
    "print(len(s3))\n"
   ]
  },
  {
   "cell_type": "code",
   "execution_count": 25,
   "metadata": {},
   "outputs": [
    {
     "name": "stdout",
     "output_type": "stream",
     "text": [
      "16\n",
      " 1 2 3 4 5 6 7 8 9 10 11 12 13 14 24 52\n",
      "4\n",
      " intersection_update 10\n",
      " 2 3 5 6 8 9 1 4 7 11\n",
      " update 2\n",
      " 55 66\n",
      " symmetric_difference_update 5\n",
      " 22 7 35 62 58\n",
      " difference_update 7\n",
      " 11 22 35 55 58 62 66\n",
      "38\n"
     ]
    }
   ],
   "source": [
    "#quesion16\n",
    "N = input()\n",
    "x = set(map(int,input().split()))\n",
    "\n",
    "n = int(input())\n",
    "\n",
    "for i in range(n):\n",
    "    k = input().split()\n",
    "    ktemp = set(map(int,input().split()))\n",
    "    if k[0] == 'update':\n",
    "        x.update(ktemp)\n",
    "    elif k[0] == 'intersection_update':\n",
    "        x.intersection_update(ktemp)\n",
    "    elif k[0] == 'difference_update':\n",
    "        x.difference_update(ktemp)\n",
    "    elif k[0] == 'symmetric_difference_update':\n",
    "        x.symmetric_difference_update(ktemp)\n",
    "\n",
    "\n",
    "print(sum(x))\n"
   ]
  },
  {
   "cell_type": "code",
   "execution_count": 26,
   "metadata": {},
   "outputs": [
    {
     "name": "stdout",
     "output_type": "stream",
     "text": [
      "5\n",
      "1 2 3 6 5 4 4 2 5 3 6 1 6 5 3 2 4 1 2 5 1 4 3 6 8 4 3 1 5 6 2 \n",
      "8\n"
     ]
    }
   ],
   "source": [
    "#question17\n",
    "\n",
    "\n",
    "n=int(input())\n",
    "x=list(map(int,input().split()))\n",
    "freq = {} \n",
    "for item in x: \n",
    "    if (item in freq): \n",
    "            freq[item] += 1\n",
    "    else: \n",
    "            freq[item] = 1\n",
    "            \n",
    "fre= sorted(freq, key=freq.get)  \n",
    "print(fre[0])\n"
   ]
  },
  {
   "cell_type": "code",
   "execution_count": 27,
   "metadata": {},
   "outputs": [
    {
     "name": "stdout",
     "output_type": "stream",
     "text": [
      "3\n",
      "5\n",
      "1 2 3 5 6\n",
      "9\n",
      "9 8 5 6 3 2 1 4 7\n",
      "True\n",
      "1\n",
      "2\n",
      "5\n",
      "3 6 5 4 1\n",
      "False\n",
      "7\n",
      "1 2 3 5 6 8 9\n",
      "3\n",
      "9 8 2\n",
      "False\n"
     ]
    }
   ],
   "source": [
    "#question18\n",
    "\n",
    "n=int(input())\n",
    "for i in range(n):   \n",
    "    a = int(input())\n",
    "    A = set(input().split())\n",
    "    b = int(input())\n",
    "    B = set(input().split())\n",
    "    if A.issubset(B) :\n",
    "         print('True')\n",
    "    else : \n",
    "        print('False')\n"
   ]
  },
  {
   "cell_type": "code",
   "execution_count": 28,
   "metadata": {},
   "outputs": [
    {
     "name": "stdout",
     "output_type": "stream",
     "text": [
      "1 2 3 4 5 6 7 8 9 10 11 12 23 45 84 78\n",
      "2\n",
      "1 2 3 4 5\n",
      "100 11 12\n",
      "False\n"
     ]
    }
   ],
   "source": [
    "#question19\n",
    "\n",
    "s1 = set(input().split())\n",
    "n = int(input())\n",
    "res = True\n",
    "\n",
    "for i in range(n):\n",
    "    s2 = set(input().split())\n",
    "    if not s2.issubset(s1):\n",
    "        res = False\n",
    "    if len(s2) >= len(s1):\n",
    "        res= False\n",
    "\n",
    "print(res)\n"
   ]
  }
 ],
 "metadata": {
  "kernelspec": {
   "display_name": "Python 3",
   "language": "python",
   "name": "python3"
  },
  "language_info": {
   "codemirror_mode": {
    "name": "ipython",
    "version": 3
   },
   "file_extension": ".py",
   "mimetype": "text/x-python",
   "name": "python",
   "nbconvert_exporter": "python",
   "pygments_lexer": "ipython3",
   "version": "3.8.9"
  }
 },
 "nbformat": 4,
 "nbformat_minor": 4
}
