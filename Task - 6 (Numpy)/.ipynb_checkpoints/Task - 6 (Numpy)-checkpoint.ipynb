{
 "cells": [
  {
   "cell_type": "code",
   "execution_count": 1,
   "metadata": {},
   "outputs": [
    {
     "name": "stdout",
     "output_type": "stream",
     "text": [
      "1 2 3 4 -8 -10\n",
      "[-10.  -8.   4.   3.   2.   1.]\n"
     ]
    }
   ],
   "source": [
    "#question1\n",
    "import numpy\n",
    "\n",
    "def arrays(arr):\n",
    "    # complete this function\n",
    "    # use numpy.array\n",
    "    return numpy.array(arr[::-1],dtype='float')\n",
    "    \n",
    "    \n",
    "arr = input().strip().split(' ')\n",
    "result = arrays(arr)\n",
    "print(result)"
   ]
  },
  {
   "cell_type": "code",
   "execution_count": 2,
   "metadata": {},
   "outputs": [
    {
     "name": "stdout",
     "output_type": "stream",
     "text": [
      "1 2 3 4 5 6 7 8 9\n",
      "[[1 2 3]\n",
      " [4 5 6]\n",
      " [7 8 9]]\n"
     ]
    }
   ],
   "source": [
    "#question2\n",
    "import numpy\n",
    "\n",
    "\n",
    "\n",
    "\n",
    "arr = input().strip().split(' ')\n",
    "arr=numpy.array(arr,dtype='int')\n",
    "print (numpy.reshape(arr,(3,3)))\n",
    "\n",
    "\n",
    "\n"
   ]
  },
  {
   "cell_type": "code",
   "execution_count": 3,
   "metadata": {},
   "outputs": [
    {
     "name": "stdout",
     "output_type": "stream",
     "text": [
      "2 2\n",
      "1 2\n",
      "3 4\n",
      "[[1 3]\n",
      " [2 4]]\n",
      "[1 2 3 4]\n"
     ]
    }
   ],
   "source": [
    "#question3\n",
    "import numpy\n",
    "\n",
    "\n",
    "\n",
    "\n",
    "n, m = map(int, input().split())\n",
    "x = numpy.array([input().strip().split() for _ in range(n)], int)\n",
    "print(x.transpose())\n",
    "print(x.flatten())\n",
    "\n",
    "\n",
    "\n"
   ]
  },
  {
   "cell_type": "code",
   "execution_count": 4,
   "metadata": {},
   "outputs": [
    {
     "name": "stdout",
     "output_type": "stream",
     "text": [
      "4 3 2\n",
      "1 2\n",
      "1 2\n",
      "1 2\n",
      "1 2\n",
      "3 4\n",
      "3 4\n",
      "3 4\n",
      "[[1 2]\n",
      " [1 2]\n",
      " [1 2]\n",
      " [1 2]\n",
      " [3 4]\n",
      " [3 4]\n",
      " [3 4]]\n"
     ]
    }
   ],
   "source": [
    "#question4\n",
    "import numpy\n",
    "\n",
    "\n",
    "x = input().split()\n",
    "n = numpy.array([input().split() for i in range(int(x[0]))], dtype='int')\n",
    "m = numpy.array([input().split() for i in range(int(x[1]))],dtype='int')\n",
    "\n",
    "print(numpy.concatenate((n, m)))\n",
    "\n"
   ]
  },
  {
   "cell_type": "code",
   "execution_count": 5,
   "metadata": {},
   "outputs": [
    {
     "name": "stdout",
     "output_type": "stream",
     "text": [
      "3 3 3\n",
      "[[[0 0 0]\n",
      "  [0 0 0]\n",
      "  [0 0 0]]\n",
      "\n",
      " [[0 0 0]\n",
      "  [0 0 0]\n",
      "  [0 0 0]]\n",
      "\n",
      " [[0 0 0]\n",
      "  [0 0 0]\n",
      "  [0 0 0]]]\n",
      "[[[1 1 1]\n",
      "  [1 1 1]\n",
      "  [1 1 1]]\n",
      "\n",
      " [[1 1 1]\n",
      "  [1 1 1]\n",
      "  [1 1 1]]\n",
      "\n",
      " [[1 1 1]\n",
      "  [1 1 1]\n",
      "  [1 1 1]]]\n"
     ]
    }
   ],
   "source": [
    "#question5\n",
    "import numpy\n",
    "\n",
    "\n",
    "\n",
    "x=list(map(int,input().split()))\n",
    "print(numpy.zeros(x,dtype ='int'))\n",
    "print(numpy.ones(x,dtype = 'int'))\n",
    "    \n"
   ]
  },
  {
   "cell_type": "code",
   "execution_count": 16,
   "metadata": {},
   "outputs": [
    {
     "name": "stdout",
     "output_type": "stream",
     "text": [
      "3 3\n",
      "[[ 1.  0.  0.]\n",
      " [ 0.  1.  0.]\n",
      " [ 0.  0.  1.]]\n"
     ]
    }
   ],
   "source": [
    "#question6\n",
    "import numpy\n",
    "numpy.set_printoptions(sign=' ')\n",
    "x=list(map(int, input().split()))\n",
    "print(numpy.eye(x[0],x[1]))\n"
   ]
  },
  {
   "cell_type": "code",
   "execution_count": 6,
   "metadata": {},
   "outputs": [
    {
     "name": "stdout",
     "output_type": "stream",
     "text": [
      "1 4\n",
      "1 2 3 4\n",
      "5 6 7 8\n",
      "[[ 6  8 10 12]]\n",
      "[[-4 -4 -4 -4]]\n",
      "[[ 5 12 21 32]]\n",
      "[[0 0 0 0]]\n",
      "[[1 2 3 4]]\n",
      "[[    1    64  2187 65536]]\n"
     ]
    }
   ],
   "source": [
    "#question7\n",
    "import numpy\n",
    "n= list(map(int,input().split()))\n",
    "\n",
    "x = numpy.array([list(map(int, input().split())) for _ in range(n[0])], int)\n",
    "y = numpy.array([list(map(int, input().split())) for _ in range(n[0])], int)\n",
    "    \n",
    "\n",
    "print (numpy.add(x,y))\n",
    "print (numpy.subtract(x,y))\n",
    "print (numpy.multiply(x,y,))\n",
    "print (numpy.floor_divide(x,y))\n",
    "print (numpy.mod(x,y))\n",
    "print (numpy.power(x,y))\n",
    "\n",
    "\n"
   ]
  },
  {
   "cell_type": "code",
   "execution_count": 7,
   "metadata": {},
   "outputs": [
    {
     "name": "stdout",
     "output_type": "stream",
     "text": [
      "1.1 2.2 3.3 4.4 5.5 6.6 7.7 8.8 9.9\n",
      "[ 1.  2.  3.  4.  5.  6.  7.  8.  9.]\n",
      "[  2.   3.   4.   5.   6.   7.   8.   9.  10.]\n",
      "[  1.   2.   3.   4.   6.   7.   8.   9.  10.]\n"
     ]
    }
   ],
   "source": [
    "#question8\n",
    "import numpy\n",
    "\n",
    "numpy.set_printoptions(sign=' ')\n",
    "\n",
    "x = numpy.array(input().split(), float)\n",
    "print (numpy.floor(x))\n",
    "print (numpy.ceil(x))\n",
    "print (numpy.rint(x))\n"
   ]
  },
  {
   "cell_type": "code",
   "execution_count": 8,
   "metadata": {},
   "outputs": [
    {
     "name": "stdout",
     "output_type": "stream",
     "text": [
      "2 2\n",
      "1 2\n",
      "3 4\n",
      "24\n"
     ]
    }
   ],
   "source": [
    "#question9\n",
    "import numpy\n",
    "\n",
    "x= list(map(int, input().split()))\n",
    "\n",
    "y = numpy.array([input().split() for i in range(x[0])], int)\n",
    "\n",
    "z=numpy.sum(y, axis = 0)\n",
    "\n",
    "print(numpy.prod(z, axis = None))\n"
   ]
  },
  {
   "cell_type": "code",
   "execution_count": 10,
   "metadata": {},
   "outputs": [
    {
     "name": "stdout",
     "output_type": "stream",
     "text": [
      "4 2\n",
      "2 5\n",
      "3 7\n",
      "1 3\n",
      "4 0\n",
      "3\n"
     ]
    }
   ],
   "source": [
    "#question10\n",
    "import numpy\n",
    "\n",
    "\n",
    "\n",
    "x = list(map(int, input().split()))\n",
    "\n",
    "y = numpy.array([input().split() for _ in range(x[0])],dtype = int)\n",
    "\n",
    "print(numpy.max(numpy.min(y, axis=1), axis=0))\n"
   ]
  },
  {
   "cell_type": "code",
   "execution_count": 11,
   "metadata": {},
   "outputs": [
    {
     "name": "stdout",
     "output_type": "stream",
     "text": [
      "2 2\n",
      "1 2\n",
      "3 4\n",
      "[ 1.5  3.5]\n",
      "[ 1.  1.]\n",
      "1.11803398875\n"
     ]
    }
   ],
   "source": [
    "#question11\n",
    "import numpy\n",
    "\n",
    "\n",
    "\n",
    "\n",
    "\n",
    "x = list(map(int, input().split()))\n",
    "\n",
    "\n",
    "y = numpy.array([input().split() for _ in range(x[0])],dtype = int)\n",
    "\n",
    "print(numpy.mean(y, axis =1))\n",
    "print(numpy.var(y, axis =0))\n",
    "print(numpy.round(numpy.std(y, axis = None),11))\n",
    "\n"
   ]
  },
  {
   "cell_type": "code",
   "execution_count": 12,
   "metadata": {},
   "outputs": [
    {
     "name": "stdout",
     "output_type": "stream",
     "text": [
      "2\n",
      "1 2\n",
      "3 4\n",
      "1 2\n",
      "3 4\n",
      "[[ 7 10]\n",
      " [15 22]]\n"
     ]
    }
   ],
   "source": [
    "#question12\n",
    "import numpy\n",
    "\n",
    "\n",
    "\n",
    "n = int(input())\n",
    "\n",
    "x = numpy.array([input().split() for _ in range(n)], dtype =int)\n",
    "y = numpy.array([input().split() for _ in range(n)], dtype =int)\n",
    "z = numpy.dot(x,y)\n",
    "print(z)\n"
   ]
  },
  {
   "cell_type": "code",
   "execution_count": 13,
   "metadata": {},
   "outputs": [
    {
     "name": "stdout",
     "output_type": "stream",
     "text": [
      "0 1\n",
      "2 3\n",
      "3\n",
      "[[0 0]\n",
      " [2 3]]\n"
     ]
    }
   ],
   "source": [
    "#question13\n",
    "import numpy\n",
    "\n",
    "\n",
    "\n",
    "\n",
    "x = numpy.array(input().split() , int)\n",
    "y = numpy.array(input().split() , int)\n",
    "print(numpy.inner(x, y))\n",
    "print(numpy.outer(x, y))\n"
   ]
  },
  {
   "cell_type": "code",
   "execution_count": 14,
   "metadata": {},
   "outputs": [
    {
     "name": "stdout",
     "output_type": "stream",
     "text": [
      "1.1 2 3\n",
      "0\n",
      "3.0\n"
     ]
    }
   ],
   "source": [
    "#question14\n",
    "import numpy\n",
    "m = numpy.array(input().split(), float)\n",
    "n = float(input())\n",
    "print(numpy.polyval(m, n))\n"
   ]
  },
  {
   "cell_type": "code",
   "execution_count": 15,
   "metadata": {},
   "outputs": [
    {
     "name": "stdout",
     "output_type": "stream",
     "text": [
      "2\n",
      "1.1 1.1\n",
      "1.1 1.1\n",
      "0.0\n"
     ]
    }
   ],
   "source": [
    "#question15\n",
    "import numpy\n",
    "\n",
    "\n",
    "\n",
    "\n",
    "\n",
    "numpy.set_printoptions(legacy='1.13')\n",
    "\n",
    "n = int(input())\n",
    "x= numpy.array([input().split() for i in range(n)], float)\n",
    "print(numpy.linalg.det(x))\n"
   ]
  },
  {
   "cell_type": "code",
   "execution_count": null,
   "metadata": {},
   "outputs": [],
   "source": []
  }
 ],
 "metadata": {
  "kernelspec": {
   "display_name": "Python 3",
   "language": "python",
   "name": "python3"
  },
  "language_info": {
   "codemirror_mode": {
    "name": "ipython",
    "version": 3
   },
   "file_extension": ".py",
   "mimetype": "text/x-python",
   "name": "python",
   "nbconvert_exporter": "python",
   "pygments_lexer": "ipython3",
   "version": "3.8.9"
  }
 },
 "nbformat": 4,
 "nbformat_minor": 4
}
