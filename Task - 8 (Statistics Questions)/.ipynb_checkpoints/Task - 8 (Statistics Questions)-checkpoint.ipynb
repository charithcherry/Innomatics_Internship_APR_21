{
 "cells": [
  {
   "cell_type": "code",
   "execution_count": 1,
   "metadata": {},
   "outputs": [
    {
     "name": "stdout",
     "output_type": "stream",
     "text": [
      "1.09 1\n",
      "0.696\n"
     ]
    }
   ],
   "source": [
    "#question1\n",
    "# Enter your code here. Read input from STDIN. Print output to STDOUT\n",
    "\n",
    "import math\n",
    "\n",
    "x=list(map(float,input().split()))\n",
    "p = x[0]/(x[1]+x[0])\n",
    "ans = 0\n",
    "for i in range(3):\n",
    "    ans += math.factorial(6) / math.factorial(i) / math.factorial(6-i) * p**i * (1-p)**(6-i)\n",
    "print(round(1-ans, 3))\n"
   ]
  },
  {
   "cell_type": "code",
   "execution_count": 2,
   "metadata": {},
   "outputs": [
    {
     "name": "stdout",
     "output_type": "stream",
     "text": [
      "12 10\n",
      "0.891\n",
      "0.342\n"
     ]
    }
   ],
   "source": [
    "#question2\n",
    "import math\n",
    "\n",
    "x=list(map(float,input().split()))\n",
    "p = x[0]/100.0\n",
    "q =1-p\n",
    "\n",
    "ans = 0\n",
    "\n",
    "\n",
    "for i in range(3):\n",
    "    ans += math.factorial(10) / math.factorial(i) / math.factorial(10-i) * p**i * (1-p)**(10-i)\n",
    "\n",
    "print(round(ans, 3))\n",
    "\n",
    "ans = 0\n",
    "\n",
    "for i in range(2,11):\n",
    "    ans += math.factorial(10) / math.factorial(i) / math.factorial(10-i) * p**i * (1-p)**(10-i)\n",
    "print(round(ans, 3))\n"
   ]
  },
  {
   "cell_type": "code",
   "execution_count": 3,
   "metadata": {},
   "outputs": [
    {
     "name": "stdout",
     "output_type": "stream",
     "text": [
      "20 2\n",
      "19.5\n",
      "20 22\n",
      "0.401\n",
      "0.341\n"
     ]
    }
   ],
   "source": [
    "#question3\n",
    "# Enter your code here. Read input from STDIN. Print output to STDOUT\n",
    "import math\n",
    "\n",
    "\n",
    "def cdf(x, mean, std):\n",
    "    return 1/2*(1+math.erf((x-mean) / std / 2**(1/2)))\n",
    "\n",
    "\n",
    "mean,std = map(float,input().split())\n",
    "x=float(input())\n",
    "y1,y2=map(float,input().split())\n",
    "\n",
    "print(round(cdf(x, mean, std), 3))\n",
    "print(round(cdf(y2, mean, std) - cdf(y1, mean, std), 3))\n"
   ]
  },
  {
   "cell_type": "code",
   "execution_count": 4,
   "metadata": {},
   "outputs": [
    {
     "name": "stdout",
     "output_type": "stream",
     "text": [
      "70 10 \n",
      "80\n",
      "60\n",
      "15.87\n",
      "84.13\n",
      "15.87\n"
     ]
    }
   ],
   "source": [
    "#question4\n",
    "# Enter your code here. Read input from STDIN. Print output to STDOUT\n",
    "import math\n",
    "mean,sd=map(float,input().split())\n",
    "x=float(input())\n",
    "y=float(input())\n",
    "\n",
    "def normalDistribution(x, mean, sd):\n",
    "    return round(0.5 * 100 * (1 + math.erf((x - mean)/ (sd * math.sqrt(2)))), 3)\n",
    "\n",
    "print(round(100 - normalDistribution(x, mean, sd), 2))\n",
    "print(round(100 - normalDistribution(y, mean, sd), 2))\n",
    "print(round(normalDistribution(y, mean,sd), 2))\n"
   ]
  },
  {
   "cell_type": "code",
   "execution_count": 5,
   "metadata": {},
   "outputs": [
    {
     "name": "stdout",
     "output_type": "stream",
     "text": [
      "9800\n",
      "49\n",
      "205\n",
      "15\n",
      "0.009815328628645315\n"
     ]
    }
   ],
   "source": [
    "#question5\n",
    "import math\n",
    "x=float(input())\n",
    "n=float(input())\n",
    "mean=float(input())\n",
    "sd=float(input())\n",
    "def centralLimitTheorem(x,n,mean,sd):\n",
    "    newMean=n*mean\n",
    "    newSd=(n**0.5)*sd     \n",
    "    Z = (x - newMean)/newSd\n",
    "    return 0.5*(1 + math.erf(Z/(math.sqrt(2))))\n",
    "\n",
    "print(centralLimitTheorem(x,n,mean,sd))\n",
    "\n"
   ]
  },
  {
   "cell_type": "code",
   "execution_count": 7,
   "metadata": {},
   "outputs": [
    {
     "name": "stdout",
     "output_type": "stream",
     "text": [
      "250\n",
      "100\n",
      "2.4\n",
      "2\n",
      "0.691462461274013\n"
     ]
    }
   ],
   "source": [
    "#question6\n",
    "# Enter your code here. Read input from STDIN. Print output to STDOUT\n",
    "import math\n",
    "x=float(input())\n",
    "n=float(input())\n",
    "mean=float(input())\n",
    "sd=float(input())\n",
    "def centralLimitTheorem(x,n,mean,sd):\n",
    "    newMean=n*mean\n",
    "    newSd=(n**0.5)*sd     \n",
    "    Z = (x - newMean)/newSd\n",
    "    return 0.5*(1 + math.erf(Z/(math.sqrt(2))))\n",
    "\n",
    "print(centralLimitTheorem(x,n,mean,sd))\n"
   ]
  },
  {
   "cell_type": "code",
   "execution_count": 8,
   "metadata": {},
   "outputs": [
    {
     "name": "stdout",
     "output_type": "stream",
     "text": [
      "484.32\n",
      "515.68\n"
     ]
    }
   ],
   "source": [
    "#question7\n",
    "# Enter your code here. Read input from STDIN. Print output to STDOUT\n",
    "\n",
    "mean = 500\n",
    "std = 80\n",
    "n = 100\n",
    "z = 1.96\n",
    "\n",
    "\n",
    "std = std / n**(1/2)\n",
    "\n",
    "print(round(mean - std * z, 2))\n",
    "print(round(mean + std * z, 2))\n"
   ]
  },
  {
   "cell_type": "code",
   "execution_count": 9,
   "metadata": {},
   "outputs": [
    {
     "name": "stdout",
     "output_type": "stream",
     "text": [
      "10\n",
      "10 9.8 8 7.8 7.7 7 6 5 4 2 \n",
      "200 44 32 24 22 17 15 12 8 4\n",
      "0.612\n"
     ]
    }
   ],
   "source": [
    "#question8\n",
    "n = int(input())\n",
    "a = list(map(float,input().strip().split()))\n",
    "b = list(map(float,input().strip().split()))\n",
    "\n",
    "mux = sum(a) / n\n",
    "muy = sum(b) / n\n",
    "\n",
    "stdx = (sum([(i - mux)**2 for i in a]) / n)**0.5\n",
    "stdy = (sum([(i - muy)**2 for i in b]) / n)**0.5\n",
    "\n",
    "\n",
    "c = sum([(a[i] - mux) * (b[i] -muy) for i in range(n)])\n",
    "\n",
    "p = c / (n * stdx * stdy)\n",
    "\n",
    "print(round(p,3))\n"
   ]
  },
  {
   "cell_type": "code",
   "execution_count": 10,
   "metadata": {},
   "outputs": [
    {
     "name": "stdout",
     "output_type": "stream",
     "text": [
      "78.288\n"
     ]
    }
   ],
   "source": [
    "#question9\n",
    "# Enter your code here. Read input from STDIN. Print output to STDOUT\n",
    "\n",
    "\n",
    "\n",
    "n = 5\n",
    "x = [95, 85, 80, 70, 60]\n",
    "y = [85, 95, 70, 65, 70]\n",
    "meanX = sum(x)/len(x)\n",
    "meanY = sum(y)/len(y)\n",
    "x_s = sum([x[i] ** 2 for i in range(5)])\n",
    "xy = sum([x[i]*y[i] for i in range(5)])\n",
    "\n",
    "b = (n * xy - sum(x) * sum(y)) / (n * x_s - (sum(x) ** 2))\n",
    "a = meanY - b * meanX\n",
    "\n",
    "print (round(a + 80 * b, 3))\n"
   ]
  },
  {
   "cell_type": "code",
   "execution_count": 11,
   "metadata": {},
   "outputs": [
    {
     "name": "stdout",
     "output_type": "stream",
     "text": [
      "2 7\n",
      "0.18 0.89 109.85\n",
      "1.0 0.26 155.72\n",
      "0.92 0.11 137.66\n",
      "0.07 0.37 76.17\n",
      "0.85 0.16 139.75\n",
      "0.99 0.41 162.6\n",
      "0.87 0.47 151.77\n",
      "4\n",
      "0.49 0.18\n",
      "105.21\n",
      "0.57 0.83\n",
      "142.67\n",
      "0.56 0.64\n",
      "132.94\n",
      "0.76 0.18\n",
      "129.7\n"
     ]
    }
   ],
   "source": [
    "#question10\n",
    "\n",
    "from sklearn import linear_model\n",
    "\n",
    "m, n = list(map(int, input().strip().split()))\n",
    "x = [0]*n\n",
    "y = [0]*n\n",
    "\n",
    "for i in range(n):\n",
    "    z = list(map(float, input().strip().split()))\n",
    "    x[i] = z[:-1]\n",
    "    y[i] = z[-1]\n",
    "\n",
    "model= linear_model.LinearRegression()\n",
    "model.fit(x, y)\n",
    "A = model.intercept_\n",
    "B = model.coef_\n",
    "\n",
    "Q = int(input())\n",
    "\n",
    "for i in range(Q):\n",
    "    f = list(map(float, input().split()))\n",
    "    Y = A + sum([B[j] * f[j] for j in range(m)])\n",
    "    print(round(Y, 2))\n"
   ]
  },
  {
   "cell_type": "code",
   "execution_count": null,
   "metadata": {},
   "outputs": [],
   "source": []
  }
 ],
 "metadata": {
  "kernelspec": {
   "display_name": "Python 3",
   "language": "python",
   "name": "python3"
  },
  "language_info": {
   "codemirror_mode": {
    "name": "ipython",
    "version": 3
   },
   "file_extension": ".py",
   "mimetype": "text/x-python",
   "name": "python",
   "nbconvert_exporter": "python",
   "pygments_lexer": "ipython3",
   "version": "3.8.9"
  }
 },
 "nbformat": 4,
 "nbformat_minor": 4
}
